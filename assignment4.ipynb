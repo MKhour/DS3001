{
  "cells": [
    {
      "cell_type": "markdown",
      "id": "e0c7b14a-e5aa-4abc-b48b-b8a9d20dacac",
      "metadata": {
        "id": "e0c7b14a-e5aa-4abc-b48b-b8a9d20dacac"
      },
      "source": [
        "# Assignment #4: Linear Models and Decision Trees\n",
        "## Foundations of Machine Learning\n",
        "## Do Q1 and one other question.\n",
        "### Advice: Reuse your code and code from lectures, package routine tasks into functions, make plans about how you'll carry out the analysis before jumping into writing code, and work as efficiently as possible"
      ]
    },
    {
      "cell_type": "code",
      "source": [
        "!git clone https://github.com/DS3001/assignment4.git"
      ],
      "metadata": {
        "colab": {
          "base_uri": "https://localhost:8080/"
        },
        "id": "qsQmXTzOzu2q",
        "outputId": "fd7d5cbb-a636-497d-e88b-d3b15e637bfa"
      },
      "id": "qsQmXTzOzu2q",
      "execution_count": 2,
      "outputs": [
        {
          "output_type": "stream",
          "name": "stdout",
          "text": [
            "Cloning into 'assignment4'...\n",
            "remote: Enumerating objects: 8, done.\u001b[K\n",
            "remote: Counting objects: 100% (2/2), done.\u001b[K\n",
            "remote: Compressing objects: 100% (2/2), done.\u001b[K\n",
            "remote: Total 8 (delta 0), reused 0 (delta 0), pack-reused 6\u001b[K\n",
            "Receiving objects: 100% (8/8), 265.63 KiB | 7.38 MiB/s, done.\n"
          ]
        }
      ]
    },
    {
      "cell_type": "code",
      "source": [
        "import pandas as pd\n",
        "import numpy as np\n",
        "import seaborn as sns"
      ],
      "metadata": {
        "id": "iRaPzkNl0nSu"
      },
      "id": "iRaPzkNl0nSu",
      "execution_count": 3,
      "outputs": []
    },
    {
      "cell_type": "markdown",
      "source": [
        "# 1"
      ],
      "metadata": {
        "id": "ke2mNJKD01Wa"
      },
      "id": "ke2mNJKD01Wa"
    },
    {
      "cell_type": "markdown",
      "id": "95f22300-0180-4ed2-be8f-ed56cf4cd36b",
      "metadata": {
        "id": "95f22300-0180-4ed2-be8f-ed56cf4cd36b"
      },
      "source": [
        "**Q1.** This question is a case study for linear models and decision trees. The data are about car prices. In particular, they include:\n",
        "\n",
        "  - `Price`, `Color`, `Seating_Capacity`\n",
        "  - `Body_Type`: crossover, hatchback, muv, sedan, suv\n",
        "  - `Make`, `Make_Year`: The brand of car and year produced\n",
        "  - `Mileage_Run`: The number of miles on the odometer\n",
        "  - `Fuel_Type`: Diesel or gasoline/petrol\n",
        "  - `Transmission`, `Transmission_Type`:  speeds and automatic/manual\n",
        "\n",
        "  1. Load `cars_hw.csv`. These data were really dirty, and I've already cleaned them a significant amount in terms of missing values and other issues, but some issues remain (e.g. outliers, badly scaled variables that require a log or arcsinh transformation). Clean the data however you think is most appropriate."
      ]
    },
    {
      "cell_type": "markdown",
      "source": [
        "## 1 work"
      ],
      "metadata": {
        "id": "Gz3HJchr0apA"
      },
      "id": "Gz3HJchr0apA"
    },
    {
      "cell_type": "code",
      "source": [
        "cars = pd.read_csv(\"assignment4/data/cars_hw.csv\")"
      ],
      "metadata": {
        "id": "D9Oji9dy0lbZ"
      },
      "id": "D9Oji9dy0lbZ",
      "execution_count": 110,
      "outputs": []
    },
    {
      "cell_type": "code",
      "source": [
        "cars.head()"
      ],
      "metadata": {
        "colab": {
          "base_uri": "https://localhost:8080/",
          "height": 243
        },
        "id": "8hs_l64_01uI",
        "outputId": "681528e4-4128-4833-dff5-b39e3593c300"
      },
      "id": "8hs_l64_01uI",
      "execution_count": 111,
      "outputs": [
        {
          "output_type": "execute_result",
          "data": {
            "text/plain": [
              "   Unnamed: 0        Make  Make_Year   Color  Body_Type  Mileage_Run  \\\n",
              "0           1  Volkswagen       2017  silver      sedan        44611   \n",
              "1           2     Hyundai       2016     red  crossover        20305   \n",
              "2           3       Honda       2019   white        suv        29540   \n",
              "3           4     Renault       2017  bronze  hatchback        35680   \n",
              "4           5     Hyundai       2017  orange  hatchback        25126   \n",
              "\n",
              "  No_of_Owners  Seating_Capacity Fuel_Type Transmission Transmission_Type  \\\n",
              "0          1st                 5    diesel      7-Speed         Automatic   \n",
              "1          1st                 5    petrol      5-Speed            Manual   \n",
              "2          2nd                 5    petrol      5-Speed            Manual   \n",
              "3          1st                 5    petrol      5-Speed            Manual   \n",
              "4          1st                 5    petrol      5-Speed            Manual   \n",
              "\n",
              "    Price  \n",
              "0  657000  \n",
              "1  682000  \n",
              "2  793000  \n",
              "3  414000  \n",
              "4  515000  "
            ],
            "text/html": [
              "\n",
              "  <div id=\"df-da745433-2a84-4354-8fa2-8bb71542e38c\" class=\"colab-df-container\">\n",
              "    <div>\n",
              "<style scoped>\n",
              "    .dataframe tbody tr th:only-of-type {\n",
              "        vertical-align: middle;\n",
              "    }\n",
              "\n",
              "    .dataframe tbody tr th {\n",
              "        vertical-align: top;\n",
              "    }\n",
              "\n",
              "    .dataframe thead th {\n",
              "        text-align: right;\n",
              "    }\n",
              "</style>\n",
              "<table border=\"1\" class=\"dataframe\">\n",
              "  <thead>\n",
              "    <tr style=\"text-align: right;\">\n",
              "      <th></th>\n",
              "      <th>Unnamed: 0</th>\n",
              "      <th>Make</th>\n",
              "      <th>Make_Year</th>\n",
              "      <th>Color</th>\n",
              "      <th>Body_Type</th>\n",
              "      <th>Mileage_Run</th>\n",
              "      <th>No_of_Owners</th>\n",
              "      <th>Seating_Capacity</th>\n",
              "      <th>Fuel_Type</th>\n",
              "      <th>Transmission</th>\n",
              "      <th>Transmission_Type</th>\n",
              "      <th>Price</th>\n",
              "    </tr>\n",
              "  </thead>\n",
              "  <tbody>\n",
              "    <tr>\n",
              "      <th>0</th>\n",
              "      <td>1</td>\n",
              "      <td>Volkswagen</td>\n",
              "      <td>2017</td>\n",
              "      <td>silver</td>\n",
              "      <td>sedan</td>\n",
              "      <td>44611</td>\n",
              "      <td>1st</td>\n",
              "      <td>5</td>\n",
              "      <td>diesel</td>\n",
              "      <td>7-Speed</td>\n",
              "      <td>Automatic</td>\n",
              "      <td>657000</td>\n",
              "    </tr>\n",
              "    <tr>\n",
              "      <th>1</th>\n",
              "      <td>2</td>\n",
              "      <td>Hyundai</td>\n",
              "      <td>2016</td>\n",
              "      <td>red</td>\n",
              "      <td>crossover</td>\n",
              "      <td>20305</td>\n",
              "      <td>1st</td>\n",
              "      <td>5</td>\n",
              "      <td>petrol</td>\n",
              "      <td>5-Speed</td>\n",
              "      <td>Manual</td>\n",
              "      <td>682000</td>\n",
              "    </tr>\n",
              "    <tr>\n",
              "      <th>2</th>\n",
              "      <td>3</td>\n",
              "      <td>Honda</td>\n",
              "      <td>2019</td>\n",
              "      <td>white</td>\n",
              "      <td>suv</td>\n",
              "      <td>29540</td>\n",
              "      <td>2nd</td>\n",
              "      <td>5</td>\n",
              "      <td>petrol</td>\n",
              "      <td>5-Speed</td>\n",
              "      <td>Manual</td>\n",
              "      <td>793000</td>\n",
              "    </tr>\n",
              "    <tr>\n",
              "      <th>3</th>\n",
              "      <td>4</td>\n",
              "      <td>Renault</td>\n",
              "      <td>2017</td>\n",
              "      <td>bronze</td>\n",
              "      <td>hatchback</td>\n",
              "      <td>35680</td>\n",
              "      <td>1st</td>\n",
              "      <td>5</td>\n",
              "      <td>petrol</td>\n",
              "      <td>5-Speed</td>\n",
              "      <td>Manual</td>\n",
              "      <td>414000</td>\n",
              "    </tr>\n",
              "    <tr>\n",
              "      <th>4</th>\n",
              "      <td>5</td>\n",
              "      <td>Hyundai</td>\n",
              "      <td>2017</td>\n",
              "      <td>orange</td>\n",
              "      <td>hatchback</td>\n",
              "      <td>25126</td>\n",
              "      <td>1st</td>\n",
              "      <td>5</td>\n",
              "      <td>petrol</td>\n",
              "      <td>5-Speed</td>\n",
              "      <td>Manual</td>\n",
              "      <td>515000</td>\n",
              "    </tr>\n",
              "  </tbody>\n",
              "</table>\n",
              "</div>\n",
              "    <div class=\"colab-df-buttons\">\n",
              "\n",
              "  <div class=\"colab-df-container\">\n",
              "    <button class=\"colab-df-convert\" onclick=\"convertToInteractive('df-da745433-2a84-4354-8fa2-8bb71542e38c')\"\n",
              "            title=\"Convert this dataframe to an interactive table.\"\n",
              "            style=\"display:none;\">\n",
              "\n",
              "  <svg xmlns=\"http://www.w3.org/2000/svg\" height=\"24px\" viewBox=\"0 -960 960 960\">\n",
              "    <path d=\"M120-120v-720h720v720H120Zm60-500h600v-160H180v160Zm220 220h160v-160H400v160Zm0 220h160v-160H400v160ZM180-400h160v-160H180v160Zm440 0h160v-160H620v160ZM180-180h160v-160H180v160Zm440 0h160v-160H620v160Z\"/>\n",
              "  </svg>\n",
              "    </button>\n",
              "\n",
              "  <style>\n",
              "    .colab-df-container {\n",
              "      display:flex;\n",
              "      gap: 12px;\n",
              "    }\n",
              "\n",
              "    .colab-df-convert {\n",
              "      background-color: #E8F0FE;\n",
              "      border: none;\n",
              "      border-radius: 50%;\n",
              "      cursor: pointer;\n",
              "      display: none;\n",
              "      fill: #1967D2;\n",
              "      height: 32px;\n",
              "      padding: 0 0 0 0;\n",
              "      width: 32px;\n",
              "    }\n",
              "\n",
              "    .colab-df-convert:hover {\n",
              "      background-color: #E2EBFA;\n",
              "      box-shadow: 0px 1px 2px rgba(60, 64, 67, 0.3), 0px 1px 3px 1px rgba(60, 64, 67, 0.15);\n",
              "      fill: #174EA6;\n",
              "    }\n",
              "\n",
              "    .colab-df-buttons div {\n",
              "      margin-bottom: 4px;\n",
              "    }\n",
              "\n",
              "    [theme=dark] .colab-df-convert {\n",
              "      background-color: #3B4455;\n",
              "      fill: #D2E3FC;\n",
              "    }\n",
              "\n",
              "    [theme=dark] .colab-df-convert:hover {\n",
              "      background-color: #434B5C;\n",
              "      box-shadow: 0px 1px 3px 1px rgba(0, 0, 0, 0.15);\n",
              "      filter: drop-shadow(0px 1px 2px rgba(0, 0, 0, 0.3));\n",
              "      fill: #FFFFFF;\n",
              "    }\n",
              "  </style>\n",
              "\n",
              "    <script>\n",
              "      const buttonEl =\n",
              "        document.querySelector('#df-da745433-2a84-4354-8fa2-8bb71542e38c button.colab-df-convert');\n",
              "      buttonEl.style.display =\n",
              "        google.colab.kernel.accessAllowed ? 'block' : 'none';\n",
              "\n",
              "      async function convertToInteractive(key) {\n",
              "        const element = document.querySelector('#df-da745433-2a84-4354-8fa2-8bb71542e38c');\n",
              "        const dataTable =\n",
              "          await google.colab.kernel.invokeFunction('convertToInteractive',\n",
              "                                                    [key], {});\n",
              "        if (!dataTable) return;\n",
              "\n",
              "        const docLinkHtml = 'Like what you see? Visit the ' +\n",
              "          '<a target=\"_blank\" href=https://colab.research.google.com/notebooks/data_table.ipynb>data table notebook</a>'\n",
              "          + ' to learn more about interactive tables.';\n",
              "        element.innerHTML = '';\n",
              "        dataTable['output_type'] = 'display_data';\n",
              "        await google.colab.output.renderOutput(dataTable, element);\n",
              "        const docLink = document.createElement('div');\n",
              "        docLink.innerHTML = docLinkHtml;\n",
              "        element.appendChild(docLink);\n",
              "      }\n",
              "    </script>\n",
              "  </div>\n",
              "\n",
              "\n",
              "<div id=\"df-aac6ac85-0d3a-4c35-ac9b-a068c7a238b4\">\n",
              "  <button class=\"colab-df-quickchart\" onclick=\"quickchart('df-aac6ac85-0d3a-4c35-ac9b-a068c7a238b4')\"\n",
              "            title=\"Suggest charts\"\n",
              "            style=\"display:none;\">\n",
              "\n",
              "<svg xmlns=\"http://www.w3.org/2000/svg\" height=\"24px\"viewBox=\"0 0 24 24\"\n",
              "     width=\"24px\">\n",
              "    <g>\n",
              "        <path d=\"M19 3H5c-1.1 0-2 .9-2 2v14c0 1.1.9 2 2 2h14c1.1 0 2-.9 2-2V5c0-1.1-.9-2-2-2zM9 17H7v-7h2v7zm4 0h-2V7h2v10zm4 0h-2v-4h2v4z\"/>\n",
              "    </g>\n",
              "</svg>\n",
              "  </button>\n",
              "\n",
              "<style>\n",
              "  .colab-df-quickchart {\n",
              "      --bg-color: #E8F0FE;\n",
              "      --fill-color: #1967D2;\n",
              "      --hover-bg-color: #E2EBFA;\n",
              "      --hover-fill-color: #174EA6;\n",
              "      --disabled-fill-color: #AAA;\n",
              "      --disabled-bg-color: #DDD;\n",
              "  }\n",
              "\n",
              "  [theme=dark] .colab-df-quickchart {\n",
              "      --bg-color: #3B4455;\n",
              "      --fill-color: #D2E3FC;\n",
              "      --hover-bg-color: #434B5C;\n",
              "      --hover-fill-color: #FFFFFF;\n",
              "      --disabled-bg-color: #3B4455;\n",
              "      --disabled-fill-color: #666;\n",
              "  }\n",
              "\n",
              "  .colab-df-quickchart {\n",
              "    background-color: var(--bg-color);\n",
              "    border: none;\n",
              "    border-radius: 50%;\n",
              "    cursor: pointer;\n",
              "    display: none;\n",
              "    fill: var(--fill-color);\n",
              "    height: 32px;\n",
              "    padding: 0;\n",
              "    width: 32px;\n",
              "  }\n",
              "\n",
              "  .colab-df-quickchart:hover {\n",
              "    background-color: var(--hover-bg-color);\n",
              "    box-shadow: 0 1px 2px rgba(60, 64, 67, 0.3), 0 1px 3px 1px rgba(60, 64, 67, 0.15);\n",
              "    fill: var(--button-hover-fill-color);\n",
              "  }\n",
              "\n",
              "  .colab-df-quickchart-complete:disabled,\n",
              "  .colab-df-quickchart-complete:disabled:hover {\n",
              "    background-color: var(--disabled-bg-color);\n",
              "    fill: var(--disabled-fill-color);\n",
              "    box-shadow: none;\n",
              "  }\n",
              "\n",
              "  .colab-df-spinner {\n",
              "    border: 2px solid var(--fill-color);\n",
              "    border-color: transparent;\n",
              "    border-bottom-color: var(--fill-color);\n",
              "    animation:\n",
              "      spin 1s steps(1) infinite;\n",
              "  }\n",
              "\n",
              "  @keyframes spin {\n",
              "    0% {\n",
              "      border-color: transparent;\n",
              "      border-bottom-color: var(--fill-color);\n",
              "      border-left-color: var(--fill-color);\n",
              "    }\n",
              "    20% {\n",
              "      border-color: transparent;\n",
              "      border-left-color: var(--fill-color);\n",
              "      border-top-color: var(--fill-color);\n",
              "    }\n",
              "    30% {\n",
              "      border-color: transparent;\n",
              "      border-left-color: var(--fill-color);\n",
              "      border-top-color: var(--fill-color);\n",
              "      border-right-color: var(--fill-color);\n",
              "    }\n",
              "    40% {\n",
              "      border-color: transparent;\n",
              "      border-right-color: var(--fill-color);\n",
              "      border-top-color: var(--fill-color);\n",
              "    }\n",
              "    60% {\n",
              "      border-color: transparent;\n",
              "      border-right-color: var(--fill-color);\n",
              "    }\n",
              "    80% {\n",
              "      border-color: transparent;\n",
              "      border-right-color: var(--fill-color);\n",
              "      border-bottom-color: var(--fill-color);\n",
              "    }\n",
              "    90% {\n",
              "      border-color: transparent;\n",
              "      border-bottom-color: var(--fill-color);\n",
              "    }\n",
              "  }\n",
              "</style>\n",
              "\n",
              "  <script>\n",
              "    async function quickchart(key) {\n",
              "      const quickchartButtonEl =\n",
              "        document.querySelector('#' + key + ' button');\n",
              "      quickchartButtonEl.disabled = true;  // To prevent multiple clicks.\n",
              "      quickchartButtonEl.classList.add('colab-df-spinner');\n",
              "      try {\n",
              "        const charts = await google.colab.kernel.invokeFunction(\n",
              "            'suggestCharts', [key], {});\n",
              "      } catch (error) {\n",
              "        console.error('Error during call to suggestCharts:', error);\n",
              "      }\n",
              "      quickchartButtonEl.classList.remove('colab-df-spinner');\n",
              "      quickchartButtonEl.classList.add('colab-df-quickchart-complete');\n",
              "    }\n",
              "    (() => {\n",
              "      let quickchartButtonEl =\n",
              "        document.querySelector('#df-aac6ac85-0d3a-4c35-ac9b-a068c7a238b4 button');\n",
              "      quickchartButtonEl.style.display =\n",
              "        google.colab.kernel.accessAllowed ? 'block' : 'none';\n",
              "    })();\n",
              "  </script>\n",
              "</div>\n",
              "    </div>\n",
              "  </div>\n"
            ]
          },
          "metadata": {},
          "execution_count": 111
        }
      ]
    },
    {
      "cell_type": "code",
      "source": [
        "cars.dtypes"
      ],
      "metadata": {
        "colab": {
          "base_uri": "https://localhost:8080/"
        },
        "id": "oawEA40VpiQp",
        "outputId": "d1166205-ac35-4722-e481-d6029a55faeb"
      },
      "id": "oawEA40VpiQp",
      "execution_count": 112,
      "outputs": [
        {
          "output_type": "execute_result",
          "data": {
            "text/plain": [
              "Unnamed: 0            int64\n",
              "Make                 object\n",
              "Make_Year             int64\n",
              "Color                object\n",
              "Body_Type            object\n",
              "Mileage_Run           int64\n",
              "No_of_Owners         object\n",
              "Seating_Capacity      int64\n",
              "Fuel_Type            object\n",
              "Transmission         object\n",
              "Transmission_Type    object\n",
              "Price                 int64\n",
              "dtype: object"
            ]
          },
          "metadata": {},
          "execution_count": 112
        }
      ]
    },
    {
      "cell_type": "code",
      "source": [
        "cars[\"Unnamed: 0\"]"
      ],
      "metadata": {
        "colab": {
          "base_uri": "https://localhost:8080/"
        },
        "id": "Mdzlp6_U1gT2",
        "outputId": "666cdcef-d769-4d80-f32f-d570eff0409c"
      },
      "id": "Mdzlp6_U1gT2",
      "execution_count": 113,
      "outputs": [
        {
          "output_type": "execute_result",
          "data": {
            "text/plain": [
              "0        1\n",
              "1        2\n",
              "2        3\n",
              "3        4\n",
              "4        5\n",
              "      ... \n",
              "971    972\n",
              "972    973\n",
              "973    974\n",
              "974    975\n",
              "975    976\n",
              "Name: Unnamed: 0, Length: 976, dtype: int64"
            ]
          },
          "metadata": {},
          "execution_count": 113
        }
      ]
    },
    {
      "cell_type": "markdown",
      "source": [
        "It looks like the \"Unnamed: 0\" column is just an index, so I'll drop it."
      ],
      "metadata": {
        "id": "0RrcIgrH1zCj"
      },
      "id": "0RrcIgrH1zCj"
    },
    {
      "cell_type": "code",
      "source": [
        "cars.drop(\"Unnamed: 0\", axis=1, inplace=True)"
      ],
      "metadata": {
        "id": "8-8OHDC912f0"
      },
      "id": "8-8OHDC912f0",
      "execution_count": 114,
      "outputs": []
    },
    {
      "cell_type": "markdown",
      "source": [
        "Now I'll examine the variables to see which are categorical and which are numeric. Mileage_Run and Price are continuous numerical variables, so they may be prone to outliers. However, Seating_Capacity and Make_Year only have a few possible values (they are discrete numerical variables). Although Seating_Capacity appears to have some outliers from its box plot, this really just means that the 5-seat arrangement occurs much more frequently than other seating arrangements. Each unique value is a specific type of seating arrangement in a car, which I think is valuable information to preserve."
      ],
      "metadata": {
        "id": "j0Dm1yT-2Jrs"
      },
      "id": "j0Dm1yT-2Jrs"
    },
    {
      "cell_type": "code",
      "source": [
        "cars[\"Make_Year\"].unique()"
      ],
      "metadata": {
        "colab": {
          "base_uri": "https://localhost:8080/"
        },
        "id": "hZUB8aRO2elS",
        "outputId": "ed41c039-62ea-4cd1-f198-97d66b9c5eb5"
      },
      "id": "hZUB8aRO2elS",
      "execution_count": 115,
      "outputs": [
        {
          "output_type": "execute_result",
          "data": {
            "text/plain": [
              "array([2017, 2016, 2019, 2012, 2021, 2020, 2013, 2022, 2018, 2014, 2011,\n",
              "       2015])"
            ]
          },
          "metadata": {},
          "execution_count": 115
        }
      ]
    },
    {
      "cell_type": "code",
      "source": [
        "cars[\"Seating_Capacity\"].unique()"
      ],
      "metadata": {
        "colab": {
          "base_uri": "https://localhost:8080/"
        },
        "id": "yjC8sbur2BcP",
        "outputId": "24b15fc4-97ae-4e41-ac93-ef81dda8ff19"
      },
      "id": "yjC8sbur2BcP",
      "execution_count": 116,
      "outputs": [
        {
          "output_type": "execute_result",
          "data": {
            "text/plain": [
              "array([5, 7, 8, 6, 4])"
            ]
          },
          "metadata": {},
          "execution_count": 116
        }
      ]
    },
    {
      "cell_type": "code",
      "source": [
        "cars[\"Seating_Capacity\"].plot.box()"
      ],
      "metadata": {
        "colab": {
          "base_uri": "https://localhost:8080/",
          "height": 448
        },
        "id": "Sn8NVMphpm9S",
        "outputId": "87281f92-5e14-46b1-b2e0-675a15590c59"
      },
      "id": "Sn8NVMphpm9S",
      "execution_count": 117,
      "outputs": [
        {
          "output_type": "execute_result",
          "data": {
            "text/plain": [
              "<Axes: >"
            ]
          },
          "metadata": {},
          "execution_count": 117
        },
        {
          "output_type": "display_data",
          "data": {
            "text/plain": [
              "<Figure size 640x480 with 1 Axes>"
            ],
            "image/png": "[encoded data removed]"
          },
          "metadata": {}
        }
      ]
    },
    {
      "cell_type": "markdown",
      "source": [
        "I'll examine Mileage_Run and Price to see if they need to be scaled or have outliers removed."
      ],
      "metadata": {
        "id": "2deUdKUD23l_"
      },
      "id": "2deUdKUD23l_"
    },
    {
      "cell_type": "code",
      "source": [
        "cars[\"Price\"].hist()"
      ],
      "metadata": {
        "colab": {
          "base_uri": "https://localhost:8080/",
          "height": 466
        },
        "id": "KXB0ZHou28ih",
        "outputId": "90a88684-bfc0-4d92-d7b6-bfee7396ab25"
      },
      "id": "KXB0ZHou28ih",
      "execution_count": 118,
      "outputs": [
        {
          "output_type": "execute_result",
          "data": {
            "text/plain": [
              "<Axes: >"
            ]
          },
          "metadata": {},
          "execution_count": 118
        },
        {
          "output_type": "display_data",
          "data": {
            "text/plain": [
              "<Figure size 640x480 with 1 Axes>"
            ],
            "image/png": "[encoded data removed]"
          },
          "metadata": {}
        }
      ]
    },
    {
      "cell_type": "code",
      "source": [
        "cars[\"Price\"].plot.box()"
      ],
      "metadata": {
        "colab": {
          "base_uri": "https://localhost:8080/",
          "height": 463
        },
        "id": "p9OeWR_yV1us",
        "outputId": "387fbe29-57be-4a20-ef7e-9b412906f7da"
      },
      "id": "p9OeWR_yV1us",
      "execution_count": 119,
      "outputs": [
        {
          "output_type": "execute_result",
          "data": {
            "text/plain": [
              "<Axes: >"
            ]
          },
          "metadata": {},
          "execution_count": 119
        },
        {
          "output_type": "display_data",
          "data": {
            "text/plain": [
              "<Figure size 640x480 with 1 Axes>"
            ],
            "image/png": "[encoded data removed]"
          },
          "metadata": {}
        }
      ]
    },
    {
      "cell_type": "code",
      "source": [
        "cars[\"Mileage_Run\"].hist()"
      ],
      "metadata": {
        "colab": {
          "base_uri": "https://localhost:8080/",
          "height": 448
        },
        "id": "zU52p6-_V-ex",
        "outputId": "a2261d4e-3548-4a99-cd03-1b2e5c240970"
      },
      "id": "zU52p6-_V-ex",
      "execution_count": 120,
      "outputs": [
        {
          "output_type": "execute_result",
          "data": {
            "text/plain": [
              "<Axes: >"
            ]
          },
          "metadata": {},
          "execution_count": 120
        },
        {
          "output_type": "display_data",
          "data": {
            "text/plain": [
              "<Figure size 640x480 with 1 Axes>"
            ],
            "image/png": "[encoded data removed]"
          },
          "metadata": {}
        }
      ]
    },
    {
      "cell_type": "code",
      "source": [
        "cars[\"Mileage_Run\"].plot.box()"
      ],
      "metadata": {
        "colab": {
          "base_uri": "https://localhost:8080/",
          "height": 448
        },
        "id": "y5-gAdEkWCqq",
        "outputId": "6ef95b37-76bc-45e9-c5bd-4262b2cdd5eb"
      },
      "id": "y5-gAdEkWCqq",
      "execution_count": 121,
      "outputs": [
        {
          "output_type": "execute_result",
          "data": {
            "text/plain": [
              "<Axes: >"
            ]
          },
          "metadata": {},
          "execution_count": 121
        },
        {
          "output_type": "display_data",
          "data": {
            "text/plain": [
              "<Figure size 640x480 with 1 Axes>"
            ],
            "image/png": "[encoded data removed]"
          },
          "metadata": {}
        }
      ]
    },
    {
      "cell_type": "markdown",
      "source": [
        "The Mileage_Run histogram doesn't have super long tails, and its boxplot shows that it doesn't have any outliers, so I won't adjust that variable. However, the Price variable has many outliers and a long tail on the right side of the histogram, so I will scale that variable and deal with any remaining outliers."
      ],
      "metadata": {
        "id": "f98N4kNhqw_L"
      },
      "id": "f98N4kNhqw_L"
    },
    {
      "cell_type": "code",
      "source": [
        "cars[\"Price_Scaled\"] = np.arcsinh(cars[\"Price\"])\n",
        "cars[\"Price_Scaled\"].hist()"
      ],
      "metadata": {
        "colab": {
          "base_uri": "https://localhost:8080/",
          "height": 448
        },
        "id": "mM-el4ZNWN-V",
        "outputId": "a01bfb75-4c35-480f-dd38-1294111ef56d"
      },
      "id": "mM-el4ZNWN-V",
      "execution_count": 122,
      "outputs": [
        {
          "output_type": "execute_result",
          "data": {
            "text/plain": [
              "<Axes: >"
            ]
          },
          "metadata": {},
          "execution_count": 122
        },
        {
          "output_type": "display_data",
          "data": {
            "text/plain": [
              "<Figure size 640x480 with 1 Axes>"
            ],
            "image/png": "[encoded data removed]"
          },
          "metadata": {}
        }
      ]
    },
    {
      "cell_type": "code",
      "source": [
        "cars[\"Price_Scaled\"].plot.box()"
      ],
      "metadata": {
        "colab": {
          "base_uri": "https://localhost:8080/",
          "height": 448
        },
        "id": "ahBOJP84WaAK",
        "outputId": "4b249c6a-61cf-4fac-e8a3-21c30ec823ee"
      },
      "id": "ahBOJP84WaAK",
      "execution_count": 123,
      "outputs": [
        {
          "output_type": "execute_result",
          "data": {
            "text/plain": [
              "<Axes: >"
            ]
          },
          "metadata": {},
          "execution_count": 123
        },
        {
          "output_type": "display_data",
          "data": {
            "text/plain": [
              "<Figure size 640x480 with 1 Axes>"
            ],
            "image/png": "[encoded data removed]"
          },
          "metadata": {}
        }
      ]
    },
    {
      "cell_type": "markdown",
      "source": [
        "Now, I'll windsorize the outliers."
      ],
      "metadata": {
        "id": "eoCJ-7fYqR7S"
      },
      "id": "eoCJ-7fYqR7S"
    },
    {
      "cell_type": "code",
      "source": [
        "cars.loc[cars[\"Price_Scaled\"] < 13, \"Price_Scaled\"] = 13\n",
        "cars.loc[cars[\"Price_Scaled\"] > 15.25, \"Price_Scaled\"] = 15.25\n",
        "cars[\"Price_Scaled\"].plot.box()"
      ],
      "metadata": {
        "colab": {
          "base_uri": "https://localhost:8080/",
          "height": 448
        },
        "id": "sWZgDXFdXRPI",
        "outputId": "e81adbbd-0799-4eae-d9b0-25c26b9b6b9e"
      },
      "id": "sWZgDXFdXRPI",
      "execution_count": 124,
      "outputs": [
        {
          "output_type": "execute_result",
          "data": {
            "text/plain": [
              "<Axes: >"
            ]
          },
          "metadata": {},
          "execution_count": 124
        },
        {
          "output_type": "display_data",
          "data": {
            "text/plain": [
              "<Figure size 640x480 with 1 Axes>"
            ],
            "image/png": "[encoded data removed]"
          },
          "metadata": {}
        }
      ]
    },
    {
      "cell_type": "code",
      "source": [
        "sns.scatterplot(data=cars, y=\"Price\", x=\"Make_Year\")"
      ],
      "metadata": {
        "colab": {
          "base_uri": "https://localhost:8080/",
          "height": 483
        },
        "id": "-E5Jczo8Wo19",
        "outputId": "612abf29-f7f7-4809-cd59-b60a40202705"
      },
      "id": "-E5Jczo8Wo19",
      "execution_count": 125,
      "outputs": [
        {
          "output_type": "execute_result",
          "data": {
            "text/plain": [
              "<Axes: xlabel='Make_Year', ylabel='Price'>"
            ]
          },
          "metadata": {},
          "execution_count": 125
        },
        {
          "output_type": "display_data",
          "data": {
            "text/plain": [
              "<Figure size 640x480 with 1 Axes>"
            ],
            "image/png": "[encoded data removed]"
          },
          "metadata": {}
        }
      ]
    },
    {
      "cell_type": "code",
      "source": [
        "sns.scatterplot(data=cars, y=\"Price_Scaled\", x=\"Make_Year\")"
      ],
      "metadata": {
        "colab": {
          "base_uri": "https://localhost:8080/",
          "height": 468
        },
        "id": "TFmfDNsCtRy-",
        "outputId": "e9e8652e-17fc-40ca-8e7e-6f024861f828"
      },
      "id": "TFmfDNsCtRy-",
      "execution_count": 126,
      "outputs": [
        {
          "output_type": "execute_result",
          "data": {
            "text/plain": [
              "<Axes: xlabel='Make_Year', ylabel='Price_Scaled'>"
            ]
          },
          "metadata": {},
          "execution_count": 126
        },
        {
          "output_type": "display_data",
          "data": {
            "text/plain": [
              "<Figure size 640x480 with 1 Axes>"
            ],
            "image/png": "[encoded data removed]"
          },
          "metadata": {}
        }
      ]
    },
    {
      "cell_type": "markdown",
      "source": [
        "The Price_Scaled variable looks good now! Although the data was already cleaned of null values before I loaded it, I'll just verify that there aren't null values that slipped through the cracks.\n"
      ],
      "metadata": {
        "id": "1SfP9QXpreWK"
      },
      "id": "1SfP9QXpreWK"
    },
    {
      "cell_type": "code",
      "source": [
        "cars.isna().sum()"
      ],
      "metadata": {
        "colab": {
          "base_uri": "https://localhost:8080/"
        },
        "id": "5B9RyuWEYDiD",
        "outputId": "6c732804-6d8b-45cf-9998-7b053092ff67"
      },
      "id": "5B9RyuWEYDiD",
      "execution_count": 127,
      "outputs": [
        {
          "output_type": "execute_result",
          "data": {
            "text/plain": [
              "Make                 0\n",
              "Make_Year            0\n",
              "Color                0\n",
              "Body_Type            0\n",
              "Mileage_Run          0\n",
              "No_of_Owners         0\n",
              "Seating_Capacity     0\n",
              "Fuel_Type            0\n",
              "Transmission         0\n",
              "Transmission_Type    0\n",
              "Price                0\n",
              "Price_Scaled         0\n",
              "dtype: int64"
            ]
          },
          "metadata": {},
          "execution_count": 127
        }
      ]
    },
    {
      "cell_type": "code",
      "source": [
        "cars.isnull().sum()"
      ],
      "metadata": {
        "colab": {
          "base_uri": "https://localhost:8080/"
        },
        "id": "gvEw2Zw7YQxi",
        "outputId": "912fea16-adaf-4777-8671-7d9debbcc634"
      },
      "id": "gvEw2Zw7YQxi",
      "execution_count": 128,
      "outputs": [
        {
          "output_type": "execute_result",
          "data": {
            "text/plain": [
              "Make                 0\n",
              "Make_Year            0\n",
              "Color                0\n",
              "Body_Type            0\n",
              "Mileage_Run          0\n",
              "No_of_Owners         0\n",
              "Seating_Capacity     0\n",
              "Fuel_Type            0\n",
              "Transmission         0\n",
              "Transmission_Type    0\n",
              "Price                0\n",
              "Price_Scaled         0\n",
              "dtype: int64"
            ]
          },
          "metadata": {},
          "execution_count": 128
        }
      ]
    },
    {
      "cell_type": "markdown",
      "source": [
        "I'm also going to examine the variables to make sure there's no other cleaning I should do."
      ],
      "metadata": {
        "id": "Bdg56xQ9rs3F"
      },
      "id": "Bdg56xQ9rs3F"
    },
    {
      "cell_type": "code",
      "source": [
        "vars = [\"Price\", \"Price_Scaled\", \"Color\", \"Seating_Capacity\", \"Body_Type\", \"No_of_Owners\",\n",
        "        \"Make\", \"Make_Year\", \"Mileage_Run\", \"Fuel_Type\", \"Transmission\", \"Transmission_Type\"]"
      ],
      "metadata": {
        "id": "ug7aWrdCZNHv"
      },
      "id": "ug7aWrdCZNHv",
      "execution_count": 129,
      "outputs": []
    },
    {
      "cell_type": "code",
      "source": [
        "for var in vars:\n",
        "  print(cars[var].value_counts(), \"\\n\")\n",
        "  # cars[vars].unique()"
      ],
      "metadata": {
        "colab": {
          "base_uri": "https://localhost:8080/"
        },
        "id": "GeFRhXrrYcM8",
        "outputId": "dd9b1df2-bf8c-45da-da9f-e59e1babd00f"
      },
      "id": "GeFRhXrrYcM8",
      "execution_count": 130,
      "outputs": [
        {
          "output_type": "stream",
          "name": "stdout",
          "text": [
            "790000    8\n",
            "914000    7\n",
            "589000    7\n",
            "812000    6\n",
            "651000    6\n",
            "         ..\n",
            "882000    1\n",
            "654000    1\n",
            "634000    1\n",
            "806000    1\n",
            "736000    1\n",
            "Name: Price, Length: 585, dtype: int64 \n",
            "\n",
            "14.272935    8\n",
            "13.979329    7\n",
            "14.418733    7\n",
            "14.535300    6\n",
            "14.079412    6\n",
            "            ..\n",
            "15.156808    1\n",
            "14.687640    1\n",
            "14.383095    1\n",
            "14.084010    1\n",
            "14.202133    1\n",
            "Name: Price_Scaled, Length: 584, dtype: int64 \n",
            "\n",
            "white     200\n",
            "red       187\n",
            "grey      164\n",
            "silver    132\n",
            "blue      128\n",
            "brown      70\n",
            "black      35\n",
            "orange     19\n",
            "bronze     12\n",
            "beige       9\n",
            "yellow      6\n",
            "purple      6\n",
            "golden      3\n",
            "maroon      3\n",
            "green       2\n",
            "Name: Color, dtype: int64 \n",
            "\n",
            "5    930\n",
            "7     39\n",
            "8      5\n",
            "6      1\n",
            "4      1\n",
            "Name: Seating_Capacity, dtype: int64 \n",
            "\n",
            "hatchback    484\n",
            "sedan        227\n",
            "suv          206\n",
            "muv           38\n",
            "crossover     21\n",
            "Name: Body_Type, dtype: int64 \n",
            "\n",
            "1st    818\n",
            "2nd    154\n",
            "3rd      4\n",
            "Name: No_of_Owners, dtype: int64 \n",
            "\n",
            "Hyundai          305\n",
            "Maruti Suzuki    293\n",
            "Honda             73\n",
            "Renault           68\n",
            "Ford              52\n",
            "Toyota            50\n",
            "MG Motors         35\n",
            "Volkswagen        29\n",
            "Tata              23\n",
            "Mahindra          18\n",
            "Kia                8\n",
            "Chevrolet          6\n",
            "Skoda              5\n",
            "Nissan             4\n",
            "Jeep               4\n",
            "Datsun             3\n",
            "Name: Make, dtype: int64 \n",
            "\n",
            "2017    137\n",
            "2020    135\n",
            "2019    124\n",
            "2018    112\n",
            "2016     92\n",
            "2015     85\n",
            "2014     73\n",
            "2021     69\n",
            "2013     53\n",
            "2011     44\n",
            "2012     38\n",
            "2022     14\n",
            "Name: Make_Year, dtype: int64 \n",
            "\n",
            "49279    4\n",
            "13185    4\n",
            "7122     4\n",
            "32604    4\n",
            "26653    4\n",
            "        ..\n",
            "74814    1\n",
            "24315    1\n",
            "63937    1\n",
            "11499    1\n",
            "41176    1\n",
            "Name: Mileage_Run, Length: 878, dtype: int64 \n",
            "\n",
            "petrol        783\n",
            "diesel        191\n",
            "petrol+cng      2\n",
            "Name: Fuel_Type, dtype: int64 \n",
            "\n",
            "5-Speed    749\n",
            "6-Speed    169\n",
            "4-Speed     39\n",
            "7-Speed     16\n",
            "CVT          3\n",
            "Name: Transmission, dtype: int64 \n",
            "\n",
            "Manual       712\n",
            "Automatic    264\n",
            "Name: Transmission_Type, dtype: int64 \n",
            "\n"
          ]
        }
      ]
    },
    {
      "cell_type": "markdown",
      "source": [
        "The last thing I need to do is convert \"No_of_Owners\" to a numeric type. We can see that it currently holds strings, but the unique values are only \"1st\", \"2nd\", and \"3rd\", so we can simply truncate each entry and cast it to a numeric type."
      ],
      "metadata": {
        "id": "-BV4a551psDA"
      },
      "id": "-BV4a551psDA"
    },
    {
      "cell_type": "code",
      "source": [
        "print(type(cars[\"No_of_Owners\"][0]))"
      ],
      "metadata": {
        "colab": {
          "base_uri": "https://localhost:8080/"
        },
        "id": "jq7pxE0cpWqw",
        "outputId": "3b9d027d-6962-4fc8-82d0-6cc28f85b93d"
      },
      "id": "jq7pxE0cpWqw",
      "execution_count": 131,
      "outputs": [
        {
          "output_type": "stream",
          "name": "stdout",
          "text": [
            "<class 'str'>\n"
          ]
        }
      ]
    },
    {
      "cell_type": "code",
      "source": [
        "def convert_num_owners(original_value):\n",
        "  truncated_str = original_value[0]\n",
        "  return int(truncated_str)"
      ],
      "metadata": {
        "id": "kinHUSarp_bU"
      },
      "id": "kinHUSarp_bU",
      "execution_count": 132,
      "outputs": []
    },
    {
      "cell_type": "code",
      "source": [
        "cars['No_of_Owners'] = cars['No_of_Owners'].apply(convert_num_owners)"
      ],
      "metadata": {
        "id": "d2Px2ztBqHZm"
      },
      "id": "d2Px2ztBqHZm",
      "execution_count": 133,
      "outputs": []
    },
    {
      "cell_type": "code",
      "source": [
        "print(cars['No_of_Owners'].unique())\n",
        "cars['No_of_Owners'].dtype"
      ],
      "metadata": {
        "colab": {
          "base_uri": "https://localhost:8080/"
        },
        "id": "aWaHpmcTqc5e",
        "outputId": "e6254a02-f0bb-43ad-8a99-a7cd3449057f"
      },
      "id": "aWaHpmcTqc5e",
      "execution_count": 134,
      "outputs": [
        {
          "output_type": "stream",
          "name": "stdout",
          "text": [
            "[1 2 3]\n"
          ]
        },
        {
          "output_type": "execute_result",
          "data": {
            "text/plain": [
              "dtype('int64')"
            ]
          },
          "metadata": {},
          "execution_count": 134
        }
      ]
    },
    {
      "cell_type": "code",
      "source": [
        "cars.head()"
      ],
      "metadata": {
        "colab": {
          "base_uri": "https://localhost:8080/",
          "height": 226
        },
        "id": "FhFOpKR9r6YX",
        "outputId": "881db383-190c-4ff7-fd42-7c1fd6de272e"
      },
      "id": "FhFOpKR9r6YX",
      "execution_count": 135,
      "outputs": [
        {
          "output_type": "execute_result",
          "data": {
            "text/plain": [
              "         Make  Make_Year   Color  Body_Type  Mileage_Run  No_of_Owners  \\\n",
              "0  Volkswagen       2017  silver      sedan        44611             1   \n",
              "1     Hyundai       2016     red  crossover        20305             1   \n",
              "2       Honda       2019   white        suv        29540             2   \n",
              "3     Renault       2017  bronze  hatchback        35680             1   \n",
              "4     Hyundai       2017  orange  hatchback        25126             1   \n",
              "\n",
              "   Seating_Capacity Fuel_Type Transmission Transmission_Type   Price  \\\n",
              "0                 5    diesel      7-Speed         Automatic  657000   \n",
              "1                 5    petrol      5-Speed            Manual  682000   \n",
              "2                 5    petrol      5-Speed            Manual  793000   \n",
              "3                 5    petrol      5-Speed            Manual  414000   \n",
              "4                 5    petrol      5-Speed            Manual  515000   \n",
              "\n",
              "   Price_Scaled  \n",
              "0     14.088586  \n",
              "1     14.125932  \n",
              "2     14.276726  \n",
              "3     13.626768  \n",
              "4     13.845069  "
            ],
            "text/html": [
              "\n",
              "  <div id=\"df-484dc7e3-8916-4842-a509-55f0cae62042\" class=\"colab-df-container\">\n",
              "    <div>\n",
              "<style scoped>\n",
              "    .dataframe tbody tr th:only-of-type {\n",
              "        vertical-align: middle;\n",
              "    }\n",
              "\n",
              "    .dataframe tbody tr th {\n",
              "        vertical-align: top;\n",
              "    }\n",
              "\n",
              "    .dataframe thead th {\n",
              "        text-align: right;\n",
              "    }\n",
              "</style>\n",
              "<table border=\"1\" class=\"dataframe\">\n",
              "  <thead>\n",
              "    <tr style=\"text-align: right;\">\n",
              "      <th></th>\n",
              "      <th>Make</th>\n",
              "      <th>Make_Year</th>\n",
              "      <th>Color</th>\n",
              "      <th>Body_Type</th>\n",
              "      <th>Mileage_Run</th>\n",
              "      <th>No_of_Owners</th>\n",
              "      <th>Seating_Capacity</th>\n",
              "      <th>Fuel_Type</th>\n",
              "      <th>Transmission</th>\n",
              "      <th>Transmission_Type</th>\n",
              "      <th>Price</th>\n",
              "      <th>Price_Scaled</th>\n",
              "    </tr>\n",
              "  </thead>\n",
              "  <tbody>\n",
              "    <tr>\n",
              "      <th>0</th>\n",
              "      <td>Volkswagen</td>\n",
              "      <td>2017</td>\n",
              "      <td>silver</td>\n",
              "      <td>sedan</td>\n",
              "      <td>44611</td>\n",
              "      <td>1</td>\n",
              "      <td>5</td>\n",
              "      <td>diesel</td>\n",
              "      <td>7-Speed</td>\n",
              "      <td>Automatic</td>\n",
              "      <td>657000</td>\n",
              "      <td>14.088586</td>\n",
              "    </tr>\n",
              "    <tr>\n",
              "      <th>1</th>\n",
              "      <td>Hyundai</td>\n",
              "      <td>2016</td>\n",
              "      <td>red</td>\n",
              "      <td>crossover</td>\n",
              "      <td>20305</td>\n",
              "      <td>1</td>\n",
              "      <td>5</td>\n",
              "      <td>petrol</td>\n",
              "      <td>5-Speed</td>\n",
              "      <td>Manual</td>\n",
              "      <td>682000</td>\n",
              "      <td>14.125932</td>\n",
              "    </tr>\n",
              "    <tr>\n",
              "      <th>2</th>\n",
              "      <td>Honda</td>\n",
              "      <td>2019</td>\n",
              "      <td>white</td>\n",
              "      <td>suv</td>\n",
              "      <td>29540</td>\n",
              "      <td>2</td>\n",
              "      <td>5</td>\n",
              "      <td>petrol</td>\n",
              "      <td>5-Speed</td>\n",
              "      <td>Manual</td>\n",
              "      <td>793000</td>\n",
              "      <td>14.276726</td>\n",
              "    </tr>\n",
              "    <tr>\n",
              "      <th>3</th>\n",
              "      <td>Renault</td>\n",
              "      <td>2017</td>\n",
              "      <td>bronze</td>\n",
              "      <td>hatchback</td>\n",
              "      <td>35680</td>\n",
              "      <td>1</td>\n",
              "      <td>5</td>\n",
              "      <td>petrol</td>\n",
              "      <td>5-Speed</td>\n",
              "      <td>Manual</td>\n",
              "      <td>414000</td>\n",
              "      <td>13.626768</td>\n",
              "    </tr>\n",
              "    <tr>\n",
              "      <th>4</th>\n",
              "      <td>Hyundai</td>\n",
              "      <td>2017</td>\n",
              "      <td>orange</td>\n",
              "      <td>hatchback</td>\n",
              "      <td>25126</td>\n",
              "      <td>1</td>\n",
              "      <td>5</td>\n",
              "      <td>petrol</td>\n",
              "      <td>5-Speed</td>\n",
              "      <td>Manual</td>\n",
              "      <td>515000</td>\n",
              "      <td>13.845069</td>\n",
              "    </tr>\n",
              "  </tbody>\n",
              "</table>\n",
              "</div>\n",
              "    <div class=\"colab-df-buttons\">\n",
              "\n",
              "  <div class=\"colab-df-container\">\n",
              "    <button class=\"colab-df-convert\" onclick=\"convertToInteractive('df-484dc7e3-8916-4842-a509-55f0cae62042')\"\n",
              "            title=\"Convert this dataframe to an interactive table.\"\n",
              "            style=\"display:none;\">\n",
              "\n",
              "  <svg xmlns=\"http://www.w3.org/2000/svg\" height=\"24px\" viewBox=\"0 -960 960 960\">\n",
              "    <path d=\"M120-120v-720h720v720H120Zm60-500h600v-160H180v160Zm220 220h160v-160H400v160Zm0 220h160v-160H400v160ZM180-400h160v-160H180v160Zm440 0h160v-160H620v160ZM180-180h160v-160H180v160Zm440 0h160v-160H620v160Z\"/>\n",
              "  </svg>\n",
              "    </button>\n",
              "\n",
              "  <style>\n",
              "    .colab-df-container {\n",
              "      display:flex;\n",
              "      gap: 12px;\n",
              "    }\n",
              "\n",
              "    .colab-df-convert {\n",
              "      background-color: #E8F0FE;\n",
              "      border: none;\n",
              "      border-radius: 50%;\n",
              "      cursor: pointer;\n",
              "      display: none;\n",
              "      fill: #1967D2;\n",
              "      height: 32px;\n",
              "      padding: 0 0 0 0;\n",
              "      width: 32px;\n",
              "    }\n",
              "\n",
              "    .colab-df-convert:hover {\n",
              "      background-color: #E2EBFA;\n",
              "      box-shadow: 0px 1px 2px rgba(60, 64, 67, 0.3), 0px 1px 3px 1px rgba(60, 64, 67, 0.15);\n",
              "      fill: #174EA6;\n",
              "    }\n",
              "\n",
              "    .colab-df-buttons div {\n",
              "      margin-bottom: 4px;\n",
              "    }\n",
              "\n",
              "    [theme=dark] .colab-df-convert {\n",
              "      background-color: #3B4455;\n",
              "      fill: #D2E3FC;\n",
              "    }\n",
              "\n",
              "    [theme=dark] .colab-df-convert:hover {\n",
              "      background-color: #434B5C;\n",
              "      box-shadow: 0px 1px 3px 1px rgba(0, 0, 0, 0.15);\n",
              "      filter: drop-shadow(0px 1px 2px rgba(0, 0, 0, 0.3));\n",
              "      fill: #FFFFFF;\n",
              "    }\n",
              "  </style>\n",
              "\n",
              "    <script>\n",
              "      const buttonEl =\n",
              "        document.querySelector('#df-484dc7e3-8916-4842-a509-55f0cae62042 button.colab-df-convert');\n",
              "      buttonEl.style.display =\n",
              "        google.colab.kernel.accessAllowed ? 'block' : 'none';\n",
              "\n",
              "      async function convertToInteractive(key) {\n",
              "        const element = document.querySelector('#df-484dc7e3-8916-4842-a509-55f0cae62042');\n",
              "        const dataTable =\n",
              "          await google.colab.kernel.invokeFunction('convertToInteractive',\n",
              "                                                    [key], {});\n",
              "        if (!dataTable) return;\n",
              "\n",
              "        const docLinkHtml = 'Like what you see? Visit the ' +\n",
              "          '<a target=\"_blank\" href=https://colab.research.google.com/notebooks/data_table.ipynb>data table notebook</a>'\n",
              "          + ' to learn more about interactive tables.';\n",
              "        element.innerHTML = '';\n",
              "        dataTable['output_type'] = 'display_data';\n",
              "        await google.colab.output.renderOutput(dataTable, element);\n",
              "        const docLink = document.createElement('div');\n",
              "        docLink.innerHTML = docLinkHtml;\n",
              "        element.appendChild(docLink);\n",
              "      }\n",
              "    </script>\n",
              "  </div>\n",
              "\n",
              "\n",
              "<div id=\"df-e439257a-d847-44fd-bcc3-f7448c71d76c\">\n",
              "  <button class=\"colab-df-quickchart\" onclick=\"quickchart('df-e439257a-d847-44fd-bcc3-f7448c71d76c')\"\n",
              "            title=\"Suggest charts\"\n",
              "            style=\"display:none;\">\n",
              "\n",
              "<svg xmlns=\"http://www.w3.org/2000/svg\" height=\"24px\"viewBox=\"0 0 24 24\"\n",
              "     width=\"24px\">\n",
              "    <g>\n",
              "        <path d=\"M19 3H5c-1.1 0-2 .9-2 2v14c0 1.1.9 2 2 2h14c1.1 0 2-.9 2-2V5c0-1.1-.9-2-2-2zM9 17H7v-7h2v7zm4 0h-2V7h2v10zm4 0h-2v-4h2v4z\"/>\n",
              "    </g>\n",
              "</svg>\n",
              "  </button>\n",
              "\n",
              "<style>\n",
              "  .colab-df-quickchart {\n",
              "      --bg-color: #E8F0FE;\n",
              "      --fill-color: #1967D2;\n",
              "      --hover-bg-color: #E2EBFA;\n",
              "      --hover-fill-color: #174EA6;\n",
              "      --disabled-fill-color: #AAA;\n",
              "      --disabled-bg-color: #DDD;\n",
              "  }\n",
              "\n",
              "  [theme=dark] .colab-df-quickchart {\n",
              "      --bg-color: #3B4455;\n",
              "      --fill-color: #D2E3FC;\n",
              "      --hover-bg-color: #434B5C;\n",
              "      --hover-fill-color: #FFFFFF;\n",
              "      --disabled-bg-color: #3B4455;\n",
              "      --disabled-fill-color: #666;\n",
              "  }\n",
              "\n",
              "  .colab-df-quickchart {\n",
              "    background-color: var(--bg-color);\n",
              "    border: none;\n",
              "    border-radius: 50%;\n",
              "    cursor: pointer;\n",
              "    display: none;\n",
              "    fill: var(--fill-color);\n",
              "    height: 32px;\n",
              "    padding: 0;\n",
              "    width: 32px;\n",
              "  }\n",
              "\n",
              "  .colab-df-quickchart:hover {\n",
              "    background-color: var(--hover-bg-color);\n",
              "    box-shadow: 0 1px 2px rgba(60, 64, 67, 0.3), 0 1px 3px 1px rgba(60, 64, 67, 0.15);\n",
              "    fill: var(--button-hover-fill-color);\n",
              "  }\n",
              "\n",
              "  .colab-df-quickchart-complete:disabled,\n",
              "  .colab-df-quickchart-complete:disabled:hover {\n",
              "    background-color: var(--disabled-bg-color);\n",
              "    fill: var(--disabled-fill-color);\n",
              "    box-shadow: none;\n",
              "  }\n",
              "\n",
              "  .colab-df-spinner {\n",
              "    border: 2px solid var(--fill-color);\n",
              "    border-color: transparent;\n",
              "    border-bottom-color: var(--fill-color);\n",
              "    animation:\n",
              "      spin 1s steps(1) infinite;\n",
              "  }\n",
              "\n",
              "  @keyframes spin {\n",
              "    0% {\n",
              "      border-color: transparent;\n",
              "      border-bottom-color: var(--fill-color);\n",
              "      border-left-color: var(--fill-color);\n",
              "    }\n",
              "    20% {\n",
              "      border-color: transparent;\n",
              "      border-left-color: var(--fill-color);\n",
              "      border-top-color: var(--fill-color);\n",
              "    }\n",
              "    30% {\n",
              "      border-color: transparent;\n",
              "      border-left-color: var(--fill-color);\n",
              "      border-top-color: var(--fill-color);\n",
              "      border-right-color: var(--fill-color);\n",
              "    }\n",
              "    40% {\n",
              "      border-color: transparent;\n",
              "      border-right-color: var(--fill-color);\n",
              "      border-top-color: var(--fill-color);\n",
              "    }\n",
              "    60% {\n",
              "      border-color: transparent;\n",
              "      border-right-color: var(--fill-color);\n",
              "    }\n",
              "    80% {\n",
              "      border-color: transparent;\n",
              "      border-right-color: var(--fill-color);\n",
              "      border-bottom-color: var(--fill-color);\n",
              "    }\n",
              "    90% {\n",
              "      border-color: transparent;\n",
              "      border-bottom-color: var(--fill-color);\n",
              "    }\n",
              "  }\n",
              "</style>\n",
              "\n",
              "  <script>\n",
              "    async function quickchart(key) {\n",
              "      const quickchartButtonEl =\n",
              "        document.querySelector('#' + key + ' button');\n",
              "      quickchartButtonEl.disabled = true;  // To prevent multiple clicks.\n",
              "      quickchartButtonEl.classList.add('colab-df-spinner');\n",
              "      try {\n",
              "        const charts = await google.colab.kernel.invokeFunction(\n",
              "            'suggestCharts', [key], {});\n",
              "      } catch (error) {\n",
              "        console.error('Error during call to suggestCharts:', error);\n",
              "      }\n",
              "      quickchartButtonEl.classList.remove('colab-df-spinner');\n",
              "      quickchartButtonEl.classList.add('colab-df-quickchart-complete');\n",
              "    }\n",
              "    (() => {\n",
              "      let quickchartButtonEl =\n",
              "        document.querySelector('#df-e439257a-d847-44fd-bcc3-f7448c71d76c button');\n",
              "      quickchartButtonEl.style.display =\n",
              "        google.colab.kernel.accessAllowed ? 'block' : 'none';\n",
              "    })();\n",
              "  </script>\n",
              "</div>\n",
              "    </div>\n",
              "  </div>\n"
            ]
          },
          "metadata": {},
          "execution_count": 135
        }
      ]
    },
    {
      "cell_type": "markdown",
      "source": [
        "## 2"
      ],
      "metadata": {
        "id": "mBJ1mWWH0gIF"
      },
      "id": "mBJ1mWWH0gIF"
    },
    {
      "cell_type": "markdown",
      "source": [
        "2. Summarize the `Price` variable and create a kernel density plot. Use `.groupby()` and `.describe()` to summarize prices by brand (`Make`). Make a grouped kernel density plot by `Make`. Which car brands are the most expensive? What do prices look like in general?"
      ],
      "metadata": {
        "id": "DI0H7Lua0MEb"
      },
      "id": "DI0H7Lua0MEb"
    },
    {
      "cell_type": "markdown",
      "source": [
        "For this question, I'm going to use my scaled version of the Price variable, because it will be easier to interpret the values if they don't have a huge range."
      ],
      "metadata": {
        "id": "Aexh22jmttpM"
      },
      "id": "Aexh22jmttpM"
    },
    {
      "cell_type": "code",
      "source": [
        "cars[\"Price_Scaled\"].describe()"
      ],
      "metadata": {
        "colab": {
          "base_uri": "https://localhost:8080/"
        },
        "id": "YERWa3WdaIZF",
        "outputId": "f144bee0-c7cc-43c2-f0c8-ffff3a3f633f"
      },
      "id": "YERWa3WdaIZF",
      "execution_count": 136,
      "outputs": [
        {
          "output_type": "execute_result",
          "data": {
            "text/plain": [
              "count    976.000000\n",
              "mean      14.104001\n",
              "std        0.448823\n",
              "min       13.000000\n",
              "25%       13.765795\n",
              "50%       14.102942\n",
              "75%       14.384228\n",
              "max       15.250000\n",
              "Name: Price_Scaled, dtype: float64"
            ]
          },
          "metadata": {},
          "execution_count": 136
        }
      ]
    },
    {
      "cell_type": "code",
      "source": [
        "cars.loc[:, [\"Price_Scaled\", \"Make\"]].groupby([\"Make\"]).describe()"
      ],
      "metadata": {
        "colab": {
          "base_uri": "https://localhost:8080/",
          "height": 651
        },
        "id": "Zi4w0hwiaMG9",
        "outputId": "20c3b554-d444-46a8-82e0-f11e0828fed7"
      },
      "id": "Zi4w0hwiaMG9",
      "execution_count": 137,
      "outputs": [
        {
          "output_type": "execute_result",
          "data": {
            "text/plain": [
              "              Price_Scaled                                             \\\n",
              "                     count       mean       std        min        25%   \n",
              "Make                                                                    \n",
              "Chevrolet              6.0  13.613042  0.480975  13.188151  13.261539   \n",
              "Datsun                 3.0  13.269194  0.036311  13.232114  13.251449   \n",
              "Ford                  52.0  14.161427  0.210895  13.270783  14.054527   \n",
              "Honda                 73.0  14.229465  0.336972  13.356645  13.965653   \n",
              "Hyundai              305.0  14.061658  0.398781  13.114331  13.785051   \n",
              "Jeep                   4.0  14.909738  0.105084  14.763300  14.876417   \n",
              "Kia                    8.0  14.985324  0.076877  14.822738  14.965389   \n",
              "MG Motors             35.0  15.132199  0.066263  14.971763  15.088892   \n",
              "Mahindra              18.0  14.592100  0.159906  14.280502  14.544955   \n",
              "Maruti Suzuki        293.0  13.911280  0.371409  13.068963  13.619496   \n",
              "Nissan                 4.0  14.334341  0.392610  13.764217  14.230922   \n",
              "Renault               68.0  14.044009  0.331717  13.260385  13.764211   \n",
              "Skoda                  5.0  14.266529  0.703791  13.678545  13.745088   \n",
              "Tata                  23.0  14.413598  0.596856  13.000000  14.259530   \n",
              "Toyota                50.0  14.228654  0.360112  13.508985  13.864561   \n",
              "Volkswagen            29.0  13.987889  0.203839  13.597355  13.896168   \n",
              "\n",
              "                                                \n",
              "                     50%        75%        max  \n",
              "Make                                            \n",
              "Chevrolet      13.445433  13.864828  14.394369  \n",
              "Datsun         13.270783  13.287734  13.304685  \n",
              "Ford           14.162640  14.269131  14.572571  \n",
              "Honda          14.266586  14.419827  14.938490  \n",
              "Hyundai        14.059241  14.330727  15.063692  \n",
              "Jeep           14.933413  14.966733  15.008827  \n",
              "Kia            14.996253  15.042662  15.063117  \n",
              "MG Motors      15.122762  15.190744  15.211260  \n",
              "Mahindra       14.598828  14.654396  14.890513  \n",
              "Maruti Suzuki  13.868103  14.239470  14.659661  \n",
              "Nissan         14.481870  14.585290  14.609408  \n",
              "Renault        14.068542  14.286754  14.660520  \n",
              "Skoda          13.888761  14.770252  15.250000  \n",
              "Tata           14.368246  14.944517  15.250000  \n",
              "Toyota         14.396608  14.531374  14.596669  \n",
              "Volkswagen     14.009431  14.150553  14.272935  "
            ],
            "text/html": [
              "\n",
              "  <div id=\"df-3d34deeb-cd0b-4171-a4a5-eb95482abace\" class=\"colab-df-container\">\n",
              "    <div>\n",
              "<style scoped>\n",
              "    .dataframe tbody tr th:only-of-type {\n",
              "        vertical-align: middle;\n",
              "    }\n",
              "\n",
              "    .dataframe tbody tr th {\n",
              "        vertical-align: top;\n",
              "    }\n",
              "\n",
              "    .dataframe thead tr th {\n",
              "        text-align: left;\n",
              "    }\n",
              "\n",
              "    .dataframe thead tr:last-of-type th {\n",
              "        text-align: right;\n",
              "    }\n",
              "</style>\n",
              "<table border=\"1\" class=\"dataframe\">\n",
              "  <thead>\n",
              "    <tr>\n",
              "      <th></th>\n",
              "      <th colspan=\"8\" halign=\"left\">Price_Scaled</th>\n",
              "    </tr>\n",
              "    <tr>\n",
              "      <th></th>\n",
              "      <th>count</th>\n",
              "      <th>mean</th>\n",
              "      <th>std</th>\n",
              "      <th>min</th>\n",
              "      <th>25%</th>\n",
              "      <th>50%</th>\n",
              "      <th>75%</th>\n",
              "      <th>max</th>\n",
              "    </tr>\n",
              "    <tr>\n",
              "      <th>Make</th>\n",
              "      <th></th>\n",
              "      <th></th>\n",
              "      <th></th>\n",
              "      <th></th>\n",
              "      <th></th>\n",
              "      <th></th>\n",
              "      <th></th>\n",
              "      <th></th>\n",
              "    </tr>\n",
              "  </thead>\n",
              "  <tbody>\n",
              "    <tr>\n",
              "      <th>Chevrolet</th>\n",
              "      <td>6.0</td>\n",
              "      <td>13.613042</td>\n",
              "      <td>0.480975</td>\n",
              "      <td>13.188151</td>\n",
              "      <td>13.261539</td>\n",
              "      <td>13.445433</td>\n",
              "      <td>13.864828</td>\n",
              "      <td>14.394369</td>\n",
              "    </tr>\n",
              "    <tr>\n",
              "      <th>Datsun</th>\n",
              "      <td>3.0</td>\n",
              "      <td>13.269194</td>\n",
              "      <td>0.036311</td>\n",
              "      <td>13.232114</td>\n",
              "      <td>13.251449</td>\n",
              "      <td>13.270783</td>\n",
              "      <td>13.287734</td>\n",
              "      <td>13.304685</td>\n",
              "    </tr>\n",
              "    <tr>\n",
              "      <th>Ford</th>\n",
              "      <td>52.0</td>\n",
              "      <td>14.161427</td>\n",
              "      <td>0.210895</td>\n",
              "      <td>13.270783</td>\n",
              "      <td>14.054527</td>\n",
              "      <td>14.162640</td>\n",
              "      <td>14.269131</td>\n",
              "      <td>14.572571</td>\n",
              "    </tr>\n",
              "    <tr>\n",
              "      <th>Honda</th>\n",
              "      <td>73.0</td>\n",
              "      <td>14.229465</td>\n",
              "      <td>0.336972</td>\n",
              "      <td>13.356645</td>\n",
              "      <td>13.965653</td>\n",
              "      <td>14.266586</td>\n",
              "      <td>14.419827</td>\n",
              "      <td>14.938490</td>\n",
              "    </tr>\n",
              "    <tr>\n",
              "      <th>Hyundai</th>\n",
              "      <td>305.0</td>\n",
              "      <td>14.061658</td>\n",
              "      <td>0.398781</td>\n",
              "      <td>13.114331</td>\n",
              "      <td>13.785051</td>\n",
              "      <td>14.059241</td>\n",
              "      <td>14.330727</td>\n",
              "      <td>15.063692</td>\n",
              "    </tr>\n",
              "    <tr>\n",
              "      <th>Jeep</th>\n",
              "      <td>4.0</td>\n",
              "      <td>14.909738</td>\n",
              "      <td>0.105084</td>\n",
              "      <td>14.763300</td>\n",
              "      <td>14.876417</td>\n",
              "      <td>14.933413</td>\n",
              "      <td>14.966733</td>\n",
              "      <td>15.008827</td>\n",
              "    </tr>\n",
              "    <tr>\n",
              "      <th>Kia</th>\n",
              "      <td>8.0</td>\n",
              "      <td>14.985324</td>\n",
              "      <td>0.076877</td>\n",
              "      <td>14.822738</td>\n",
              "      <td>14.965389</td>\n",
              "      <td>14.996253</td>\n",
              "      <td>15.042662</td>\n",
              "      <td>15.063117</td>\n",
              "    </tr>\n",
              "    <tr>\n",
              "      <th>MG Motors</th>\n",
              "      <td>35.0</td>\n",
              "      <td>15.132199</td>\n",
              "      <td>0.066263</td>\n",
              "      <td>14.971763</td>\n",
              "      <td>15.088892</td>\n",
              "      <td>15.122762</td>\n",
              "      <td>15.190744</td>\n",
              "      <td>15.211260</td>\n",
              "    </tr>\n",
              "    <tr>\n",
              "      <th>Mahindra</th>\n",
              "      <td>18.0</td>\n",
              "      <td>14.592100</td>\n",
              "      <td>0.159906</td>\n",
              "      <td>14.280502</td>\n",
              "      <td>14.544955</td>\n",
              "      <td>14.598828</td>\n",
              "      <td>14.654396</td>\n",
              "      <td>14.890513</td>\n",
              "    </tr>\n",
              "    <tr>\n",
              "      <th>Maruti Suzuki</th>\n",
              "      <td>293.0</td>\n",
              "      <td>13.911280</td>\n",
              "      <td>0.371409</td>\n",
              "      <td>13.068963</td>\n",
              "      <td>13.619496</td>\n",
              "      <td>13.868103</td>\n",
              "      <td>14.239470</td>\n",
              "      <td>14.659661</td>\n",
              "    </tr>\n",
              "    <tr>\n",
              "      <th>Nissan</th>\n",
              "      <td>4.0</td>\n",
              "      <td>14.334341</td>\n",
              "      <td>0.392610</td>\n",
              "      <td>13.764217</td>\n",
              "      <td>14.230922</td>\n",
              "      <td>14.481870</td>\n",
              "      <td>14.585290</td>\n",
              "      <td>14.609408</td>\n",
              "    </tr>\n",
              "    <tr>\n",
              "      <th>Renault</th>\n",
              "      <td>68.0</td>\n",
              "      <td>14.044009</td>\n",
              "      <td>0.331717</td>\n",
              "      <td>13.260385</td>\n",
              "      <td>13.764211</td>\n",
              "      <td>14.068542</td>\n",
              "      <td>14.286754</td>\n",
              "      <td>14.660520</td>\n",
              "    </tr>\n",
              "    <tr>\n",
              "      <th>Skoda</th>\n",
              "      <td>5.0</td>\n",
              "      <td>14.266529</td>\n",
              "      <td>0.703791</td>\n",
              "      <td>13.678545</td>\n",
              "      <td>13.745088</td>\n",
              "      <td>13.888761</td>\n",
              "      <td>14.770252</td>\n",
              "      <td>15.250000</td>\n",
              "    </tr>\n",
              "    <tr>\n",
              "      <th>Tata</th>\n",
              "      <td>23.0</td>\n",
              "      <td>14.413598</td>\n",
              "      <td>0.596856</td>\n",
              "      <td>13.000000</td>\n",
              "      <td>14.259530</td>\n",
              "      <td>14.368246</td>\n",
              "      <td>14.944517</td>\n",
              "      <td>15.250000</td>\n",
              "    </tr>\n",
              "    <tr>\n",
              "      <th>Toyota</th>\n",
              "      <td>50.0</td>\n",
              "      <td>14.228654</td>\n",
              "      <td>0.360112</td>\n",
              "      <td>13.508985</td>\n",
              "      <td>13.864561</td>\n",
              "      <td>14.396608</td>\n",
              "      <td>14.531374</td>\n",
              "      <td>14.596669</td>\n",
              "    </tr>\n",
              "    <tr>\n",
              "      <th>Volkswagen</th>\n",
              "      <td>29.0</td>\n",
              "      <td>13.987889</td>\n",
              "      <td>0.203839</td>\n",
              "      <td>13.597355</td>\n",
              "      <td>13.896168</td>\n",
              "      <td>14.009431</td>\n",
              "      <td>14.150553</td>\n",
              "      <td>14.272935</td>\n",
              "    </tr>\n",
              "  </tbody>\n",
              "</table>\n",
              "</div>\n",
              "    <div class=\"colab-df-buttons\">\n",
              "\n",
              "  <div class=\"colab-df-container\">\n",
              "    <button class=\"colab-df-convert\" onclick=\"convertToInteractive('df-3d34deeb-cd0b-4171-a4a5-eb95482abace')\"\n",
              "            title=\"Convert this dataframe to an interactive table.\"\n",
              "            style=\"display:none;\">\n",
              "\n",
              "  <svg xmlns=\"http://www.w3.org/2000/svg\" height=\"24px\" viewBox=\"0 -960 960 960\">\n",
              "    <path d=\"M120-120v-720h720v720H120Zm60-500h600v-160H180v160Zm220 220h160v-160H400v160Zm0 220h160v-160H400v160ZM180-400h160v-160H180v160Zm440 0h160v-160H620v160ZM180-180h160v-160H180v160Zm440 0h160v-160H620v160Z\"/>\n",
              "  </svg>\n",
              "    </button>\n",
              "\n",
              "  <style>\n",
              "    .colab-df-container {\n",
              "      display:flex;\n",
              "      gap: 12px;\n",
              "    }\n",
              "\n",
              "    .colab-df-convert {\n",
              "      background-color: #E8F0FE;\n",
              "      border: none;\n",
              "      border-radius: 50%;\n",
              "      cursor: pointer;\n",
              "      display: none;\n",
              "      fill: #1967D2;\n",
              "      height: 32px;\n",
              "      padding: 0 0 0 0;\n",
              "      width: 32px;\n",
              "    }\n",
              "\n",
              "    .colab-df-convert:hover {\n",
              "      background-color: #E2EBFA;\n",
              "      box-shadow: 0px 1px 2px rgba(60, 64, 67, 0.3), 0px 1px 3px 1px rgba(60, 64, 67, 0.15);\n",
              "      fill: #174EA6;\n",
              "    }\n",
              "\n",
              "    .colab-df-buttons div {\n",
              "      margin-bottom: 4px;\n",
              "    }\n",
              "\n",
              "    [theme=dark] .colab-df-convert {\n",
              "      background-color: #3B4455;\n",
              "      fill: #D2E3FC;\n",
              "    }\n",
              "\n",
              "    [theme=dark] .colab-df-convert:hover {\n",
              "      background-color: #434B5C;\n",
              "      box-shadow: 0px 1px 3px 1px rgba(0, 0, 0, 0.15);\n",
              "      filter: drop-shadow(0px 1px 2px rgba(0, 0, 0, 0.3));\n",
              "      fill: #FFFFFF;\n",
              "    }\n",
              "  </style>\n",
              "\n",
              "    <script>\n",
              "      const buttonEl =\n",
              "        document.querySelector('#df-3d34deeb-cd0b-4171-a4a5-eb95482abace button.colab-df-convert');\n",
              "      buttonEl.style.display =\n",
              "        google.colab.kernel.accessAllowed ? 'block' : 'none';\n",
              "\n",
              "      async function convertToInteractive(key) {\n",
              "        const element = document.querySelector('#df-3d34deeb-cd0b-4171-a4a5-eb95482abace');\n",
              "        const dataTable =\n",
              "          await google.colab.kernel.invokeFunction('convertToInteractive',\n",
              "                                                    [key], {});\n",
              "        if (!dataTable) return;\n",
              "\n",
              "        const docLinkHtml = 'Like what you see? Visit the ' +\n",
              "          '<a target=\"_blank\" href=https://colab.research.google.com/notebooks/data_table.ipynb>data table notebook</a>'\n",
              "          + ' to learn more about interactive tables.';\n",
              "        element.innerHTML = '';\n",
              "        dataTable['output_type'] = 'display_data';\n",
              "        await google.colab.output.renderOutput(dataTable, element);\n",
              "        const docLink = document.createElement('div');\n",
              "        docLink.innerHTML = docLinkHtml;\n",
              "        element.appendChild(docLink);\n",
              "      }\n",
              "    </script>\n",
              "  </div>\n",
              "\n",
              "\n",
              "<div id=\"df-c16db859-20c5-4d92-8b0e-2e594492e6ab\">\n",
              "  <button class=\"colab-df-quickchart\" onclick=\"quickchart('df-c16db859-20c5-4d92-8b0e-2e594492e6ab')\"\n",
              "            title=\"Suggest charts\"\n",
              "            style=\"display:none;\">\n",
              "\n",
              "<svg xmlns=\"http://www.w3.org/2000/svg\" height=\"24px\"viewBox=\"0 0 24 24\"\n",
              "     width=\"24px\">\n",
              "    <g>\n",
              "        <path d=\"M19 3H5c-1.1 0-2 .9-2 2v14c0 1.1.9 2 2 2h14c1.1 0 2-.9 2-2V5c0-1.1-.9-2-2-2zM9 17H7v-7h2v7zm4 0h-2V7h2v10zm4 0h-2v-4h2v4z\"/>\n",
              "    </g>\n",
              "</svg>\n",
              "  </button>\n",
              "\n",
              "<style>\n",
              "  .colab-df-quickchart {\n",
              "      --bg-color: #E8F0FE;\n",
              "      --fill-color: #1967D2;\n",
              "      --hover-bg-color: #E2EBFA;\n",
              "      --hover-fill-color: #174EA6;\n",
              "      --disabled-fill-color: #AAA;\n",
              "      --disabled-bg-color: #DDD;\n",
              "  }\n",
              "\n",
              "  [theme=dark] .colab-df-quickchart {\n",
              "      --bg-color: #3B4455;\n",
              "      --fill-color: #D2E3FC;\n",
              "      --hover-bg-color: #434B5C;\n",
              "      --hover-fill-color: #FFFFFF;\n",
              "      --disabled-bg-color: #3B4455;\n",
              "      --disabled-fill-color: #666;\n",
              "  }\n",
              "\n",
              "  .colab-df-quickchart {\n",
              "    background-color: var(--bg-color);\n",
              "    border: none;\n",
              "    border-radius: 50%;\n",
              "    cursor: pointer;\n",
              "    display: none;\n",
              "    fill: var(--fill-color);\n",
              "    height: 32px;\n",
              "    padding: 0;\n",
              "    width: 32px;\n",
              "  }\n",
              "\n",
              "  .colab-df-quickchart:hover {\n",
              "    background-color: var(--hover-bg-color);\n",
              "    box-shadow: 0 1px 2px rgba(60, 64, 67, 0.3), 0 1px 3px 1px rgba(60, 64, 67, 0.15);\n",
              "    fill: var(--button-hover-fill-color);\n",
              "  }\n",
              "\n",
              "  .colab-df-quickchart-complete:disabled,\n",
              "  .colab-df-quickchart-complete:disabled:hover {\n",
              "    background-color: var(--disabled-bg-color);\n",
              "    fill: var(--disabled-fill-color);\n",
              "    box-shadow: none;\n",
              "  }\n",
              "\n",
              "  .colab-df-spinner {\n",
              "    border: 2px solid var(--fill-color);\n",
              "    border-color: transparent;\n",
              "    border-bottom-color: var(--fill-color);\n",
              "    animation:\n",
              "      spin 1s steps(1) infinite;\n",
              "  }\n",
              "\n",
              "  @keyframes spin {\n",
              "    0% {\n",
              "      border-color: transparent;\n",
              "      border-bottom-color: var(--fill-color);\n",
              "      border-left-color: var(--fill-color);\n",
              "    }\n",
              "    20% {\n",
              "      border-color: transparent;\n",
              "      border-left-color: var(--fill-color);\n",
              "      border-top-color: var(--fill-color);\n",
              "    }\n",
              "    30% {\n",
              "      border-color: transparent;\n",
              "      border-left-color: var(--fill-color);\n",
              "      border-top-color: var(--fill-color);\n",
              "      border-right-color: var(--fill-color);\n",
              "    }\n",
              "    40% {\n",
              "      border-color: transparent;\n",
              "      border-right-color: var(--fill-color);\n",
              "      border-top-color: var(--fill-color);\n",
              "    }\n",
              "    60% {\n",
              "      border-color: transparent;\n",
              "      border-right-color: var(--fill-color);\n",
              "    }\n",
              "    80% {\n",
              "      border-color: transparent;\n",
              "      border-right-color: var(--fill-color);\n",
              "      border-bottom-color: var(--fill-color);\n",
              "    }\n",
              "    90% {\n",
              "      border-color: transparent;\n",
              "      border-bottom-color: var(--fill-color);\n",
              "    }\n",
              "  }\n",
              "</style>\n",
              "\n",
              "  <script>\n",
              "    async function quickchart(key) {\n",
              "      const quickchartButtonEl =\n",
              "        document.querySelector('#' + key + ' button');\n",
              "      quickchartButtonEl.disabled = true;  // To prevent multiple clicks.\n",
              "      quickchartButtonEl.classList.add('colab-df-spinner');\n",
              "      try {\n",
              "        const charts = await google.colab.kernel.invokeFunction(\n",
              "            'suggestCharts', [key], {});\n",
              "      } catch (error) {\n",
              "        console.error('Error during call to suggestCharts:', error);\n",
              "      }\n",
              "      quickchartButtonEl.classList.remove('colab-df-spinner');\n",
              "      quickchartButtonEl.classList.add('colab-df-quickchart-complete');\n",
              "    }\n",
              "    (() => {\n",
              "      let quickchartButtonEl =\n",
              "        document.querySelector('#df-c16db859-20c5-4d92-8b0e-2e594492e6ab button');\n",
              "      quickchartButtonEl.style.display =\n",
              "        google.colab.kernel.accessAllowed ? 'block' : 'none';\n",
              "    })();\n",
              "  </script>\n",
              "</div>\n",
              "    </div>\n",
              "  </div>\n"
            ]
          },
          "metadata": {},
          "execution_count": 137
        }
      ]
    },
    {
      "cell_type": "code",
      "source": [
        "#cars.loc[:, [\"Price\", \"Make\"]].groupby([\"Make\"]).plot.density()\n",
        "sns.displot(cars, x=\"Price_Scaled\", kind=\"kde\", hue=\"Make\")"
      ],
      "metadata": {
        "colab": {
          "base_uri": "https://localhost:8080/",
          "height": 514
        },
        "id": "obU4KI3XbTyU",
        "outputId": "d0691d87-71b0-4d54-f9f4-6689c3677c38"
      },
      "id": "obU4KI3XbTyU",
      "execution_count": 138,
      "outputs": [
        {
          "output_type": "execute_result",
          "data": {
            "text/plain": [
              "<seaborn.axisgrid.FacetGrid at 0x7b88089ee860>"
            ]
          },
          "metadata": {},
          "execution_count": 138
        },
        {
          "output_type": "display_data",
          "data": {
            "text/plain": [
              "<Figure size 644.5x500 with 1 Axes>"
            ],
            "image/png": "[encoded data removed]"
          },
          "metadata": {}
        }
      ]
    },
    {
      "cell_type": "markdown",
      "source": [
        "TODO -- write about price trends"
      ],
      "metadata": {
        "id": "7LC_-hiucGqr"
      },
      "id": "7LC_-hiucGqr"
    },
    {
      "cell_type": "markdown",
      "source": [
        "## 3"
      ],
      "metadata": {
        "id": "WYIRysiy0wcq"
      },
      "id": "WYIRysiy0wcq"
    },
    {
      "cell_type": "markdown",
      "source": [
        "3. Split the data into an 80% training set and a 20% testing set."
      ],
      "metadata": {
        "id": "09M7r_SD0Hkm"
      },
      "id": "09M7r_SD0Hkm"
    },
    {
      "cell_type": "markdown",
      "source": [
        "Before splitting the data into a training and test set, I will create all the additional variables that I need (specifically, the one hot encodings)."
      ],
      "metadata": {
        "id": "R50fTybmC7IZ"
      },
      "id": "R50fTybmC7IZ"
    },
    {
      "cell_type": "code",
      "source": [
        "num_vars = [\"Seating_Capacity\", \"Make_Year\", \"Mileage_Run\", \"No_of_Owners\"]\n",
        "cat_vars = vars = [\"Color\", \"Body_Type\", \"Make\", \"Fuel_Type\", \"Transmission\", \"Transmission_Type\"]"
      ],
      "metadata": {
        "id": "CYfm7tTidwos"
      },
      "id": "CYfm7tTidwos",
      "execution_count": 139,
      "outputs": []
    },
    {
      "cell_type": "code",
      "source": [
        "one_hot_encodings = pd.get_dummies(cars[cat_vars],dtype='int')\n",
        "one_hot_encoding_names = one_hot_encodings.columns\n",
        "\n",
        "print(one_hot_encoding_names)\n",
        "print(one_hot_encodings.shape)"
      ],
      "metadata": {
        "colab": {
          "base_uri": "https://localhost:8080/"
        },
        "id": "QRbaSCjDBCeE",
        "outputId": "ff7c8cf8-e1d4-47d0-e878-4bcc7a94647f"
      },
      "id": "QRbaSCjDBCeE",
      "execution_count": 140,
      "outputs": [
        {
          "output_type": "stream",
          "name": "stdout",
          "text": [
            "Index(['Color_beige', 'Color_black', 'Color_blue', 'Color_bronze',\n",
            "       'Color_brown', 'Color_golden', 'Color_green', 'Color_grey',\n",
            "       'Color_maroon', 'Color_orange', 'Color_purple', 'Color_red',\n",
            "       'Color_silver', 'Color_white', 'Color_yellow', 'Body_Type_crossover',\n",
            "       'Body_Type_hatchback', 'Body_Type_muv', 'Body_Type_sedan',\n",
            "       'Body_Type_suv', 'Make_Chevrolet', 'Make_Datsun', 'Make_Ford',\n",
            "       'Make_Honda', 'Make_Hyundai', 'Make_Jeep', 'Make_Kia', 'Make_MG Motors',\n",
            "       'Make_Mahindra', 'Make_Maruti Suzuki', 'Make_Nissan', 'Make_Renault',\n",
            "       'Make_Skoda', 'Make_Tata', 'Make_Toyota', 'Make_Volkswagen',\n",
            "       'Fuel_Type_diesel', 'Fuel_Type_petrol', 'Fuel_Type_petrol+cng',\n",
            "       'Transmission_4-Speed', 'Transmission_5-Speed', 'Transmission_6-Speed',\n",
            "       'Transmission_7-Speed', 'Transmission_CVT',\n",
            "       'Transmission_Type_Automatic', 'Transmission_Type_Manual'],\n",
            "      dtype='object')\n",
            "(976, 46)\n"
          ]
        }
      ]
    },
    {
      "cell_type": "code",
      "source": [
        "cars = pd.concat([cars, one_hot_encodings], axis = 1)\n",
        "cars.head()"
      ],
      "metadata": {
        "colab": {
          "base_uri": "https://localhost:8080/",
          "height": 272
        },
        "id": "R34AOwHNB-x5",
        "outputId": "cf68d081-2841-409b-c0fc-163055ea93b8"
      },
      "id": "R34AOwHNB-x5",
      "execution_count": 142,
      "outputs": [
        {
          "output_type": "execute_result",
          "data": {
            "text/plain": [
              "         Make  Make_Year   Color  Body_Type  Mileage_Run  No_of_Owners  \\\n",
              "0  Volkswagen       2017  silver      sedan        44611             1   \n",
              "1     Hyundai       2016     red  crossover        20305             1   \n",
              "2       Honda       2019   white        suv        29540             2   \n",
              "3     Renault       2017  bronze  hatchback        35680             1   \n",
              "4     Hyundai       2017  orange  hatchback        25126             1   \n",
              "\n",
              "   Seating_Capacity Fuel_Type Transmission Transmission_Type  ...  \\\n",
              "0                 5    diesel      7-Speed         Automatic  ...   \n",
              "1                 5    petrol      5-Speed            Manual  ...   \n",
              "2                 5    petrol      5-Speed            Manual  ...   \n",
              "3                 5    petrol      5-Speed            Manual  ...   \n",
              "4                 5    petrol      5-Speed            Manual  ...   \n",
              "\n",
              "   Fuel_Type_diesel  Fuel_Type_petrol  Fuel_Type_petrol+cng  \\\n",
              "0                 1                 0                     0   \n",
              "1                 0                 1                     0   \n",
              "2                 0                 1                     0   \n",
              "3                 0                 1                     0   \n",
              "4                 0                 1                     0   \n",
              "\n",
              "   Transmission_4-Speed  Transmission_5-Speed  Transmission_6-Speed  \\\n",
              "0                     0                     0                     0   \n",
              "1                     0                     1                     0   \n",
              "2                     0                     1                     0   \n",
              "3                     0                     1                     0   \n",
              "4                     0                     1                     0   \n",
              "\n",
              "   Transmission_7-Speed  Transmission_CVT  Transmission_Type_Automatic  \\\n",
              "0                     1                 0                            1   \n",
              "1                     0                 0                            0   \n",
              "2                     0                 0                            0   \n",
              "3                     0                 0                            0   \n",
              "4                     0                 0                            0   \n",
              "\n",
              "   Transmission_Type_Manual  \n",
              "0                         0  \n",
              "1                         1  \n",
              "2                         1  \n",
              "3                         1  \n",
              "4                         1  \n",
              "\n",
              "[5 rows x 58 columns]"
            ],
            "text/html": [
              "\n",
              "  <div id=\"df-24869450-d71b-4e79-a7dd-5adad1d61dc4\" class=\"colab-df-container\">\n",
              "    <div>\n",
              "<style scoped>\n",
              "    .dataframe tbody tr th:only-of-type {\n",
              "        vertical-align: middle;\n",
              "    }\n",
              "\n",
              "    .dataframe tbody tr th {\n",
              "        vertical-align: top;\n",
              "    }\n",
              "\n",
              "    .dataframe thead th {\n",
              "        text-align: right;\n",
              "    }\n",
              "</style>\n",
              "<table border=\"1\" class=\"dataframe\">\n",
              "  <thead>\n",
              "    <tr style=\"text-align: right;\">\n",
              "      <th></th>\n",
              "      <th>Make</th>\n",
              "      <th>Make_Year</th>\n",
              "      <th>Color</th>\n",
              "      <th>Body_Type</th>\n",
              "      <th>Mileage_Run</th>\n",
              "      <th>No_of_Owners</th>\n",
              "      <th>Seating_Capacity</th>\n",
              "      <th>Fuel_Type</th>\n",
              "      <th>Transmission</th>\n",
              "      <th>Transmission_Type</th>\n",
              "      <th>...</th>\n",
              "      <th>Fuel_Type_diesel</th>\n",
              "      <th>Fuel_Type_petrol</th>\n",
              "      <th>Fuel_Type_petrol+cng</th>\n",
              "      <th>Transmission_4-Speed</th>\n",
              "      <th>Transmission_5-Speed</th>\n",
              "      <th>Transmission_6-Speed</th>\n",
              "      <th>Transmission_7-Speed</th>\n",
              "      <th>Transmission_CVT</th>\n",
              "      <th>Transmission_Type_Automatic</th>\n",
              "      <th>Transmission_Type_Manual</th>\n",
              "    </tr>\n",
              "  </thead>\n",
              "  <tbody>\n",
              "    <tr>\n",
              "      <th>0</th>\n",
              "      <td>Volkswagen</td>\n",
              "      <td>2017</td>\n",
              "      <td>silver</td>\n",
              "      <td>sedan</td>\n",
              "      <td>44611</td>\n",
              "      <td>1</td>\n",
              "      <td>5</td>\n",
              "      <td>diesel</td>\n",
              "      <td>7-Speed</td>\n",
              "      <td>Automatic</td>\n",
              "      <td>...</td>\n",
              "      <td>1</td>\n",
              "      <td>0</td>\n",
              "      <td>0</td>\n",
              "      <td>0</td>\n",
              "      <td>0</td>\n",
              "      <td>0</td>\n",
              "      <td>1</td>\n",
              "      <td>0</td>\n",
              "      <td>1</td>\n",
              "      <td>0</td>\n",
              "    </tr>\n",
              "    <tr>\n",
              "      <th>1</th>\n",
              "      <td>Hyundai</td>\n",
              "      <td>2016</td>\n",
              "      <td>red</td>\n",
              "      <td>crossover</td>\n",
              "      <td>20305</td>\n",
              "      <td>1</td>\n",
              "      <td>5</td>\n",
              "      <td>petrol</td>\n",
              "      <td>5-Speed</td>\n",
              "      <td>Manual</td>\n",
              "      <td>...</td>\n",
              "      <td>0</td>\n",
              "      <td>1</td>\n",
              "      <td>0</td>\n",
              "      <td>0</td>\n",
              "      <td>1</td>\n",
              "      <td>0</td>\n",
              "      <td>0</td>\n",
              "      <td>0</td>\n",
              "      <td>0</td>\n",
              "      <td>1</td>\n",
              "    </tr>\n",
              "    <tr>\n",
              "      <th>2</th>\n",
              "      <td>Honda</td>\n",
              "      <td>2019</td>\n",
              "      <td>white</td>\n",
              "      <td>suv</td>\n",
              "      <td>29540</td>\n",
              "      <td>2</td>\n",
              "      <td>5</td>\n",
              "      <td>petrol</td>\n",
              "      <td>5-Speed</td>\n",
              "      <td>Manual</td>\n",
              "      <td>...</td>\n",
              "      <td>0</td>\n",
              "      <td>1</td>\n",
              "      <td>0</td>\n",
              "      <td>0</td>\n",
              "      <td>1</td>\n",
              "      <td>0</td>\n",
              "      <td>0</td>\n",
              "      <td>0</td>\n",
              "      <td>0</td>\n",
              "      <td>1</td>\n",
              "    </tr>\n",
              "    <tr>\n",
              "      <th>3</th>\n",
              "      <td>Renault</td>\n",
              "      <td>2017</td>\n",
              "      <td>bronze</td>\n",
              "      <td>hatchback</td>\n",
              "      <td>35680</td>\n",
              "      <td>1</td>\n",
              "      <td>5</td>\n",
              "      <td>petrol</td>\n",
              "      <td>5-Speed</td>\n",
              "      <td>Manual</td>\n",
              "      <td>...</td>\n",
              "      <td>0</td>\n",
              "      <td>1</td>\n",
              "      <td>0</td>\n",
              "      <td>0</td>\n",
              "      <td>1</td>\n",
              "      <td>0</td>\n",
              "      <td>0</td>\n",
              "      <td>0</td>\n",
              "      <td>0</td>\n",
              "      <td>1</td>\n",
              "    </tr>\n",
              "    <tr>\n",
              "      <th>4</th>\n",
              "      <td>Hyundai</td>\n",
              "      <td>2017</td>\n",
              "      <td>orange</td>\n",
              "      <td>hatchback</td>\n",
              "      <td>25126</td>\n",
              "      <td>1</td>\n",
              "      <td>5</td>\n",
              "      <td>petrol</td>\n",
              "      <td>5-Speed</td>\n",
              "      <td>Manual</td>\n",
              "      <td>...</td>\n",
              "      <td>0</td>\n",
              "      <td>1</td>\n",
              "      <td>0</td>\n",
              "      <td>0</td>\n",
              "      <td>1</td>\n",
              "      <td>0</td>\n",
              "      <td>0</td>\n",
              "      <td>0</td>\n",
              "      <td>0</td>\n",
              "      <td>1</td>\n",
              "    </tr>\n",
              "  </tbody>\n",
              "</table>\n",
              "<p>5 rows × 58 columns</p>\n",
              "</div>\n",
              "    <div class=\"colab-df-buttons\">\n",
              "\n",
              "  <div class=\"colab-df-container\">\n",
              "    <button class=\"colab-df-convert\" onclick=\"convertToInteractive('df-24869450-d71b-4e79-a7dd-5adad1d61dc4')\"\n",
              "            title=\"Convert this dataframe to an interactive table.\"\n",
              "            style=\"display:none;\">\n",
              "\n",
              "  <svg xmlns=\"http://www.w3.org/2000/svg\" height=\"24px\" viewBox=\"0 -960 960 960\">\n",
              "    <path d=\"M120-120v-720h720v720H120Zm60-500h600v-160H180v160Zm220 220h160v-160H400v160Zm0 220h160v-160H400v160ZM180-400h160v-160H180v160Zm440 0h160v-160H620v160ZM180-180h160v-160H180v160Zm440 0h160v-160H620v160Z\"/>\n",
              "  </svg>\n",
              "    </button>\n",
              "\n",
              "  <style>\n",
              "    .colab-df-container {\n",
              "      display:flex;\n",
              "      gap: 12px;\n",
              "    }\n",
              "\n",
              "    .colab-df-convert {\n",
              "      background-color: #E8F0FE;\n",
              "      border: none;\n",
              "      border-radius: 50%;\n",
              "      cursor: pointer;\n",
              "      display: none;\n",
              "      fill: #1967D2;\n",
              "      height: 32px;\n",
              "      padding: 0 0 0 0;\n",
              "      width: 32px;\n",
              "    }\n",
              "\n",
              "    .colab-df-convert:hover {\n",
              "      background-color: #E2EBFA;\n",
              "      box-shadow: 0px 1px 2px rgba(60, 64, 67, 0.3), 0px 1px 3px 1px rgba(60, 64, 67, 0.15);\n",
              "      fill: #174EA6;\n",
              "    }\n",
              "\n",
              "    .colab-df-buttons div {\n",
              "      margin-bottom: 4px;\n",
              "    }\n",
              "\n",
              "    [theme=dark] .colab-df-convert {\n",
              "      background-color: #3B4455;\n",
              "      fill: #D2E3FC;\n",
              "    }\n",
              "\n",
              "    [theme=dark] .colab-df-convert:hover {\n",
              "      background-color: #434B5C;\n",
              "      box-shadow: 0px 1px 3px 1px rgba(0, 0, 0, 0.15);\n",
              "      filter: drop-shadow(0px 1px 2px rgba(0, 0, 0, 0.3));\n",
              "      fill: #FFFFFF;\n",
              "    }\n",
              "  </style>\n",
              "\n",
              "    <script>\n",
              "      const buttonEl =\n",
              "        document.querySelector('#df-24869450-d71b-4e79-a7dd-5adad1d61dc4 button.colab-df-convert');\n",
              "      buttonEl.style.display =\n",
              "        google.colab.kernel.accessAllowed ? 'block' : 'none';\n",
              "\n",
              "      async function convertToInteractive(key) {\n",
              "        const element = document.querySelector('#df-24869450-d71b-4e79-a7dd-5adad1d61dc4');\n",
              "        const dataTable =\n",
              "          await google.colab.kernel.invokeFunction('convertToInteractive',\n",
              "                                                    [key], {});\n",
              "        if (!dataTable) return;\n",
              "\n",
              "        const docLinkHtml = 'Like what you see? Visit the ' +\n",
              "          '<a target=\"_blank\" href=https://colab.research.google.com/notebooks/data_table.ipynb>data table notebook</a>'\n",
              "          + ' to learn more about interactive tables.';\n",
              "        element.innerHTML = '';\n",
              "        dataTable['output_type'] = 'display_data';\n",
              "        await google.colab.output.renderOutput(dataTable, element);\n",
              "        const docLink = document.createElement('div');\n",
              "        docLink.innerHTML = docLinkHtml;\n",
              "        element.appendChild(docLink);\n",
              "      }\n",
              "    </script>\n",
              "  </div>\n",
              "\n",
              "\n",
              "<div id=\"df-31e78e65-3632-41a4-a496-0cb4c3439838\">\n",
              "  <button class=\"colab-df-quickchart\" onclick=\"quickchart('df-31e78e65-3632-41a4-a496-0cb4c3439838')\"\n",
              "            title=\"Suggest charts\"\n",
              "            style=\"display:none;\">\n",
              "\n",
              "<svg xmlns=\"http://www.w3.org/2000/svg\" height=\"24px\"viewBox=\"0 0 24 24\"\n",
              "     width=\"24px\">\n",
              "    <g>\n",
              "        <path d=\"M19 3H5c-1.1 0-2 .9-2 2v14c0 1.1.9 2 2 2h14c1.1 0 2-.9 2-2V5c0-1.1-.9-2-2-2zM9 17H7v-7h2v7zm4 0h-2V7h2v10zm4 0h-2v-4h2v4z\"/>\n",
              "    </g>\n",
              "</svg>\n",
              "  </button>\n",
              "\n",
              "<style>\n",
              "  .colab-df-quickchart {\n",
              "      --bg-color: #E8F0FE;\n",
              "      --fill-color: #1967D2;\n",
              "      --hover-bg-color: #E2EBFA;\n",
              "      --hover-fill-color: #174EA6;\n",
              "      --disabled-fill-color: #AAA;\n",
              "      --disabled-bg-color: #DDD;\n",
              "  }\n",
              "\n",
              "  [theme=dark] .colab-df-quickchart {\n",
              "      --bg-color: #3B4455;\n",
              "      --fill-color: #D2E3FC;\n",
              "      --hover-bg-color: #434B5C;\n",
              "      --hover-fill-color: #FFFFFF;\n",
              "      --disabled-bg-color: #3B4455;\n",
              "      --disabled-fill-color: #666;\n",
              "  }\n",
              "\n",
              "  .colab-df-quickchart {\n",
              "    background-color: var(--bg-color);\n",
              "    border: none;\n",
              "    border-radius: 50%;\n",
              "    cursor: pointer;\n",
              "    display: none;\n",
              "    fill: var(--fill-color);\n",
              "    height: 32px;\n",
              "    padding: 0;\n",
              "    width: 32px;\n",
              "  }\n",
              "\n",
              "  .colab-df-quickchart:hover {\n",
              "    background-color: var(--hover-bg-color);\n",
              "    box-shadow: 0 1px 2px rgba(60, 64, 67, 0.3), 0 1px 3px 1px rgba(60, 64, 67, 0.15);\n",
              "    fill: var(--button-hover-fill-color);\n",
              "  }\n",
              "\n",
              "  .colab-df-quickchart-complete:disabled,\n",
              "  .colab-df-quickchart-complete:disabled:hover {\n",
              "    background-color: var(--disabled-bg-color);\n",
              "    fill: var(--disabled-fill-color);\n",
              "    box-shadow: none;\n",
              "  }\n",
              "\n",
              "  .colab-df-spinner {\n",
              "    border: 2px solid var(--fill-color);\n",
              "    border-color: transparent;\n",
              "    border-bottom-color: var(--fill-color);\n",
              "    animation:\n",
              "      spin 1s steps(1) infinite;\n",
              "  }\n",
              "\n",
              "  @keyframes spin {\n",
              "    0% {\n",
              "      border-color: transparent;\n",
              "      border-bottom-color: var(--fill-color);\n",
              "      border-left-color: var(--fill-color);\n",
              "    }\n",
              "    20% {\n",
              "      border-color: transparent;\n",
              "      border-left-color: var(--fill-color);\n",
              "      border-top-color: var(--fill-color);\n",
              "    }\n",
              "    30% {\n",
              "      border-color: transparent;\n",
              "      border-left-color: var(--fill-color);\n",
              "      border-top-color: var(--fill-color);\n",
              "      border-right-color: var(--fill-color);\n",
              "    }\n",
              "    40% {\n",
              "      border-color: transparent;\n",
              "      border-right-color: var(--fill-color);\n",
              "      border-top-color: var(--fill-color);\n",
              "    }\n",
              "    60% {\n",
              "      border-color: transparent;\n",
              "      border-right-color: var(--fill-color);\n",
              "    }\n",
              "    80% {\n",
              "      border-color: transparent;\n",
              "      border-right-color: var(--fill-color);\n",
              "      border-bottom-color: var(--fill-color);\n",
              "    }\n",
              "    90% {\n",
              "      border-color: transparent;\n",
              "      border-bottom-color: var(--fill-color);\n",
              "    }\n",
              "  }\n",
              "</style>\n",
              "\n",
              "  <script>\n",
              "    async function quickchart(key) {\n",
              "      const quickchartButtonEl =\n",
              "        document.querySelector('#' + key + ' button');\n",
              "      quickchartButtonEl.disabled = true;  // To prevent multiple clicks.\n",
              "      quickchartButtonEl.classList.add('colab-df-spinner');\n",
              "      try {\n",
              "        const charts = await google.colab.kernel.invokeFunction(\n",
              "            'suggestCharts', [key], {});\n",
              "      } catch (error) {\n",
              "        console.error('Error during call to suggestCharts:', error);\n",
              "      }\n",
              "      quickchartButtonEl.classList.remove('colab-df-spinner');\n",
              "      quickchartButtonEl.classList.add('colab-df-quickchart-complete');\n",
              "    }\n",
              "    (() => {\n",
              "      let quickchartButtonEl =\n",
              "        document.querySelector('#df-31e78e65-3632-41a4-a496-0cb4c3439838 button');\n",
              "      quickchartButtonEl.style.display =\n",
              "        google.colab.kernel.accessAllowed ? 'block' : 'none';\n",
              "    })();\n",
              "  </script>\n",
              "</div>\n",
              "    </div>\n",
              "  </div>\n"
            ]
          },
          "metadata": {},
          "execution_count": 142
        }
      ]
    },
    {
      "cell_type": "markdown",
      "source": [
        "Now I can go ahead and split the dataset."
      ],
      "metadata": {
        "id": "NdIgh8ZUDNlD"
      },
      "id": "NdIgh8ZUDNlD"
    },
    {
      "cell_type": "code",
      "source": [
        "from sklearn.model_selection import train_test_split"
      ],
      "metadata": {
        "id": "zfsJAR-ecLHM"
      },
      "id": "zfsJAR-ecLHM",
      "execution_count": 143,
      "outputs": []
    },
    {
      "cell_type": "code",
      "source": [
        "y = cars[\"Price_Scaled\"]\n",
        "X = cars.drop([\"Price\", \"Price_Scaled\"], axis=1)\n",
        "X_train, X_test, y_train, y_test = train_test_split(X, y, test_size=.2, random_state=42)"
      ],
      "metadata": {
        "id": "SrESpP9GcpKS"
      },
      "id": "SrESpP9GcpKS",
      "execution_count": 144,
      "outputs": []
    },
    {
      "cell_type": "markdown",
      "source": [
        "## 4"
      ],
      "metadata": {
        "id": "MFwfWHZN03PG"
      },
      "id": "MFwfWHZN03PG"
    },
    {
      "cell_type": "markdown",
      "source": [
        "4. Let's focus on linear models. Make a model where you regress price on the numeric variables alone; what is the $R^2$ and `RMSE` on the test set? Make a second model where, for the categorical variables, make a model comprised of one-hot encoded regressors/features alone, and regress price on those variables; what is the $R^2$ and `RMSE` on the test set? Which model performs better on the test set? Make a third model that combines all the regressors from the previous two; what is the $R^2$ and `RMSE` on the test set? Does the joint model perform better or worse, and by how much?"
      ],
      "metadata": {
        "id": "DuUDusef0OAj"
      },
      "id": "DuUDusef0OAj"
    },
    {
      "cell_type": "markdown",
      "source": [
        "Now I'll make a model that uses only the numeric variables:"
      ],
      "metadata": {
        "id": "i47VvHF1rCsG"
      },
      "id": "i47VvHF1rCsG"
    },
    {
      "cell_type": "code",
      "source": [
        "from sklearn.linear_model import LinearRegression"
      ],
      "metadata": {
        "id": "Mog70uGyDT6_"
      },
      "id": "Mog70uGyDT6_",
      "execution_count": 145,
      "outputs": []
    },
    {
      "cell_type": "code",
      "source": [
        "num_X_train = X_train.loc[:, num_vars]\n",
        "num_X_test = X_test.loc[:, num_vars]\n",
        "num_reg = LinearRegression().fit(num_X_train, y_train)\n",
        "\n",
        "num_R_squared = num_reg.score(num_X_test, y_test)\n",
        "\n",
        "num_y_hat = num_reg.predict(num_X_test)\n",
        "num_SSE = np.sum( (y_test-num_y_hat)**2 )\n",
        "num_RMSE = (num_SSE/len(y_test))**(1/2)\n",
        "\n",
        "print(\"R^2: \", num_R_squared)\n",
        "print(\"RMSE: \", num_RMSE)"
      ],
      "metadata": {
        "colab": {
          "base_uri": "https://localhost:8080/"
        },
        "id": "H_UqvNFVrCVg",
        "outputId": "e47169ec-2be3-4d1d-f506-89b979df2872"
      },
      "id": "H_UqvNFVrCVg",
      "execution_count": 152,
      "outputs": [
        {
          "output_type": "stream",
          "name": "stdout",
          "text": [
            "R^2:  0.37698391421613886\n",
            "RMSE:  0.34469015043290263\n"
          ]
        }
      ]
    },
    {
      "cell_type": "markdown",
      "source": [
        "Next, I'll make a model that uses the categorical variables (using one-hot encodings):"
      ],
      "metadata": {
        "id": "zGYFo0U9rETZ"
      },
      "id": "zGYFo0U9rETZ"
    },
    {
      "cell_type": "code",
      "source": [
        "cat_X_train = X_train.loc[:, one_hot_encoding_names]\n",
        "cat_X_test = X_test.loc[:, one_hot_encoding_names]\n",
        "cat_reg = LinearRegression().fit(cat_X_train, y_train)\n",
        "\n",
        "cat_R_squared = cat_reg.score(cat_X_test, y_test)\n",
        "\n",
        "cat_y_hat = cat_reg.predict(cat_X_test)\n",
        "cat_SSE = np.sum( (y_test-cat_y_hat)**2 )\n",
        "cat_RMSE = (cat_SSE/len(y_test))**(1/2)\n",
        "\n",
        "print(\"R^2: \", cat_R_squared)\n",
        "print(\"RMSE: \", cat_RMSE)"
      ],
      "metadata": {
        "colab": {
          "base_uri": "https://localhost:8080/"
        },
        "id": "GDXZKss40LcY",
        "outputId": "089cdd83-f1ac-43c3-8d09-7ba33ca710d0"
      },
      "id": "GDXZKss40LcY",
      "execution_count": 153,
      "outputs": [
        {
          "output_type": "stream",
          "name": "stdout",
          "text": [
            "R^2:  0.6313712971952382\n",
            "RMSE:  0.2651391243124503\n"
          ]
        }
      ]
    },
    {
      "cell_type": "markdown",
      "source": [
        "Finally, I'll make a model that uses all the variables."
      ],
      "metadata": {
        "id": "89xFMAGzrHtD"
      },
      "id": "89xFMAGzrHtD"
    },
    {
      "cell_type": "code",
      "source": [
        "# I can't just use the full cars df because it includes the non-encoded categorical variables\n",
        "# so I'll concatenate the columns from the categorical and numerical datasets\n",
        "combined_X_train = pd.concat([num_X_train, cat_X_train], axis=1)\n",
        "combined_X_test = pd.concat([num_X_test, cat_X_test], axis=1)\n",
        "combined_reg = LinearRegression().fit(combined_X_train, y_train)\n",
        "\n",
        "combined_R_squared = combined_reg.score(combined_X_test, y_test)\n",
        "\n",
        "combined_y_hat = combined_reg.predict(combined_X_test)\n",
        "combined_SSE = np.sum( (y_test-combined_y_hat)**2 )\n",
        "combined_RMSE = (combined_SSE/len(y_test))**(1/2)\n",
        "\n",
        "print(\"R^2: \", combined_R_squared)\n",
        "print(\"RMSE: \", combined_RMSE)"
      ],
      "metadata": {
        "colab": {
          "base_uri": "https://localhost:8080/"
        },
        "id": "HpnDi1KzDYox",
        "outputId": "2da2eabf-5e00-4a4f-d42f-f3c52c9b3fcc"
      },
      "id": "HpnDi1KzDYox",
      "execution_count": 154,
      "outputs": [
        {
          "output_type": "stream",
          "name": "stdout",
          "text": [
            "R^2:  0.8161776382532859\n",
            "RMSE:  0.18723128346896736\n"
          ]
        }
      ]
    },
    {
      "cell_type": "markdown",
      "source": [
        "TODO -- writeup"
      ],
      "metadata": {
        "id": "kBcIOWPbIS6b"
      },
      "id": "kBcIOWPbIS6b"
    },
    {
      "cell_type": "markdown",
      "source": [
        "## 5"
      ],
      "metadata": {
        "id": "yHDPkaMX05b-"
      },
      "id": "yHDPkaMX05b-"
    },
    {
      "cell_type": "markdown",
      "source": [
        "5. Use the `PolynomialFeatures` function from `sklearn` to expand the set of numerical variables you're using, along with the categorical variables. As you increase the degree of the expansion, how do the $R^2$ and `RMSE` change? At what point does $R^2$ go negative on the test set? For your best model with expanded features, what is the $R^2$ and `RMSE`? How does it compare to your best model from part 3?"
      ],
      "metadata": {
        "id": "GLfvheCU0Spk"
      },
      "id": "GLfvheCU0Spk"
    },
    {
      "cell_type": "code",
      "source": [
        "from sklearn.preprocessing import PolynomialFeatures"
      ],
      "metadata": {
        "id": "ToWWvQaftJLA"
      },
      "id": "ToWWvQaftJLA",
      "execution_count": 75,
      "outputs": []
    },
    {
      "cell_type": "markdown",
      "source": [
        "Degree 2"
      ],
      "metadata": {
        "id": "rRzdpUsSuV2r"
      },
      "id": "rRzdpUsSuV2r"
    },
    {
      "cell_type": "code",
      "source": [
        "poly = PolynomialFeatures(degree=2)\n",
        "Z = poly.fit_transform(X)"
      ],
      "metadata": {
        "id": "cP902cqvtKFK"
      },
      "id": "cP902cqvtKFK",
      "execution_count": null,
      "outputs": []
    },
    {
      "cell_type": "markdown",
      "source": [
        "Degree 3"
      ],
      "metadata": {
        "id": "zOIJ-rI-uWwI"
      },
      "id": "zOIJ-rI-uWwI"
    },
    {
      "cell_type": "markdown",
      "source": [
        "Degree 4"
      ],
      "metadata": {
        "id": "1gVYlL_guXxN"
      },
      "id": "1gVYlL_guXxN"
    },
    {
      "cell_type": "markdown",
      "source": [
        "## 6"
      ],
      "metadata": {
        "id": "bougkvvj060g"
      },
      "id": "bougkvvj060g"
    },
    {
      "cell_type": "markdown",
      "source": [
        "6. For your best model so far, determine the predicted values for the test data and plot them against the true values. Do the predicted values and true values roughly line up along the diagonal, or not? Compute the residuals/errors for the test data and create a kernel density plot. Do the residuals look roughly bell-shaped around zero? Evaluate the strengths and weaknesses of your model."
      ],
      "metadata": {
        "id": "EoBIAAaD0VqY"
      },
      "id": "EoBIAAaD0VqY"
    },
    {
      "cell_type": "code",
      "source": [],
      "metadata": {
        "id": "0S10z6BuvsAp"
      },
      "id": "0S10z6BuvsAp",
      "execution_count": null,
      "outputs": []
    },
    {
      "cell_type": "markdown",
      "source": [
        "## 7"
      ],
      "metadata": {
        "id": "5rFIWwsO08Rz"
      },
      "id": "5rFIWwsO08Rz"
    },
    {
      "cell_type": "markdown",
      "source": [
        "7. Now, let's use a regression tree. Construct an appropriate matrix of regressors/features, and fit a tree to the data. Vary the maximum depth of the decision tree using the max_depth option (i.e. tree.DecisionTreeRegressor(max_depth=D)), and compute the and RMSE on the test set of a variety of depths. What depth tree gives the best results?"
      ],
      "metadata": {
        "id": "HED2X0WRvsnk"
      },
      "id": "HED2X0WRvsnk"
    },
    {
      "cell_type": "markdown",
      "source": [
        "Max depth ="
      ],
      "metadata": {
        "id": "PHHF4HrUueli"
      },
      "id": "PHHF4HrUueli"
    },
    {
      "cell_type": "markdown",
      "source": [
        "## 8"
      ],
      "metadata": {
        "id": "a4Memrm709Jr"
      },
      "id": "a4Memrm709Jr"
    },
    {
      "cell_type": "markdown",
      "source": [
        "8. For your best tree, determine the predicted values for the test data, and plot them against the true values. Do the predicted values and true values line up along the diagonal, or not? Compute the residuals/errors for the test data and create a kernel density plot. Do the residuals look roughly bell-shaped around zero?"
      ],
      "metadata": {
        "id": "P4WRygfB0Ysh"
      },
      "id": "P4WRygfB0Ysh"
    },
    {
      "cell_type": "markdown",
      "source": [
        "## 9"
      ],
      "metadata": {
        "id": "w5Bx6_mG0-Jm"
      },
      "id": "w5Bx6_mG0-Jm"
    },
    {
      "cell_type": "markdown",
      "source": [
        "9. Which model --- linear model or classification and regression tree --- has better performance on the test set?"
      ],
      "metadata": {
        "id": "dnvpO17v0ay9"
      },
      "id": "dnvpO17v0ay9"
    },
    {
      "cell_type": "markdown",
      "source": [
        "# 3"
      ],
      "metadata": {
        "id": "VUzR1HUU0ltA"
      },
      "id": "VUzR1HUU0ltA"
    },
    {
      "cell_type": "markdown",
      "id": "409519b9-e803-4a95-aded-d6eabf6bc526",
      "metadata": {
        "id": "409519b9-e803-4a95-aded-d6eabf6bc526"
      },
      "source": [
        "**Q3.** This a question purely on categorical prediction. The data for this happen to be gathered in 1987 in Indonesia, and concern contraceptive method choice. The questions and data-gathering assumptions reflect the culture and attitudes of that time and place, but provide a good example of a categorical prediction problem on an important topic (family planning and maternal health The variables in the data are:\n",
        "\n",
        "    - Wife's age (numerical)\n",
        "    - Wife's education (categorical) 1=low, 2, 3, 4=high\n",
        "    - Husband's education (categorical) 1=low, 2, 3, 4=high\n",
        "    - Number of children ever born (numerical)\n",
        "    - Wife's religion (binary) 0=Non-Islam, 1=Islam\n",
        "    - Wife's now working? (binary) 0=Yes, 1=No\n",
        "    - Husband's occupation (categorical) 1, 2, 3, 4\n",
        "    - Standard-of-living index (categorical) 1=low, 2, 3, 4=high\n",
        "    - Media exposure (binary) 0=Good, 1=Not good\n",
        "    - Contraceptive method used (class attribute) 1=No-use, 2=Long-term, 3=Short-termhort-term\n",
        "\n",
        "  1. Load the `contraceptiveMethodChoice.csv` data. Tabulate the `method` variable (i.e. `.value_counts()`). 1 corresponds to `No Contraception`, 3 corresponds to `Short Term` (e.g. condoms, birth control pills), and 2 corresponds to `Long Term` (e.g. IUD, sterilization). Cross tabulate `method` and `numberChildren`. Do couples that use birth control tend to have more children than those who don't?\n",
        "  2. Split the sample into ~80% training data and ~20% testing data.\n",
        "  3. We are now going to make a mistake. Train a regression tree to predict the contraceptive method using the other variables in the data, not a classification tree. Look at the terminal nodes in the tree: What values do they take? Does that make sense? Explain clearly what has gone wrong here.\n",
        "  4. Instead of regression, use a classification tree to predict contraceptive method using the other variables in the data. How does it look different from the previous tree? What variables does the algorithm use? In broad terms, which groups of people are most likely to use each method of contraception?\n",
        "  5. Compute a confusion matrix for your classification tree on the test set (Hint: There are now three categories instead of two, so the cross tabulation will be a $3 \\times 3$ matrix instead of $2 \\times 2$.). Compute the Accuracy of your model overall, and the Accuracy for predicting each contraceptive method.\n",
        "  7. Why can't you use a linear probability model to do this exercise? Explain clearly in words."
      ]
    },
    {
      "cell_type": "markdown",
      "source": [
        "# 5"
      ],
      "metadata": {
        "id": "TLAM2uKJ0n4j"
      },
      "id": "TLAM2uKJ0n4j"
    },
    {
      "cell_type": "markdown",
      "id": "d0bedb79-b3d9-4db3-9b30-b92c9b618cec",
      "metadata": {
        "id": "d0bedb79-b3d9-4db3-9b30-b92c9b618cec"
      },
      "source": [
        "**Q5.** This is a math question to review the derivation of the OLS estimator (but only if you are into that kind of thing!). We are going to do it slightly differently from what we did in class, though. We will use a linear predictor and minimize the Sum of Squared Errors, just as in class. But, we are going to de-mean $X$ first, creating another variable $z_i = x_i - \\bar{x}$ where\n",
        "$$\n",
        "\\bar{x} = \\dfrac{1}{N} \\sum_{i=1}^N x_i,\n",
        "$$\n",
        "so the model is $\\hat{y}_i = a + b z_i$ and the `SSE` is\n",
        "$$\n",
        "\\text{SSE}(a,b) = \\sum_{i=1}^N (y_i - a - bz_i)^2.\n",
        "$$\n",
        "\n",
        "  1. Take partial derivatives of the `SSE` with respect to $a$ and $b$. You should get\n",
        "\n",
        "\\begin{eqnarray*}\n",
        "\\sum_{i=1}^N -2(y_i - a- bz_i) &=& 0 \\\\\n",
        "\\sum_{i=1}^N -2(y_i - a - bz_i)z_i &=& 0.\n",
        "\\end{eqnarray*}\n",
        "\n",
        "  2. Solve for the solutions to the above equations. Big hint: $\\bar{z} = 0$, since we subtracted the mean of $x$ from $x$ to get $z$. You should get\n",
        "\n",
        "\\begin{eqnarray*}\n",
        "a^* &=& \\bar{y} \\\\\n",
        "b^* &=& \\dfrac{\\sum_{i=1}^N(y_i - \\bar{y})z_i}{\\sum_{i=1}^N z_i^2}.\n",
        "\\end{eqnarray*}\n",
        "\n",
        "  3. Substitute $z_i = x_i - \\bar{x}$ back into the above equations. You should get\n",
        "  \n",
        "\\begin{eqnarray*}\n",
        "a^* &=& \\bar{y} \\\\\n",
        "b^* &=& \\dfrac{\\sum_{i=1}^N(y_i - \\bar{y})(x_i-\\bar{x})}{\\sum_{i=1}^N (x_i-\\bar{x})^2},\n",
        "\\end{eqnarray*}\n",
        "\n",
        "which can be written in terms of sample covariance and sample variance as:\n",
        "\n",
        "\\begin{eqnarray*}\n",
        "a^* &=& \\bar{y} \\\\\n",
        "b^* &=& \\dfrac{\\text{cov}(x,y)}{\\text{var}(x)}.\n",
        "\\end{eqnarray*}\n",
        "\n",
        "This is typically the preferred way of expressing the OLS coefficients.\n",
        "\n",
        "4. When will $b^*$ be large or small, depending on the relationship between $x$ and $y$ and the amount of \"noise\"/variance in $x$? What does $a^*$ represent?\n",
        "5. Suppose you have measurement error in $x$ which artificially inflates its variance (e.g. bad data cleaning). What happens to the $b^*$ coefficient? How will affect your ability to predict? (This phenomenon is called **attenuation**.)\n",
        "6. Let's return to the question of *outliers*. With your formula for the OLS coefficients $(a^*,b^*)$, explain what happens if you significantly increase a single value of the outcome/target/response variable $y_i$ or one of the predictor/explanatory/covariate variables $x_i$. If values for some extreme observations are exerting significant influence over the regression coefficients, will the model perform well on for more average observations?"
      ]
    }
  ],
  "metadata": {
    "kernelspec": {
      "display_name": "Python 3 (ipykernel)",
      "language": "python",
      "name": "python3"
    },
    "language_info": {
      "codemirror_mode": {
        "name": "ipython",
        "version": 3
      },
      "file_extension": ".py",
      "mimetype": "text/x-python",
      "name": "python",
      "nbconvert_exporter": "python",
      "pygments_lexer": "ipython3",
      "version": "3.11.4"
    },
    "colab": {
      "provenance": []
    }
  },
  "nbformat": 4,
  "nbformat_minor": 5
}