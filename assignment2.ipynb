{
  "cells": [
    {
      "cell_type": "markdown",
      "id": "13ad028b-72b7-43ed-aa78-96fd4e518040",
      "metadata": {
        "id": "13ad028b-72b7-43ed-aa78-96fd4e518040"
      },
      "source": [
        "# Assignment: Data Wrangling and Exploratory Data Analysis\n",
        "## Do Q1 and Q2, and one other question.\n",
        "`! git clone https://www.github.com/DS3001/assignment2`"
      ]
    },
    {
      "cell_type": "code",
      "source": [
        "! git clone https://www.github.com/DS3001/assignment2"
      ],
      "metadata": {
        "colab": {
          "base_uri": "https://localhost:8080/"
        },
        "id": "Cs7PVmEoFzCE",
        "outputId": "41fda650-5b39-4035-8232-f10845ed4b00"
      },
      "id": "Cs7PVmEoFzCE",
      "execution_count": 1,
      "outputs": [
        {
          "output_type": "stream",
          "name": "stdout",
          "text": [
            "Cloning into 'assignment2'...\n",
            "warning: redirecting to https://github.com/DS3001/assignment2.git/\n",
            "remote: Enumerating objects: 36, done.\u001b[K\n",
            "remote: Counting objects: 100% (36/36), done.\u001b[K\n",
            "remote: Compressing objects: 100% (30/30), done.\u001b[K\n",
            "remote: Total 36 (delta 9), reused 29 (delta 6), pack-reused 0\u001b[K\n",
            "Receiving objects: 100% (36/36), 5.47 MiB | 28.71 MiB/s, done.\n",
            "Resolving deltas: 100% (9/9), done.\n"
          ]
        }
      ]
    },
    {
      "cell_type": "code",
      "source": [
        "import numpy as np\n",
        "import pandas as pd"
      ],
      "metadata": {
        "id": "RZTzuSZzRM7g"
      },
      "id": "RZTzuSZzRM7g",
      "execution_count": 2,
      "outputs": []
    },
    {
      "cell_type": "markdown",
      "id": "5735a4d4-8be8-433a-a351-70eb8002e632",
      "metadata": {
        "id": "5735a4d4-8be8-433a-a351-70eb8002e632"
      },
      "source": [
        "**Q1.** Open the \"tidy_data.pdf\" document in the repo, which is a paper called Tidy Data by Hadley Wickham.\n",
        "\n",
        "  1. Read the abstract. What is this paper about?"
      ]
    },
    {
      "cell_type": "markdown",
      "source": [
        "The paper is about creating a framework for organizing data, called the “tidy dataset”. This framework organizes datasets in the same structural way; these organized datasets can then be called “tidy”. This allows for tools to be developed that can transform smelt any messy dataset into a tidy one."
      ],
      "metadata": {
        "id": "WOuKT_St_y2g"
      },
      "id": "WOuKT_St_y2g"
    },
    {
      "cell_type": "markdown",
      "source": [
        "2. Read the introduction. What is the \"tidy data standard\" intended to accomplish?"
      ],
      "metadata": {
        "id": "JIaHjUDs_UWV"
      },
      "id": "JIaHjUDs_UWV"
    },
    {
      "cell_type": "markdown",
      "source": [
        "The tidy data standard is intended to make the initial analysis of data easier; the author acknowledges that further steps will have to be taken to fully analyze the data, but having a tidy dataset gives you something to start with. Most importantly, the tidy data standard is intended to allow data sets and data tools to work well together without requiring you to translate the outputs of one to get it into the correct input format for another."
      ],
      "metadata": {
        "id": "NWGqMZENAPxL"
      },
      "id": "NWGqMZENAPxL"
    },
    {
      "cell_type": "markdown",
      "source": [
        "3. Read the intro to section 2. What does this sentence mean: \"Like families, tidy datasets are all alike but every messy dataset is messy in its own way.\" What does this sentence mean: \"For a given dataset, it’s usually easy to figure out what are observations and what are variables, but it is surprisingly difficult to precisely define variables and observations in general.\""
      ],
      "metadata": {
        "id": "50Qt04uQ_gDz"
      },
      "id": "50Qt04uQ_gDz"
    },
    {
      "cell_type": "markdown",
      "source": [
        "The first sentence means that tidy datasets all share similar traits: they all have a structure that conveys the meaning and organization of the data (e.g. all tidy datasets have a separate table for each organizational unit). But, untidy datasets are not consistent; each one could have a different problem/organizational issue that makes it not fit the tidy data standard. This is why it’s so hard to work with untidy data.\n",
        "\n",
        "The second sentence means that in the context of the data collection, you can usually tell whether something was a variable (something that might have affected an observation, but that wasn’t the actual value you were observing) or not. But, in general, a characteristic that sometimes would be a variable (like height) may actually be an observation. Everything depends on the context of your data collection."
      ],
      "metadata": {
        "id": "zSsRixdcAWKS"
      },
      "id": "zSsRixdcAWKS"
    },
    {
      "cell_type": "markdown",
      "source": [
        "4. Read Section 2.2. How does Wickham define values, variables, and observations?"
      ],
      "metadata": {
        "id": "KLCNOtq3_iRZ"
      },
      "id": "KLCNOtq3_iRZ"
    },
    {
      "cell_type": "markdown",
      "source": [
        "A value is a piece of data (either a number or a string); each cell in a table contains one value. Meanwhile, a variable is the collection of values from different observations that all measure some attribute. For example, a variable could be “height” and consist of the observed heights of many different people. Finally, an observation is the set of values measured for one observational unit; the values will span all the attributes that the dataset deals with. For example, if you’re observing people, one observation will consist of all the attribute values you measured from a single person."
      ],
      "metadata": {
        "id": "EzUbxwbJAjAb"
      },
      "id": "EzUbxwbJAjAb"
    },
    {
      "cell_type": "markdown",
      "source": [
        "5. How is \"Tidy Data\" defined in section 2.3?"
      ],
      "metadata": {
        "id": "jF5A6_0k_k_E"
      },
      "id": "jF5A6_0k_k_E"
    },
    {
      "cell_type": "markdown",
      "source": [
        "Tidy data is defined as data whose structure conveys its meaning. Tidy datasets have one row for each observation, one column for each variable, and one table for each type of observational unit."
      ],
      "metadata": {
        "id": "Yx-BLO99AqBD"
      },
      "id": "Yx-BLO99AqBD"
    },
    {
      "cell_type": "markdown",
      "source": [
        "6. Read the intro to Section 3 and Section 3.1. What are the 5 most common problems with messy datasets? Why are the data in Table 4 messy? What is \"melting\" a dataset?"
      ],
      "metadata": {
        "id": "6Jba7HAs_nUv"
      },
      "id": "6Jba7HAs_nUv"
    },
    {
      "cell_type": "markdown",
      "source": [
        "The five most common problems with messy datasets are:\n",
        "1. some columns of a table are actually values of a variable, so there isn’t a single column for that variable\n",
        "2. multiple observational units are put in one table\n",
        "3. observations of one observational unit are split among multiple tables\n",
        "4. one column holds multiple variables\n",
        "5. variables are stored in rows and columns, not just columns.\n",
        "\n",
        "The data in table 4 are messy because there is a column for each value of the “income” variable, when instead, there should be one column titled “income” that holds all those values. Melting a dataset is when you take the variable values that made up multiple columns and put them all in one column for that variable; you end up with more rows in the table, because each observation now is on its own row, rather than you storing multiple observations (one for each variable value) in the same row."
      ],
      "metadata": {
        "id": "zCQOmxOEAwVE"
      },
      "id": "zCQOmxOEAwVE"
    },
    {
      "cell_type": "markdown",
      "source": [
        "7. Why, specifically, is table 11 messy but table 12 tidy and \"molten\"?"
      ],
      "metadata": {
        "id": "dwZ8W0NJ_pwh"
      },
      "id": "dwZ8W0NJ_pwh"
    },
    {
      "cell_type": "markdown",
      "source": [
        "Table 11 is messy for two reasons. First, it has the values of the “date” variable as separate columns, when those should be separate observations in one column. Second, two separate variables, “tmax” and “tmin”, are stored as values in the same column, when they should be two separate columns. Table 12 is tidy because it fixes both of these issues. It is molten because it melted the dataset to fix the date issue, and it became fully tidy once tmax and tmin were pulled into separate columns."
      ],
      "metadata": {
        "id": "aeRq0ru1A_8E"
      },
      "id": "aeRq0ru1A_8E"
    },
    {
      "cell_type": "markdown",
      "source": [
        "8. Read Section 6. What is the \"chicken-and-egg\" problem with focusing on tidy data? What does Wickham hope happens in the future with further work on the subject of data wrangling?"
      ],
      "metadata": {
        "id": "zIYvb1l6_sLI"
      },
      "id": "zIYvb1l6_sLI"
    },
    {
      "cell_type": "markdown",
      "source": [
        "The chicken and egg problem is that we can become so dependent on the tools that help us work with tidy data that the two become linked. This can mean that you have to improve both to make marked improvements to working with tidy data as a whole. For example, even if you make the data tidier, you’ll have to adjust your tools to match the new format of the data. Wickham hopes that future work will take into account the human/cognitive side of data wrangling to make the design of tidy data more user friendly/intuitive."
      ],
      "metadata": {
        "id": "itexGHqxBE8n"
      },
      "id": "itexGHqxBE8n"
    },
    {
      "cell_type": "markdown",
      "id": "da879ea7-8aac-48a3-b6c2-daea56d2e072",
      "metadata": {
        "id": "da879ea7-8aac-48a3-b6c2-daea56d2e072"
      },
      "source": [
        "**Q2.** This question provides some practice cleaning variables which have common problems.\n",
        "1. Numeric variable: For `./data/airbnb_hw.csv`, clean the `Price` variable as well as you can, and explain the choices you make. How many missing values do you end up with? (Hint: What happens to the formatting when a price goes over 999 dollars, say from 675 to 1,112?)\n",
        "2. Categorical variable: For the `./data/sharks.csv` data covered in the lecture, clean the \"Type\" variable as well as you can, and explain the choices you make.\n",
        "3. Dummy variable: For the pretrial data covered in the lecture, clean the `WhetherDefendantWasReleasedPretrial` variable as well as you can, and, in particular, replace missing values with `np.nan`.\n",
        "4. Missing values, not at random: For the pretrial data covered in the lecture, clean the `ImposedSentenceAllChargeInContactEvent` variable as well as you can, and explain the choices you make. (Hint: Look at the `SentenceTypeAllChargesAtConvictionInContactEvent` variable.)"
      ]
    },
    {
      "cell_type": "markdown",
      "source": [
        "1. Numeric variable: For ./data/airbnb_hw.csv, clean the Price variable as well as you can, and explain the choices you make. How many missing values do you end up with? (Hint: What happens to the formatting when a price goes over 999 dollars, say from 675 to 1,112?)"
      ],
      "metadata": {
        "id": "tYh-_xsVRnsB"
      },
      "id": "tYh-_xsVRnsB"
    },
    {
      "cell_type": "code",
      "source": [
        "# first I loaded the data\n",
        "airbnb = pd.read_csv('./assignment2/data/airbnb_hw.csv')"
      ],
      "metadata": {
        "id": "9RCuBhCSRHhn"
      },
      "id": "9RCuBhCSRHhn",
      "execution_count": 106,
      "outputs": []
    },
    {
      "cell_type": "code",
      "source": [
        "# then I examined the price variable -- I saw that it was getting treated as a non-numeric variable\n",
        "print(airbnb['Price'].describe())\n",
        "# I looked at the unique values in 'Price' to see if I could tell what was causing that\n",
        "print(airbnb['Price'].unique())"
      ],
      "metadata": {
        "colab": {
          "base_uri": "https://localhost:8080/"
        },
        "id": "ewvtpIpARr5F",
        "outputId": "57b9f80a-95ad-495d-b8c4-d4f3eb91b834"
      },
      "id": "ewvtpIpARr5F",
      "execution_count": 107,
      "outputs": [
        {
          "output_type": "stream",
          "name": "stdout",
          "text": [
            "count     30478\n",
            "unique      511\n",
            "top         150\n",
            "freq       1481\n",
            "Name: Price, dtype: object\n",
            "['145' '37' '28' '199' '549' '149' '250' '90' '270' '290' '170' '59' '49'\n",
            " '68' '285' '75' '100' '150' '700' '125' '175' '40' '89' '95' '99' '499'\n",
            " '120' '79' '110' '180' '143' '230' '350' '135' '85' '60' '70' '55' '44'\n",
            " '200' '165' '115' '74' '84' '129' '50' '185' '80' '190' '140' '45' '65'\n",
            " '225' '600' '109' '1,990' '73' '240' '72' '105' '155' '160' '42' '132'\n",
            " '117' '295' '280' '159' '107' '69' '239' '220' '399' '130' '375' '585'\n",
            " '275' '139' '260' '35' '133' '300' '289' '179' '98' '195' '29' '27' '39'\n",
            " '249' '192' '142' '169' '1,000' '131' '138' '113' '122' '329' '101' '475'\n",
            " '238' '272' '308' '126' '235' '315' '248' '128' '56' '207' '450' '215'\n",
            " '210' '385' '445' '136' '247' '118' '77' '76' '92' '198' '205' '299'\n",
            " '222' '245' '104' '153' '349' '114' '320' '292' '226' '420' '500' '325'\n",
            " '307' '78' '265' '108' '123' '189' '32' '58' '86' '219' '800' '335' '63'\n",
            " '229' '425' '67' '87' '1,200' '158' '650' '234' '310' '695' '400' '166'\n",
            " '119' '62' '168' '340' '479' '43' '395' '144' '52' '47' '529' '187' '209'\n",
            " '233' '82' '269' '163' '172' '305' '156' '550' '435' '137' '124' '48'\n",
            " '279' '330' '5,000' '134' '378' '97' '277' '64' '193' '147' '186' '264'\n",
            " '30' '3,000' '112' '94' '379' '57' '415' '236' '410' '214' '88' '66' '71'\n",
            " '171' '157' '545' '1,500' '83' '96' '1,800' '81' '188' '380' '255' '505'\n",
            " '54' '33' '174' '93' '740' '640' '1,300' '440' '599' '357' '1,239' '495'\n",
            " '127' '5,999' '178' '348' '152' '242' '183' '253' '750' '259' '365' '273'\n",
            " '197' '397' '103' '389' '355' '559' '38' '203' '999' '141' '162' '333'\n",
            " '698' '46' '360' '895' '10' '41' '206' '281' '449' '388' '212' '102'\n",
            " '201' '2,750' '4,750' '432' '675' '167' '390' '298' '339' '194' '302'\n",
            " '211' '595' '191' '53' '361' '480' '8,000' '4,500' '459' '997' '345'\n",
            " '216' '218' '111' '735' '276' '91' '490' '850' '398' '36' '775' '267'\n",
            " '625' '336' '2,500' '176' '725' '3,750' '469' '106' '460' '287' '575'\n",
            " '227' '263' '25' '228' '208' '177' '880' '148' '116' '685' '470' '217'\n",
            " '164' '61' '645' '699' '405' '252' '319' '268' '419' '343' '525' '311'\n",
            " '840' '154' '294' '950' '409' '184' '257' '204' '241' '2,000' '412' '121'\n",
            " '288' '196' '900' '647' '524' '1,750' '309' '510' '1,495' '1,700' '799'\n",
            " '383' '372' '492' '327' '1,999' '656' '224' '173' '875' '1,170' '795'\n",
            " '690' '146' '465' '1,100' '151' '274' '429' '825' '282' '256' '1,111'\n",
            " '620' '271' '161' '51' '855' '579' '1,174' '430' '20' '899' '649' '485'\n",
            " '181' '455' '4,000' '243' '342' '590' '560' '374' '437' '232' '359' '985'\n",
            " '31' '244' '254' '723' '237' '428' '370' '34' '1,400' '580' '2,520' '221'\n",
            " '749' '1,600' '2,695' '306' '202' '680' '570' '520' '223' '2,295' '213'\n",
            " '1,065' '346' '24' '286' '296' '266' '26' '995' '1,368' '393' '182' '635'\n",
            " '258' '780' '589' '347' '1,250' '1,350' '446' '3,200' '1,050' '1,650'\n",
            " '1,550' '975' '323' '6,500' '2,499' '1,850' '2,250' '715' '461' '540'\n",
            " '356' '439' '384' '569' '1,900' '22' '785' '626' '830' '318' '444' '321'\n",
            " '401' '1,499' '888' '369' '770' '386' '366' '344' '630' '313' '597' '262'\n",
            " '509' '10,000' '278' '312' '789' '1,195' '422' '21' '765' '3,500' '945'\n",
            " '326' '3,100' '2,486' '3,390' '1,356' '2,599' '472' '454' '328' '396'\n",
            " '291']\n"
          ]
        }
      ]
    },
    {
      "cell_type": "code",
      "source": [
        "# I believe that the commas in values over 1,000 are making this variable get treated as a string\n",
        "\n",
        "# So, I removed the commas\n",
        "airbnb['Price'] = airbnb['Price'].str.replace(',', '')\n",
        "# and converted the variable to numeric\n",
        "airbnb['Price'] = pd.to_numeric(airbnb['Price'])"
      ],
      "metadata": {
        "id": "p90UjMpbSHCs"
      },
      "id": "p90UjMpbSHCs",
      "execution_count": 108,
      "outputs": []
    },
    {
      "cell_type": "code",
      "source": [
        "# Then I checked to make sure that the variable was now numeric\n",
        "print(airbnb['Price'].describe(), '\\n')\n",
        "\n",
        "# and I made sure that there wee no null or NA values in the variable\n",
        "print(airbnb['Price'].isnull().sum() + airbnb['Price'].isna().sum())\n",
        "\n",
        "# since there are no null values and since the variable is now numeric, I believe it is fully cleaned!"
      ],
      "metadata": {
        "colab": {
          "base_uri": "https://localhost:8080/"
        },
        "id": "uQhOUVXrSiUj",
        "outputId": "4e4538cb-e06b-4b56-fbe4-046a93748801"
      },
      "id": "uQhOUVXrSiUj",
      "execution_count": 109,
      "outputs": [
        {
          "output_type": "stream",
          "name": "stdout",
          "text": [
            "count    30478.000000\n",
            "mean       163.589737\n",
            "std        197.785454\n",
            "min         10.000000\n",
            "25%         80.000000\n",
            "50%        125.000000\n",
            "75%        195.000000\n",
            "max      10000.000000\n",
            "Name: Price, dtype: float64 \n",
            "\n",
            "0\n"
          ]
        }
      ]
    },
    {
      "cell_type": "markdown",
      "source": [
        "2. Categorical variable: For the ./data/sharks.csv data covered in the lecture, clean the \"Type\" variable as well as you can, and explain the choices you make."
      ],
      "metadata": {
        "id": "4CEZozVyUNPk"
      },
      "id": "4CEZozVyUNPk"
    },
    {
      "cell_type": "code",
      "source": [
        "# first I loaded the data\n",
        "sharks = pd.read_csv('./assignment2/data/sharks.csv')"
      ],
      "metadata": {
        "colab": {
          "base_uri": "https://localhost:8080/"
        },
        "id": "yMctBbS7Uit5",
        "outputId": "861c5f9b-8378-4c45-d0ad-ff228a8fda2b"
      },
      "id": "yMctBbS7Uit5",
      "execution_count": 8,
      "outputs": [
        {
          "output_type": "stream",
          "name": "stderr",
          "text": [
            "<ipython-input-8-ca3a298e4d52>:2: DtypeWarning: Columns (10,17,18,19,20,21,24) have mixed types. Specify dtype option on import or set low_memory=False.\n",
            "  sharks = pd.read_csv('./assignment2/data/sharks.csv')\n"
          ]
        }
      ]
    },
    {
      "cell_type": "code",
      "source": [
        "# then I examined the type of the variable\n",
        "print(sharks['Type'].describe(), '\\n')\n",
        "# and the different values it has\n",
        "sharks['Type'].unique()"
      ],
      "metadata": {
        "colab": {
          "base_uri": "https://localhost:8080/"
        },
        "id": "w4sauJz0Uo15",
        "outputId": "8c725460-743a-4e1c-f36e-1e2fdfb596a6"
      },
      "id": "w4sauJz0Uo15",
      "execution_count": 9,
      "outputs": [
        {
          "output_type": "stream",
          "name": "stdout",
          "text": [
            "count           6457\n",
            "unique            12\n",
            "top       Unprovoked\n",
            "freq            4716\n",
            "Name: Type, dtype: object \n",
            "\n"
          ]
        },
        {
          "output_type": "execute_result",
          "data": {
            "text/plain": [
              "array(['Unprovoked', 'Provoked', 'Questionable', 'Watercraft',\n",
              "       'Unconfirmed', 'Unverified', 'Invalid', 'Under investigation',\n",
              "       'Boating', 'Sea Disaster', nan, 'Boat', 'Boatomg'], dtype=object)"
            ]
          },
          "metadata": {},
          "execution_count": 9
        }
      ]
    },
    {
      "cell_type": "code",
      "source": [
        "# Several of the values seem similar, so I'm going to combine groups of similar values into one\n",
        "# First, \"Boat\" will represent the \"Boating\", \"Boat\", and \"Boatomg\" values (I believe that Boatomg is a typo)\n",
        "# \"Unverified\" will represent the \"Unverified\", \"Questionable\", and \"Unconfirmed\" values\n",
        "# I kept \"under investifation\" as its own category, because that indicates that the status of the attack might be updated later,\n",
        "# whereas other \"unconfirmed\" cases might not get investigated\n",
        "# a watercraft could be different enough from boat that I kept it as its own category (a jetki is a watercraft, for ex)\n",
        "\n",
        "def consolodate_attack_type_values(original_value):\n",
        "  if original_value == \"Unconfirmed\" or original_value == \"Questionable\":\n",
        "    return \"Unverified\"\n",
        "  if original_value == \"Boating\" or original_value == \"Boatomg\":\n",
        "    return \"Boat\"\n",
        "  if original_value == \"Under investigation\":\n",
        "    return \"Under Investigation\" # I wanted to make the value name capital to be consistent\n",
        "  return original_value\n",
        "\n",
        "sharks['Type'] = sharks['Type'].apply(consolodate_attack_type_values)"
      ],
      "metadata": {
        "id": "O_80_Si0VI6t"
      },
      "id": "O_80_Si0VI6t",
      "execution_count": 10,
      "outputs": []
    },
    {
      "cell_type": "code",
      "source": [
        "# check that the transformation worked\n",
        "sharks['Type'].unique()"
      ],
      "metadata": {
        "colab": {
          "base_uri": "https://localhost:8080/"
        },
        "id": "kfAEe93cXH-p",
        "outputId": "2530a51b-8c75-48c0-b425-a7d153c3e0d8"
      },
      "id": "kfAEe93cXH-p",
      "execution_count": 11,
      "outputs": [
        {
          "output_type": "execute_result",
          "data": {
            "text/plain": [
              "array(['Unprovoked', 'Provoked', 'Unverified', 'Watercraft', 'Invalid',\n",
              "       'Under Investigation', 'Boat', 'Sea Disaster', nan], dtype=object)"
            ]
          },
          "metadata": {},
          "execution_count": 11
        }
      ]
    },
    {
      "cell_type": "code",
      "source": [
        "# see how many observations do not have an attack type\n",
        "sharks['Type'].isna().sum()"
      ],
      "metadata": {
        "colab": {
          "base_uri": "https://localhost:8080/"
        },
        "id": "vnDA9jO4YBqz",
        "outputId": "27cfc84b-f3df-4aba-ec02-6fec8c99f3a6"
      },
      "id": "vnDA9jO4YBqz",
      "execution_count": 12,
      "outputs": [
        {
          "output_type": "execute_result",
          "data": {
            "text/plain": [
              "5"
            ]
          },
          "metadata": {},
          "execution_count": 12
        }
      ]
    },
    {
      "cell_type": "code",
      "source": [
        "# there are only five observations with a nan value, so it would make sense to simply remove them from the dataset\n",
        "# however, I want to practice other ways of dealing with nan values\n",
        "# since I don't know why the Type variable is missing for these observations, I will create a dummy variable to show which observations are missing it\n",
        "\n",
        "sharks['Type_NAN'] = sharks['Type'].isna()"
      ],
      "metadata": {
        "id": "XNj5LOpAYNYi"
      },
      "id": "XNj5LOpAYNYi",
      "execution_count": 13,
      "outputs": []
    },
    {
      "cell_type": "code",
      "source": [
        "sharks[\"Type_NAN\"].describe()"
      ],
      "metadata": {
        "colab": {
          "base_uri": "https://localhost:8080/"
        },
        "id": "vWDDOERxY7IU",
        "outputId": "21dec44e-531d-445c-e152-6263b1a0ff4e"
      },
      "id": "vWDDOERxY7IU",
      "execution_count": 18,
      "outputs": [
        {
          "output_type": "execute_result",
          "data": {
            "text/plain": [
              "count      6462\n",
              "unique        2\n",
              "top       False\n",
              "freq       6457\n",
              "Name: Type_NAN, dtype: object"
            ]
          },
          "metadata": {},
          "execution_count": 18
        }
      ]
    },
    {
      "cell_type": "code",
      "source": [
        "# Now I have dealt with missing values and have consolidated like values, so I think this variable is ready to use"
      ],
      "metadata": {
        "id": "mmtSOO29ZBdK"
      },
      "id": "mmtSOO29ZBdK",
      "execution_count": 15,
      "outputs": []
    },
    {
      "cell_type": "markdown",
      "source": [
        "3. Dummy variable: For the pretrial data covered in the lecture, clean the WhetherDefendantWasReleasedPretrial variable as well as you can, and, in particular, replace missing values with np.nan."
      ],
      "metadata": {
        "id": "CkJxbw_MZQ6m"
      },
      "id": "CkJxbw_MZQ6m"
    },
    {
      "cell_type": "code",
      "source": [
        "# load data -- this code modified from lecture notes\n",
        "url = 'http://www.vcsc.virginia.gov/pretrialdataproject/October%202017%20Cohort_Virginia%20Pretrial%20Data%20Project_Deidentified%20FINAL%20Update_10272021.csv'\n",
        "pretrial = pd.read_csv(url,low_memory=False) # Pandas downloads and loads the .csv file for you"
      ],
      "metadata": {
        "id": "Vx0HmkHmZQcy"
      },
      "id": "Vx0HmkHmZQcy",
      "execution_count": 67,
      "outputs": []
    },
    {
      "cell_type": "code",
      "source": [
        "# inspect the relevant variable\n",
        "print(pretrial['WhetherDefendantWasReleasedPretrial'].describe(), '\\n')\n",
        "print(pretrial['WhetherDefendantWasReleasedPretrial'].unique(), '\\n')\n",
        "print(pretrial['WhetherDefendantWasReleasedPretrial'].value_counts())"
      ],
      "metadata": {
        "colab": {
          "base_uri": "https://localhost:8080/"
        },
        "id": "eF81PEt0Z5DI",
        "outputId": "d140c999-2cb0-4517-d183-b5b0c0e013dd"
      },
      "id": "eF81PEt0Z5DI",
      "execution_count": 68,
      "outputs": [
        {
          "output_type": "stream",
          "name": "stdout",
          "text": [
            "count    22986.000000\n",
            "mean         0.845428\n",
            "std          0.477276\n",
            "min          0.000000\n",
            "25%          1.000000\n",
            "50%          1.000000\n",
            "75%          1.000000\n",
            "max          9.000000\n",
            "Name: WhetherDefendantWasReleasedPretrial, dtype: float64 \n",
            "\n",
            "[9 0 1] \n",
            "\n",
            "1    19154\n",
            "0     3801\n",
            "9       31\n",
            "Name: WhetherDefendantWasReleasedPretrial, dtype: int64\n"
          ]
        }
      ]
    },
    {
      "cell_type": "code",
      "source": [
        "# first I'm going to rename this variable, because the current name is so long that it's unwieldy\n",
        "missing_values = pretrial['WhetherDefendantWasReleasedPretrial'] == 9\n",
        "pretrial = pretrial.rename(columns = {'WhetherDefendantWasReleasedPretrial':'Released'})"
      ],
      "metadata": {
        "id": "Rg3JcV-1VCEq"
      },
      "id": "Rg3JcV-1VCEq",
      "execution_count": 69,
      "outputs": []
    },
    {
      "cell_type": "code",
      "source": [
        "# and I'll check that the rename worked:\n",
        "# first, check that the old column name no longer exists\n",
        "print('WhetherDefendantWasReleasedPretrial' in pretrial.columns)\n",
        "# then check that the variable appears under its new name\n",
        "print(pretrial['Released'].describe())"
      ],
      "metadata": {
        "colab": {
          "base_uri": "https://localhost:8080/"
        },
        "id": "voqYNaY-WGmD",
        "outputId": "a6cf2f88-5c7e-4746-aef8-b4277669fb64"
      },
      "id": "voqYNaY-WGmD",
      "execution_count": 70,
      "outputs": [
        {
          "output_type": "stream",
          "name": "stdout",
          "text": [
            "False\n",
            "count    22986.000000\n",
            "mean         0.845428\n",
            "std          0.477276\n",
            "min          0.000000\n",
            "25%          1.000000\n",
            "50%          1.000000\n",
            "75%          1.000000\n",
            "max          9.000000\n",
            "Name: Released, dtype: float64\n"
          ]
        }
      ]
    },
    {
      "cell_type": "code",
      "source": [
        "# because 9 is the missing value code, I will replace all the 9s in the dataset with np.nan\n",
        "missing_values = pretrial['Released'] == 9\n",
        "pretrial.loc[missing_values, 'Released'] = np.nan\n",
        "# I'll then confirm that the replacement worked\n",
        "print(pretrial['Released'].value_counts())"
      ],
      "metadata": {
        "colab": {
          "base_uri": "https://localhost:8080/"
        },
        "outputId": "0be29ad8-16db-4f7d-e07b-bb2e2d15f5a5",
        "id": "qJCp93EdVRou"
      },
      "execution_count": 71,
      "outputs": [
        {
          "output_type": "stream",
          "name": "stdout",
          "text": [
            "1.0    19154\n",
            "0.0     3801\n",
            "Name: Released, dtype: int64\n"
          ]
        }
      ],
      "id": "qJCp93EdVRou"
    },
    {
      "cell_type": "code",
      "source": [
        "# finally, I'll make a dummy value to encode which rows have missing data for the 'WhetherDefendantWasReleasedPretrial' variable\n",
        "pretrial['Released_NAN'] = pretrial['Released'].isna()\n",
        "print(pretrial['Released_NAN'].value_counts())"
      ],
      "metadata": {
        "colab": {
          "base_uri": "https://localhost:8080/"
        },
        "id": "XvkYSusOUyJo",
        "outputId": "2d8b5e92-0080-4124-f446-f88fbbc63bcd"
      },
      "id": "XvkYSusOUyJo",
      "execution_count": 72,
      "outputs": [
        {
          "output_type": "stream",
          "name": "stdout",
          "text": [
            "False    22955\n",
            "True        31\n",
            "Name: Released_NAN, dtype: int64\n"
          ]
        }
      ]
    },
    {
      "cell_type": "markdown",
      "source": [
        "4.\n",
        "Missing values, not at random: For the pretrial data covered in the lecture, clean the ImposedSentenceAllChargeInContactEvent variable as well as you can, and explain the choices you make. (Hint: Look at the SentenceTypeAllChargesAtConvictionInContactEvent variable.)"
      ],
      "metadata": {
        "id": "iiaxlfgEW-Jr"
      },
      "id": "iiaxlfgEW-Jr"
    },
    {
      "cell_type": "code",
      "source": [
        "pretrial2 = pretrial.copy(deep=True)"
      ],
      "metadata": {
        "id": "SllXsbIkgXNY"
      },
      "id": "SllXsbIkgXNY",
      "execution_count": 94,
      "outputs": []
    },
    {
      "cell_type": "code",
      "source": [
        "# first, I examined the imposed sentence variable and saw that it was of type \"object\"\n",
        "print(pretrial2['ImposedSentenceAllChargeInContactEvent'].describe(), '\\n')\n",
        "print(pretrial2['ImposedSentenceAllChargeInContactEvent'].unique())"
      ],
      "metadata": {
        "colab": {
          "base_uri": "https://localhost:8080/"
        },
        "id": "jT0A3ZJxW-tn",
        "outputId": "64ff9284-df98-4a62-e00b-fa52232ebd0b"
      },
      "id": "jT0A3ZJxW-tn",
      "execution_count": 95,
      "outputs": [
        {
          "output_type": "stream",
          "name": "stdout",
          "text": [
            "count     22986\n",
            "unique      484\n",
            "top            \n",
            "freq       9053\n",
            "Name: ImposedSentenceAllChargeInContactEvent, dtype: object \n",
            "\n",
            "[' ' '60' '12' '.985626283367556' '36' '6' '24' '5.91375770020534' '120'\n",
            " '72' '11.9917864476386' '0' '2.95687885010267' '84' '108' '300' '240'\n",
            " '180' '4' '96' '2' '54' '.328542094455852' '44' '5' '115' '132' '48'\n",
            " '258' '34' '76' '.164271047227926' '.131416837782341' '111' '9' '3'\n",
            " '1.97125256673511' '36.9856262833676' '.0657084188911704'\n",
            " '35.4928131416838' '106.492813141684' '8' '35' '18.3141683778234' '480'\n",
            " '32' '93' '234' '732' '1.16427104722793' '4.6570841889117' '21' '7'\n",
            " '4.49281314168378' '18' '600' '43.1642710472279' '179' '52' '30' '20'\n",
            " '192' '702' '14' '55' '53' '11.9055441478439' '114' '35.0061601642711'\n",
            " '68' '.657084188911704' '46.6242299794661' '102' '65' '200' '57'\n",
            " '24.3285420944559' '12.1642710472279' '117' '81.4928131416838'\n",
            " '22.4928131416838' '1980' '3.6570841889117' '56' '10' '2.79260780287474'\n",
            " '1' '47' '22' '1500' '40' '284' '11' '118' '42' '162' '156'\n",
            " '47.2956878850103' '105' '51' '246' '29' '75' '324' '360'\n",
            " '34.4804928131417' '120.328542094456' '59.9260780287474' '66'\n",
            " '59.9917864476386' '660' '51.1642710472279' '14.9568788501027'\n",
            " '3.98562628336756' '78' '228' '1.47843942505133' '62' '4.8' '86' '168'\n",
            " '23' '33' '48.0328542094456' '720' '348' '1200' '27' '49' '87' '420' '63'\n",
            " '79.9260780287474' '57.0349075975359' '49.9712525667351'\n",
            " '59.4928131416838' '17' '238.492813141684' '60.9856262833676' '126' '45'\n",
            " '158' '216' '227' '42.9568788501027' '445' '70.952772073922' '516'\n",
            " '177.82135523614' '1752' '90' '1080' '141' '4.82956878850103' '230' '31'\n",
            " '2208' '52.5133470225873' '69' '26' '33.4928131416838' '140' '131' '344'\n",
            " '219' '101' '71' '59' '58' '120.197125256674' '67' '35.4004106776181'\n",
            " '3.28542094455852' '40.1642710472279' '91' '1.7741273100616' '155'\n",
            " '34.4928131416838' '81' '92.3285420944559' '3.5482546201232' '207' '74'\n",
            " '518' '28' '8.95687885010267' '237' '404.673511293634' '18.1642710472279'\n",
            " '10.7433264887064' '551' '39' '15' '124' '43' '176' '19.4928131416838'\n",
            " '482' '129' '88' '46' '45.8542094455852' '128.628336755647'\n",
            " '136.492813141684' '108.328542094456' '50' '363.663244353183' '288' '250'\n",
            " '107' '81.0225872689938' '444' '205' '10.6570841889117' '19'\n",
            " '66.9856262833676' '38.4928131416838' '264' '276' '173' '222' '144' '294'\n",
            " '336' '431' '450' '73' '99.3285420944559' '128' '30.8069815195072'\n",
            " '31.5256673511294' '127' '202' '55.3285420944559' '89' '242'\n",
            " '1.31416837782341' '1029' '.788501026694045' '194.858316221766' '399'\n",
            " '39.6570841889117' '56.95687885' '198' '120.985626283368'\n",
            " '47.6570841889117' '148' '6.8993839835729' '65.3285420944559'\n",
            " '5.95277207392197' '.0985626283367557' '3.32854209445585'\n",
            " '3.94250513347023' '12.9856262833676' '6.98562628336756'\n",
            " '13.1498973305955' '15.1642710472279' '17.1971252566735'\n",
            " '17.9137577002053' '104' '212' '24.6570841889117' '72.6570841889117'\n",
            " '2.98562628336756' '144.985626283368' '31.9712525667351' '183'\n",
            " '4.98562628336756' '11.8213552361396' '252' '12.394250513347'\n",
            " '42.4928131416838' '10.1642710472279' '11.1642710472279'\n",
            " '5.49281314168378' '59.6632443531827' '12.3285420944559'\n",
            " '48.9856262833676' '240.985626283368' '2.6570841889117' '540'\n",
            " '2.97125256673511' '6.32854209445585' '23.6632443531828'\n",
            " '133.657084188912' '35.3285420944559' '456' '103' '1.72279260780287'\n",
            " '12.6570841889117' '11.6570841889117' '60.3285420944559'\n",
            " '3.78850102669405' '576' '2.13141683778234' '492' '14.9856262833676'\n",
            " '24.9856262833676' '61.9712525667351' '5.6570841889117' '16'\n",
            " '42.1642710472279' '.492813141683778' '138' '13.3141683778234'\n",
            " '11.8932238193018' '5.32854209445585' '95' '62.6570841889117'\n",
            " '3.08829568788501' '11.8275154004107' '1.64271047227926'\n",
            " '47.9917864476386' '4.27104722792608' '8.32854209445585'\n",
            " '3.31416837782341' '70' '77' '1.09856262833676' '48.1642710472279'\n",
            " '27.4928131416838' '6.93839835728953' '1011' '.68993839835729'\n",
            " '1.1170431211499' '1.49281314168378' '4.16427104722793'\n",
            " '1.19712525667351' '4.07392197125257' '188' '11.3285420944559'\n",
            " '.0328542094455852' '432' '11.952772073922' '36.4928131416838'\n",
            " '23.9835728952772' '9.98562628336756' '98' '36.3285420944559' '112'\n",
            " '.394250513347023' '13' '.262833675564682' '13.7987679671458'\n",
            " '5.8870636550308' '354' '5.91991786447639' '24.1642710472279'\n",
            " '62.95687885' '4.59958932238193' '123' '2.32854209445585'\n",
            " '23.9240246406571' '204' '197' '174' '16.1498973305955' '840' '440'\n",
            " '98.95687885' '17.952772073922' '63.9425051334702' '60.1314168377823'\n",
            " '12.1314168377823' '172.952772073922' '.197125256673511'\n",
            " '138.164271047228' '4.92813141683778' '.919917864476386'\n",
            " '18.9856262833676' '6.6570841889117' '2.85420944558522'\n",
            " '8.91375770020534' '146' '12.4928131416838' '.558521560574949'\n",
            " '.722792607802875' '5.82135523613963' '84.9856262833676'\n",
            " '6.16427104722793' '15.9856262833676' '64.5585215605749'\n",
            " '38.299794661191' '11.958932238193' '3.1211498973306' '126.328542094456'\n",
            " '5.16427104722793' '64' '42.6570841889117' '312' '19.9712525667351'\n",
            " '82.3285420944559' '23.9712525667351' '17.6242299794661'\n",
            " '121.971252566735' '59.6550308008214' '1.32854209445585'\n",
            " '7.97125256673511' '1.91991786447639' '.525667351129363'\n",
            " '9.32854209445585' '42.9856262833676' '41.9137577002053'\n",
            " '72.9856262833676' '12.4784394250513' '5.19096509240246' '473'\n",
            " '16.6570841889117' '109' '86.3285420944559' '41' '1.90554414784394'\n",
            " '94.1642710472279' '302' '4.39425051334702' '10.8213552361396'\n",
            " '18.3285420944559' '154' '83' '110.956878850103' '226' '96.0328542094456'\n",
            " '4.82135523613963' '30.3285420944559' '37.9712525667351'\n",
            " '50.4640657084189' '286' '99' '99.4928131416838' '2.6611909650924'\n",
            " '70.9712525667351' '13.9712525667351' '23.6570841889117'\n",
            " '.459958932238193' '132.492813141684' '283' '49.3141683778234'\n",
            " '27.9856262833676' '38' '7.6570841889117' '83.6550308008214'\n",
            " '10.9199178644764' '162.328542094456' '37' '132.328542094456'\n",
            " '35.952772073922' '165' '10.9856262833676' '20.1642710472279'\n",
            " '2.59137577002053' '175' '180.985626283368' '10.3285420944559'\n",
            " '36.1642710472279' '120.657084188912' '232' '152' '8.98562628336756'\n",
            " '167' '11.0657084188912' '11.2032854209446' '5.19712525667351'\n",
            " '3.16427104722793' '60.1642710472279' '1.18275154004107'\n",
            " '21.1642710472279' '2.19712525667351' '4.19712525667351'\n",
            " '2.62833675564682' '119.952772073922' '119.958932238193'\n",
            " '9.49281314168378' '5.25667351129363' '15.3285420944559'\n",
            " '2.82135523613963' '192.985626283368' '48.6570841889117'\n",
            " '5.95687885010267' '2.29979466119097' '960' '2.36550308008214' '116'\n",
            " '19.5133470225873' '1.6570841889117']\n"
          ]
        }
      ]
    },
    {
      "cell_type": "code",
      "source": [
        "# one of the values for ImposedSentence was a space, which would not be able to be converted to a number\n",
        "# I checked to see how many times this value occurred in the variable\n",
        "print((pretrial2['ImposedSentenceAllChargeInContactEvent'] == ' ').sum())"
      ],
      "metadata": {
        "colab": {
          "base_uri": "https://localhost:8080/"
        },
        "id": "pyOchmX5gw5Y",
        "outputId": "8b248ac1-22a8-46c6-98a9-9eacd07fe376"
      },
      "id": "pyOchmX5gw5Y",
      "execution_count": 96,
      "outputs": [
        {
          "output_type": "stream",
          "name": "stdout",
          "text": [
            "9053\n"
          ]
        }
      ]
    },
    {
      "cell_type": "code",
      "source": [
        "# next, I converted the variable to a numeric type and examined it\n",
        "pretrial2['ImposedSentenceAllChargeInContactEvent'] = pd.to_numeric(pretrial2['ImposedSentenceAllChargeInContactEvent'], errors='coerce')\n",
        "print(pretrial2['ImposedSentenceAllChargeInContactEvent'].describe(), '\\n')\n",
        "print(pretrial2['ImposedSentenceAllChargeInContactEvent'].value_counts())"
      ],
      "metadata": {
        "colab": {
          "base_uri": "https://localhost:8080/"
        },
        "id": "Pv4SF7u7gJDx",
        "outputId": "b326562c-4a8f-4984-fbb9-f052588620fa"
      },
      "id": "Pv4SF7u7gJDx",
      "execution_count": 97,
      "outputs": [
        {
          "output_type": "stream",
          "name": "stdout",
          "text": [
            "count    13933.000000\n",
            "mean        19.899671\n",
            "std         63.571627\n",
            "min          0.000000\n",
            "25%          0.000000\n",
            "50%          2.000000\n",
            "75%         12.000000\n",
            "max       2208.000000\n",
            "Name: ImposedSentenceAllChargeInContactEvent, dtype: float64 \n",
            "\n",
            "0.000000     4953\n",
            "12.000000    1404\n",
            "0.985626     1051\n",
            "6.000000      809\n",
            "3.000000      787\n",
            "             ... \n",
            "49.971253       1\n",
            "57.034908       1\n",
            "79.926078       1\n",
            "42.164271       1\n",
            "1.657084        1\n",
            "Name: ImposedSentenceAllChargeInContactEvent, Length: 483, dtype: int64\n"
          ]
        }
      ]
    },
    {
      "cell_type": "code",
      "source": [
        "# I checked to make sure that the spaces (and only the spaces) became nans\n",
        "pretrial2[\"ImposedSentenceAllChargeInContactEvent\"].isna().sum()"
      ],
      "metadata": {
        "colab": {
          "base_uri": "https://localhost:8080/"
        },
        "id": "x1eCMkytmXKn",
        "outputId": "7ff909fd-ea4a-47b5-8706-c104c94093c9"
      },
      "id": "x1eCMkytmXKn",
      "execution_count": 98,
      "outputs": [
        {
          "output_type": "execute_result",
          "data": {
            "text/plain": [
              "9053"
            ]
          },
          "metadata": {},
          "execution_count": 98
        }
      ]
    },
    {
      "cell_type": "code",
      "source": [
        "# I can see that there are a lot of sentences of zero months, and there are also 9053 observations with no sentence\n",
        "# I'll create a dummy variable for when there is a sentence of zero months\n",
        "pretrial2[\"Sentence_Zero\"] = pretrial2[\"ImposedSentenceAllChargeInContactEvent\"] == 0\n",
        "# and one for when there is no sentence\n",
        "pretrial2[\"Sentence_NA\"] = pretrial2[\"ImposedSentenceAllChargeInContactEvent\"].isna()"
      ],
      "metadata": {
        "id": "xvu2Hb6Dz_67"
      },
      "id": "xvu2Hb6Dz_67",
      "execution_count": 99,
      "outputs": []
    },
    {
      "cell_type": "code",
      "source": [
        "# then, I'll cross-tabulate these dummy variablea with the SentenceType variable\n",
        "print(pd.crosstab(pretrial2['Sentence_Zero'], pretrial2['SentenceTypeAllChargesAtConvictionInContactEvent']), '\\n')\n",
        "print(pd.crosstab(pretrial2['Sentence_NA'], pretrial2['SentenceTypeAllChargesAtConvictionInContactEvent']))"
      ],
      "metadata": {
        "colab": {
          "base_uri": "https://localhost:8080/"
        },
        "id": "ToWNO8nO0vY0",
        "outputId": "3996d271-4a07-408e-bf83-e7c0cd162e9c"
      },
      "id": "ToWNO8nO0vY0",
      "execution_count": 100,
      "outputs": [
        {
          "output_type": "stream",
          "name": "stdout",
          "text": [
            "SentenceTypeAllChargesAtConvictionInContactEvent     0     1    2     4    9\n",
            "Sentence_Zero                                                               \n",
            "False                                             3767  4299  914  8779  274\n",
            "True                                              4953     0    0     0    0 \n",
            "\n",
            "SentenceTypeAllChargesAtConvictionInContactEvent     0     1    2     4    9\n",
            "Sentence_NA                                                                 \n",
            "False                                             8720  4299  914     0    0\n",
            "True                                                 0     0    0  8779  274\n"
          ]
        }
      ]
    },
    {
      "cell_type": "code",
      "source": [
        "# If the sentence type is 9, the sentence should be np.nan, because in that case, the data about sentence length is unknown\n",
        "# Similarly, if the charges against the person were dropped, then of course there is no sentence to speak about\n",
        "# So, it makes sense that all the sentences for people with sentence types 4 and 9 are NaN"
      ],
      "metadata": {
        "id": "i2cxd35pnq-k"
      },
      "id": "i2cxd35pnq-k",
      "execution_count": 101,
      "outputs": []
    },
    {
      "cell_type": "code",
      "source": [
        "# looking at the codebook, sentence type 0 means that the person was put on probation/not incarcerated\n",
        "# this indicates a more minor crime, so it makes sense that this is the only category\n",
        "# where people received a sentence of zero months\n",
        "# in this case, a sentence was given, and we have information about it, but it was chosen to be zero months\n",
        "# so, I think this value should NOT be replaced with NaN\n",
        "\n",
        "# I examined the sentences given to people with this sentence type\n",
        "pretrial2.loc[ pretrial2['SentenceTypeAllChargesAtConvictionInContactEvent'] == 0, 'ImposedSentenceAllChargeInContactEvent'].value_counts()"
      ],
      "metadata": {
        "colab": {
          "base_uri": "https://localhost:8080/"
        },
        "id": "CwDBXR0FkSKE",
        "outputId": "8feb4805-7a18-4f1c-a0da-080ed4e5d01e"
      },
      "id": "CwDBXR0FkSKE",
      "execution_count": 102,
      "outputs": [
        {
          "output_type": "execute_result",
          "data": {
            "text/plain": [
              "0.000000      4953\n",
              "0.985626       765\n",
              "12.000000      586\n",
              "3.000000       442\n",
              "6.000000       372\n",
              "              ... \n",
              "158.000000       1\n",
              "23.663244        1\n",
              "227.000000       1\n",
              "59.663244        1\n",
              "0.459959         1\n",
              "Name: ImposedSentenceAllChargeInContactEvent, Length: 176, dtype: int64"
            ]
          },
          "metadata": {},
          "execution_count": 102
        }
      ]
    },
    {
      "cell_type": "code",
      "source": [
        "# the one thing I noticed was that some people still got a sentence despite not being incarcerated\n",
        "# I think it would make more sense to set these people's sentence length as 0 (indicating that they were not sentenced to jail time)\n",
        "# and then represent their probation time in its own variable, ProbationTime\n",
        "\n",
        "# I made a new column for this variable, copying over the sentence times\n",
        "pretrial2['ProbationTime'] = pretrial2['ImposedSentenceAllChargeInContactEvent'].copy()\n",
        "# then made the probation time NaN for any sentence type that was not 0 (did not involve probation)\n",
        "pretrial2.loc[ pretrial2['SentenceTypeAllChargesAtConvictionInContactEvent'] != 0, 'ProbationTime'] = np.nan\n",
        "# finally, I reflected that all the people with sentence type 0 did not receive any jail time\n",
        "pretrial2.loc[ pretrial2['SentenceTypeAllChargesAtConvictionInContactEvent'] == 0, 'ImposedSentenceAllChargeInContactEvent'] = 0.0"
      ],
      "metadata": {
        "id": "eTf9zB7XnXk2"
      },
      "id": "eTf9zB7XnXk2",
      "execution_count": 103,
      "outputs": []
    },
    {
      "cell_type": "code",
      "source": [
        "# finally, I made sure that the changes had been applied by re-running/running more cross tabulations\n",
        "pretrial2[\"Sentence_Zero\"] = pretrial2[\"ImposedSentenceAllChargeInContactEvent\"] == 0\n",
        "pretrial2[\"Sentence_NA\"] = pretrial2[\"ImposedSentenceAllChargeInContactEvent\"].isna()\n",
        "pretrial2[\"Probation_Zero\"] = pretrial2[\"ProbationTime\"] == 0\n",
        "pretrial2[\"Probation_NA\"] = pretrial2[\"ProbationTime\"].isna()\n",
        "\n",
        "print(pd.crosstab(pretrial2['Sentence_Zero'], pretrial2['SentenceTypeAllChargesAtConvictionInContactEvent']), '\\n')\n",
        "print(pd.crosstab(pretrial2['Sentence_NA'], pretrial2['SentenceTypeAllChargesAtConvictionInContactEvent']), '\\n')\n",
        "print(pd.crosstab(pretrial2['Probation_Zero'], pretrial2['SentenceTypeAllChargesAtConvictionInContactEvent']), '\\n')\n",
        "print(pd.crosstab(pretrial2['Probation_NA'], pretrial2['SentenceTypeAllChargesAtConvictionInContactEvent']))"
      ],
      "metadata": {
        "colab": {
          "base_uri": "https://localhost:8080/"
        },
        "id": "e5pzyz12lW-T",
        "outputId": "9a30bc54-a398-4d0a-ff84-fb3896b8bf15"
      },
      "id": "e5pzyz12lW-T",
      "execution_count": 104,
      "outputs": [
        {
          "output_type": "stream",
          "name": "stdout",
          "text": [
            "SentenceTypeAllChargesAtConvictionInContactEvent     0     1    2     4    9\n",
            "Sentence_Zero                                                               \n",
            "False                                                0  4299  914  8779  274\n",
            "True                                              8720     0    0     0    0 \n",
            "\n",
            "SentenceTypeAllChargesAtConvictionInContactEvent     0     1    2     4    9\n",
            "Sentence_NA                                                                 \n",
            "False                                             8720  4299  914     0    0\n",
            "True                                                 0     0    0  8779  274 \n",
            "\n",
            "SentenceTypeAllChargesAtConvictionInContactEvent     0     1    2     4    9\n",
            "Probation_Zero                                                              \n",
            "False                                             3767  4299  914  8779  274\n",
            "True                                              4953     0    0     0    0 \n",
            "\n",
            "SentenceTypeAllChargesAtConvictionInContactEvent     0     1    2     4    9\n",
            "Probation_NA                                                                \n",
            "False                                             8720     0    0     0    0\n",
            "True                                                 0  4299  914  8779  274\n"
          ]
        }
      ]
    },
    {
      "cell_type": "code",
      "source": [
        "# looks good!"
      ],
      "metadata": {
        "id": "-qNID_JEq_JO"
      },
      "id": "-qNID_JEq_JO",
      "execution_count": 105,
      "outputs": []
    },
    {
      "cell_type": "markdown",
      "id": "c11bcd96-2834-41a4-80fe-d354b4277fd9",
      "metadata": {
        "id": "c11bcd96-2834-41a4-80fe-d354b4277fd9"
      },
      "source": [
        "**Q3.** This question provides some practice doing exploratory data analysis and visualization.\n",
        "\n",
        "The \"relevant\" variables for this question are:\n",
        "  - `level` - Level of institution (4-year, 2-year)\n",
        "  - `aid_value` - The average amount of student aid going to undergraduate recipients\n",
        "  - `control` - Public, Private not-for-profit, Private for-profit\n",
        "  - `grad_100_value` - percentage of first-time, full-time, degree-seeking undergraduates who complete a degree or certificate program within 100 percent of expected time (bachelor's-seeking group at 4-year institutions)\n",
        "\n",
        "1. Load the `./data/college_completion.csv` data with Pandas.\n",
        "2. What are are the dimensions of the data? How many observations are there? What are the variables included? Use `.head()` to examine the first few rows of data.\n",
        "3. Cross tabulate `control` and `level`. Describe the patterns you see.\n",
        "4. For `grad_100_value`, create a histogram, kernel density plot, boxplot, and statistical description.\n",
        "5. For `grad_100_value`, create a grouped kernel density plot by `control` and by `level`. Describe what you see. Use `groupby` and `.describe` to make grouped calculations of statistical descriptions of `grad_100_value` by `level` and `control`. Which institutions appear to have the best graduation rates?\n",
        "6. Create a new variable, `df['levelXcontrol']=df['level']+', '+df['control']` that interacts level and control. Make a grouped kernel density plot. Which institutions appear to have the best graduation rates?\n",
        "7. Make a kernel density plot of `aid_value`. Notice that your graph is \"bi-modal\", having two little peaks that represent locally most common values. Now group your graph by `level` and `control`. What explains the bi-modal nature of the graph? Use `groupby` and `.describe` to make grouped calculations of statistical descriptions of `aid_value` by `level` and `control`.\n",
        "8. Make a scatterplot of `grad_100_value` by `aid_value`. Describe what you see. Now make the same plot, grouping by `level` and then `control`. Describe what you see. For which kinds of institutions does aid seem to increase graduation rates?"
      ]
    },
    {
      "cell_type": "markdown",
      "id": "98d34a3b-c21d-4dc9-a8d2-fb7686804ceb",
      "metadata": {
        "id": "98d34a3b-c21d-4dc9-a8d2-fb7686804ceb"
      },
      "source": [
        "**Q4.** This question uses the Airbnb data to practice making visualizations.\n",
        "\n",
        "  1. Load the `./data/airbnb_hw.csv` data with Pandas. You should have cleaned the `Price` variable in question 2, and you'll need it later for this question."
      ]
    },
    {
      "cell_type": "code",
      "source": [
        "# I loaded the data in question 2"
      ],
      "metadata": {
        "id": "jfnx1-Mbszpe"
      },
      "id": "jfnx1-Mbszpe",
      "execution_count": null,
      "outputs": []
    },
    {
      "cell_type": "markdown",
      "source": [
        "2. What are are the dimensions of the data? How many observations are there? What are the variables included? Use `.head()` to examine the first few rows of data."
      ],
      "metadata": {
        "id": "eeDGb40WsMUO"
      },
      "id": "eeDGb40WsMUO"
    },
    {
      "cell_type": "code",
      "source": [
        "print(airbnb.shape, '\\n') # this reveals the dimensions of the data and tells me that there are 30,478 observations\n",
        "print(airbnb.dtypes, '\\n') # this tells me that the variables included are Host Id, Host Since, Name, Neighbourhood, Property Type, etc\n",
        "\n",
        "print(airbnb.head())"
      ],
      "metadata": {
        "colab": {
          "base_uri": "https://localhost:8080/"
        },
        "id": "uXps_92Ps3GY",
        "outputId": "1b0ac8e1-1116-4e02-b8ae-2e9cfebdc0ce"
      },
      "id": "uXps_92Ps3GY",
      "execution_count": 110,
      "outputs": [
        {
          "output_type": "stream",
          "name": "stdout",
          "text": [
            "(30478, 13) \n",
            "\n",
            "Host Id                         int64\n",
            "Host Since                     object\n",
            "Name                           object\n",
            "Neighbourhood                  object\n",
            "Property Type                  object\n",
            "Review Scores Rating (bin)    float64\n",
            "Room Type                      object\n",
            "Zipcode                       float64\n",
            "Beds                          float64\n",
            "Number of Records               int64\n",
            "Number Of Reviews               int64\n",
            "Price                           int64\n",
            "Review Scores Rating          float64\n",
            "dtype: object \n",
            "\n",
            "    Host Id Host Since                                Name Neighbourhood   \\\n",
            "0   5162530        NaN     1 Bedroom in Prime Williamsburg       Brooklyn   \n",
            "1  33134899        NaN     Sunny, Private room in Bushwick       Brooklyn   \n",
            "2  39608626        NaN                Sunny Room in Harlem      Manhattan   \n",
            "3       500  6/26/2008  Gorgeous 1 BR with Private Balcony      Manhattan   \n",
            "4       500  6/26/2008            Trendy Times Square Loft      Manhattan   \n",
            "\n",
            "  Property Type  Review Scores Rating (bin)        Room Type  Zipcode  Beds  \\\n",
            "0     Apartment                         NaN  Entire home/apt  11249.0   1.0   \n",
            "1     Apartment                         NaN     Private room  11206.0   1.0   \n",
            "2     Apartment                         NaN     Private room  10032.0   1.0   \n",
            "3     Apartment                         NaN  Entire home/apt  10024.0   3.0   \n",
            "4     Apartment                        95.0     Private room  10036.0   3.0   \n",
            "\n",
            "   Number of Records  Number Of Reviews  Price  Review Scores Rating  \n",
            "0                  1                  0    145                   NaN  \n",
            "1                  1                  1     37                   NaN  \n",
            "2                  1                  1     28                   NaN  \n",
            "3                  1                  0    199                   NaN  \n",
            "4                  1                 39    549                  96.0  \n"
          ]
        }
      ]
    },
    {
      "cell_type": "markdown",
      "source": [
        "3. Cross tabulate `Room Type` and `Property Type`. What patterns do you see in what kinds of rentals are available? For which kinds of properties are private rooms more common than renting the entire property?"
      ],
      "metadata": {
        "id": "jSCQoRUIsQ1y"
      },
      "id": "jSCQoRUIsQ1y"
    },
    {
      "cell_type": "code",
      "source": [
        "print(pd.crosstab(airbnb['Room Type'], airbnb['Property Type']))"
      ],
      "metadata": {
        "colab": {
          "base_uri": "https://localhost:8080/"
        },
        "id": "f9hG8Y2wtW9l",
        "outputId": "4d6799b2-1e31-4d12-d817-b87500e27d1d"
      },
      "id": "f9hG8Y2wtW9l",
      "execution_count": 111,
      "outputs": [
        {
          "output_type": "stream",
          "name": "stdout",
          "text": [
            "Property Type    Apartment  Bed & Breakfast  Boat  Bungalow  Cabin  Camper/RV  \\\n",
            "Room Type                                                                       \n",
            "Entire home/apt      15669               13     7         4      1          6   \n",
            "Private room         10748              155     1         0      1          1   \n",
            "Shared room            685               12     0         0      0          0   \n",
            "\n",
            "Property Type    Castle  Chalet  Condominium  Dorm  House  Hut  Lighthouse  \\\n",
            "Room Type                                                                    \n",
            "Entire home/apt       0       0           72     4    752    0           1   \n",
            "Private room          1       1           22    16   1258    2           0   \n",
            "Shared room           0       0            0    11     80    0           0   \n",
            "\n",
            "Property Type    Loft  Other  Tent  Townhouse  Treehouse  Villa  \n",
            "Room Type                                                        \n",
            "Entire home/apt   392     14     0         83          0      4  \n",
            "Private room      312     29     4         52          1      4  \n",
            "Shared room        49      4     0          1          3      0  \n"
          ]
        }
      ]
    },
    {
      "cell_type": "code",
      "source": [
        "# A general pattern I see is that small/isolated rentals, such as RVs and boats, tend to have guests rent the entire home/unit\n",
        "# Meanwhile, large buildings, such as bed and breakfasts, castles, and chalets, tend to have guests rent a single room in the facility\n",
        "# Medium-sized buildings, such as a house or a villa, could go either way\n",
        "\n",
        "# Private rooms are more comman than renting an entire property for bed and breakfasts, castles, chalets, dorms, houses, huts, tents,\n",
        "# treehouses, and anything that falls in the \"other\" category"
      ],
      "metadata": {
        "id": "N1WFbTsRtvGE"
      },
      "id": "N1WFbTsRtvGE",
      "execution_count": 112,
      "outputs": []
    },
    {
      "cell_type": "markdown",
      "source": [
        "4. For `Price`, make a histogram, kernel density, box plot, and a statistical description of the variable. Are the data badly scaled? Are there many outliers? Use `log` to transform price into a new variable, `price_log`, and take these steps again."
      ],
      "metadata": {
        "id": "uCY52rP5sT62"
      },
      "id": "uCY52rP5sT62"
    },
    {
      "cell_type": "code",
      "source": [
        "# histogram for price\n",
        "airbnb[\"Price\"].hist(bins=100) # this is hard to read because of the rare expensive listings (the data has a long tail)"
      ],
      "metadata": {
        "colab": {
          "base_uri": "https://localhost:8080/",
          "height": 448
        },
        "id": "JUmPuK4cusvt",
        "outputId": "fd41f027-5c97-4ca4-c1b3-b6fde8e94679"
      },
      "id": "JUmPuK4cusvt",
      "execution_count": 115,
      "outputs": [
        {
          "output_type": "execute_result",
          "data": {
            "text/plain": [
              "<Axes: >"
            ]
          },
          "metadata": {},
          "execution_count": 115
        },
        {
          "output_type": "display_data",
          "data": {
            "text/plain": [
              "<Figure size 640x480 with 1 Axes>"
            ],
            "image/png": "[encoded data removed]"
          },
          "metadata": {}
        }
      ]
    },
    {
      "cell_type": "code",
      "source": [
        "# kernel density for price\n",
        "airbnb[\"Price\"].plot.density()"
      ],
      "metadata": {
        "colab": {
          "base_uri": "https://localhost:8080/",
          "height": 448
        },
        "id": "WQ8nNFoJuuok",
        "outputId": "402f9f0f-e0a6-4e61-9cb2-cdf2ba8d5f9f"
      },
      "id": "WQ8nNFoJuuok",
      "execution_count": 119,
      "outputs": [
        {
          "output_type": "execute_result",
          "data": {
            "text/plain": [
              "<Axes: ylabel='Density'>"
            ]
          },
          "metadata": {},
          "execution_count": 119
        },
        {
          "output_type": "display_data",
          "data": {
            "text/plain": [
              "<Figure size 640x480 with 1 Axes>"
            ],
            "image/png": "[encoded data removed]"
          },
          "metadata": {}
        }
      ]
    },
    {
      "cell_type": "code",
      "source": [
        "# box plot for price\n",
        "airbnb[\"Price\"].plot.box() # again, we can see that there are just a few data points above the $2,000 mark"
      ],
      "metadata": {
        "colab": {
          "base_uri": "https://localhost:8080/",
          "height": 448
        },
        "id": "1nJumLuBuvsV",
        "outputId": "f53c80ff-5452-4e53-af42-3421dd7ab786"
      },
      "id": "1nJumLuBuvsV",
      "execution_count": 120,
      "outputs": [
        {
          "output_type": "execute_result",
          "data": {
            "text/plain": [
              "<Axes: >"
            ]
          },
          "metadata": {},
          "execution_count": 120
        },
        {
          "output_type": "display_data",
          "data": {
            "text/plain": [
              "<Figure size 640x480 with 1 Axes>"
            ],
            "image/png": "[encoded data removed]"
          },
          "metadata": {}
        }
      ]
    },
    {
      "cell_type": "code",
      "source": [
        "airbnb.boxplot(column=\"Price\")"
      ],
      "metadata": {
        "colab": {
          "base_uri": "https://localhost:8080/",
          "height": 448
        },
        "id": "qqIYHo6u0Yt8",
        "outputId": "cceeacc2-1fd1-4792-d4af-29be3a71d1dd"
      },
      "id": "qqIYHo6u0Yt8",
      "execution_count": 121,
      "outputs": [
        {
          "output_type": "execute_result",
          "data": {
            "text/plain": [
              "<Axes: >"
            ]
          },
          "metadata": {},
          "execution_count": 121
        },
        {
          "output_type": "display_data",
          "data": {
            "text/plain": [
              "<Figure size 640x480 with 1 Axes>"
            ],
            "image/png": "[encoded data removed]"
          },
          "metadata": {}
        }
      ]
    },
    {
      "cell_type": "code",
      "source": [
        "# statistical description for price\n",
        "stats = airbnb[\"Price\"].describe()\n",
        "\n",
        "# just like in the EDA notebook, I'll compute the variance and interquartile range\n",
        "# this code is inspired by the EDA notebook code\n",
        "std = stats[2]\n",
        "var = std**2\n",
        "thirdQ = stats[6] # 75th percentile\n",
        "firstQ = stats[4] # 25th percentile\n",
        "iqr = thirdQ - firstQ\n",
        "\n",
        "print(stats, '\\n')\n",
        "print('Variance: ', var)\n",
        "print('Inter-quartile range: ', iqr)"
      ],
      "metadata": {
        "colab": {
          "base_uri": "https://localhost:8080/"
        },
        "id": "UTLWfhDTuwrI",
        "outputId": "4b211d61-f968-4380-9e58-150bc96be3db"
      },
      "id": "UTLWfhDTuwrI",
      "execution_count": 131,
      "outputs": [
        {
          "output_type": "stream",
          "name": "stdout",
          "text": [
            "count    30478.000000\n",
            "mean       163.589737\n",
            "std        197.785454\n",
            "min         10.000000\n",
            "25%         80.000000\n",
            "50%        125.000000\n",
            "75%        195.000000\n",
            "max      10000.000000\n",
            "Name: Price, dtype: float64 \n",
            "\n",
            "Variance:  39119.085673448484\n",
            "Inter-quartile range:  115.0\n"
          ]
        }
      ]
    },
    {
      "cell_type": "code",
      "source": [
        "# creation of price_log\n",
        "airbnb[\"price_log\"] = np.log(airbnb[\"Price\"])"
      ],
      "metadata": {
        "id": "Uugr0FyZu5mj"
      },
      "id": "Uugr0FyZu5mj",
      "execution_count": 126,
      "outputs": []
    },
    {
      "cell_type": "code",
      "source": [
        "# histogram for price_log\n",
        "airbnb[\"price_log\"].hist() # since there are no negative or 0 price values, I don't have to worry about there being undefined log values"
      ],
      "metadata": {
        "colab": {
          "base_uri": "https://localhost:8080/",
          "height": 448
        },
        "id": "D2TC5iNVu5Y3",
        "outputId": "6c941e74-be00-4be9-f079-eda016fb7dff"
      },
      "id": "D2TC5iNVu5Y3",
      "execution_count": 128,
      "outputs": [
        {
          "output_type": "execute_result",
          "data": {
            "text/plain": [
              "<Axes: >"
            ]
          },
          "metadata": {},
          "execution_count": 128
        },
        {
          "output_type": "display_data",
          "data": {
            "text/plain": [
              "<Figure size 640x480 with 1 Axes>"
            ],
            "image/png": "[encoded data removed]"
          },
          "metadata": {}
        }
      ]
    },
    {
      "cell_type": "code",
      "source": [
        "# kernel density for price_log\n",
        "airbnb[\"price_log\"].plot.density()"
      ],
      "metadata": {
        "colab": {
          "base_uri": "https://localhost:8080/",
          "height": 448
        },
        "id": "XCg1EXHDu85d",
        "outputId": "b3c3c6f9-dae7-48eb-ee95-c87b8241f2c0"
      },
      "id": "XCg1EXHDu85d",
      "execution_count": 129,
      "outputs": [
        {
          "output_type": "execute_result",
          "data": {
            "text/plain": [
              "<Axes: ylabel='Density'>"
            ]
          },
          "metadata": {},
          "execution_count": 129
        },
        {
          "output_type": "display_data",
          "data": {
            "text/plain": [
              "<Figure size 640x480 with 1 Axes>"
            ],
            "image/png": "[encoded data removed]"
          },
          "metadata": {}
        }
      ]
    },
    {
      "cell_type": "code",
      "source": [
        "# box plot for price_log\n",
        "airbnb[\"price_log\"].plot.box()"
      ],
      "metadata": {
        "colab": {
          "base_uri": "https://localhost:8080/",
          "height": 448
        },
        "id": "eZ2E1ENHu_B3",
        "outputId": "74d4165d-0a10-4382-b23d-257527066744"
      },
      "id": "eZ2E1ENHu_B3",
      "execution_count": 130,
      "outputs": [
        {
          "output_type": "execute_result",
          "data": {
            "text/plain": [
              "<Axes: >"
            ]
          },
          "metadata": {},
          "execution_count": 130
        },
        {
          "output_type": "display_data",
          "data": {
            "text/plain": [
              "<Figure size 640x480 with 1 Axes>"
            ],
            "image/png": "[encoded data removed]"
          },
          "metadata": {}
        }
      ]
    },
    {
      "cell_type": "code",
      "source": [
        "# statistical description for price_log\n",
        "log_stats = airbnb[\"price_log\"].describe()\n",
        "\n",
        "log_var = log_stats[2]**2\n",
        "log_thirdQ = log_stats[6]\n",
        "log_firstQ = log_stats[4]\n",
        "log_iqr = log_thirdQ - log_firstQ\n",
        "\n",
        "print(log_stats, '\\n')\n",
        "print('Variance: ', log_var)\n",
        "print('Inter-quartile range: ', log_iqr)"
      ],
      "metadata": {
        "colab": {
          "base_uri": "https://localhost:8080/"
        },
        "id": "6HJ5tY-Eu_71",
        "outputId": "a8bf00e8-7815-4b67-e23b-ecb9bfb9bf70"
      },
      "id": "6HJ5tY-Eu_71",
      "execution_count": 133,
      "outputs": [
        {
          "output_type": "stream",
          "name": "stdout",
          "text": [
            "count    30478.000000\n",
            "mean         4.860495\n",
            "std          0.627704\n",
            "min          2.302585\n",
            "25%          4.382027\n",
            "50%          4.828314\n",
            "75%          5.273000\n",
            "max          9.210340\n",
            "Name: price_log, dtype: float64 \n",
            "\n",
            "Variance:  0.39401233246166956\n",
            "Inter-quartile range:  0.8909729238898656\n"
          ]
        }
      ]
    },
    {
      "cell_type": "markdown",
      "source": [
        "5. Make a scatterplot of `price_log` and `Beds`. Describe what you see. Use `.groupby()` to compute a desciption of `Price` conditional on/grouped by the number of beds. Describe any patterns you see in the average price and standard deviation in prices."
      ],
      "metadata": {
        "id": "-XJ9O5CKsXXb"
      },
      "id": "-XJ9O5CKsXXb"
    },
    {
      "cell_type": "code",
      "source": [
        "# scatterplot for price_log and beds\n",
        "airbnb.plot.scatter(y='Beds',x='price_log')"
      ],
      "metadata": {
        "colab": {
          "base_uri": "https://localhost:8080/",
          "height": 468
        },
        "id": "LAXG0WS6vE-a",
        "outputId": "d9328282-e12d-4133-8425-694782680973"
      },
      "id": "LAXG0WS6vE-a",
      "execution_count": 135,
      "outputs": [
        {
          "output_type": "execute_result",
          "data": {
            "text/plain": [
              "<Axes: xlabel='price_log', ylabel='Beds'>"
            ]
          },
          "metadata": {},
          "execution_count": 135
        },
        {
          "output_type": "display_data",
          "data": {
            "text/plain": [
              "<Figure size 640x480 with 1 Axes>"
            ],
            "image/png": "[encoded data removed]"
          },
          "metadata": {}
        }
      ]
    },
    {
      "cell_type": "code",
      "source": [
        "# interestingly, it looks like there's not a huge correlation between price and number of beds;\n",
        "# even the listings with the most beds (16) are only around the middle of the price range\n",
        "# meanwhile, there seems to be a very slight positive correlation between price and beds\n",
        " # (as the number of beds goes up, the mid-range of price goes up just slightly), but there's a huge price range on the smaller listings"
      ],
      "metadata": {
        "id": "ilpBf0xU2tnF"
      },
      "id": "ilpBf0xU2tnF",
      "execution_count": null,
      "outputs": []
    },
    {
      "cell_type": "code",
      "source": [
        "airbnb.loc[:,['Beds','Price']].groupby('Beds').describe()"
      ],
      "metadata": {
        "colab": {
          "base_uri": "https://localhost:8080/",
          "height": 550
        },
        "id": "Gc8ecN6pvHuH",
        "outputId": "6aad1799-7875-4192-e087-82bb08e4af51"
      },
      "id": "Gc8ecN6pvHuH",
      "execution_count": 136,
      "outputs": [
        {
          "output_type": "execute_result",
          "data": {
            "text/plain": [
              "        Price                                                           \\\n",
              "        count         mean          std    min     25%    50%      75%   \n",
              "Beds                                                                     \n",
              "0.0       2.0    92.000000    38.183766   65.0   78.50   92.0   105.50   \n",
              "1.0   20344.0   127.673810   107.047827   10.0   75.00  100.0   155.00   \n",
              "2.0    6610.0   199.061271   225.706318   25.0  115.00  160.0   225.00   \n",
              "3.0    2071.0   268.118300   303.106942   26.0  140.00  200.0   300.00   \n",
              "4.0     783.0   315.332056   353.184402   27.0  150.00  247.0   375.00   \n",
              "5.0     284.0   411.500000   672.610659   35.0  189.75  290.0   450.00   \n",
              "6.0     177.0   401.768362   417.018431   35.0  199.00  275.0   425.00   \n",
              "7.0      45.0   341.377778   220.116631   55.0  177.00  300.0   445.00   \n",
              "8.0      24.0   589.041667   793.054934   55.0  243.75  350.0   481.25   \n",
              "9.0      15.0   618.000000   233.649616  175.0  447.50  650.0   762.50   \n",
              "10.0     16.0   480.187500   296.820534   95.0  291.00  407.5   706.25   \n",
              "11.0      5.0   535.800000   499.217588  100.0  220.00  359.0   650.00   \n",
              "12.0      4.0  1418.750000  2388.285211  150.0  206.25  262.5  1475.00   \n",
              "16.0     13.0   736.000000   496.804287  104.0  350.00  625.0  1000.00   \n",
              "\n",
              "               \n",
              "          max  \n",
              "Beds           \n",
              "0.0     119.0  \n",
              "1.0    4000.0  \n",
              "2.0   10000.0  \n",
              "3.0    5000.0  \n",
              "4.0    6500.0  \n",
              "5.0    8000.0  \n",
              "6.0    2750.0  \n",
              "7.0     900.0  \n",
              "8.0    4000.0  \n",
              "9.0    1050.0  \n",
              "10.0   1050.0  \n",
              "11.0   1350.0  \n",
              "12.0   5000.0  \n",
              "16.0   1500.0  "
            ],
            "text/html": [
              "\n",
              "  <div id=\"df-5b8a5eb0-6d19-45a3-accc-56616a95b456\" class=\"colab-df-container\">\n",
              "    <div>\n",
              "<style scoped>\n",
              "    .dataframe tbody tr th:only-of-type {\n",
              "        vertical-align: middle;\n",
              "    }\n",
              "\n",
              "    .dataframe tbody tr th {\n",
              "        vertical-align: top;\n",
              "    }\n",
              "\n",
              "    .dataframe thead tr th {\n",
              "        text-align: left;\n",
              "    }\n",
              "\n",
              "    .dataframe thead tr:last-of-type th {\n",
              "        text-align: right;\n",
              "    }\n",
              "</style>\n",
              "<table border=\"1\" class=\"dataframe\">\n",
              "  <thead>\n",
              "    <tr>\n",
              "      <th></th>\n",
              "      <th colspan=\"8\" halign=\"left\">Price</th>\n",
              "    </tr>\n",
              "    <tr>\n",
              "      <th></th>\n",
              "      <th>count</th>\n",
              "      <th>mean</th>\n",
              "      <th>std</th>\n",
              "      <th>min</th>\n",
              "      <th>25%</th>\n",
              "      <th>50%</th>\n",
              "      <th>75%</th>\n",
              "      <th>max</th>\n",
              "    </tr>\n",
              "    <tr>\n",
              "      <th>Beds</th>\n",
              "      <th></th>\n",
              "      <th></th>\n",
              "      <th></th>\n",
              "      <th></th>\n",
              "      <th></th>\n",
              "      <th></th>\n",
              "      <th></th>\n",
              "      <th></th>\n",
              "    </tr>\n",
              "  </thead>\n",
              "  <tbody>\n",
              "    <tr>\n",
              "      <th>0.0</th>\n",
              "      <td>2.0</td>\n",
              "      <td>92.000000</td>\n",
              "      <td>38.183766</td>\n",
              "      <td>65.0</td>\n",
              "      <td>78.50</td>\n",
              "      <td>92.0</td>\n",
              "      <td>105.50</td>\n",
              "      <td>119.0</td>\n",
              "    </tr>\n",
              "    <tr>\n",
              "      <th>1.0</th>\n",
              "      <td>20344.0</td>\n",
              "      <td>127.673810</td>\n",
              "      <td>107.047827</td>\n",
              "      <td>10.0</td>\n",
              "      <td>75.00</td>\n",
              "      <td>100.0</td>\n",
              "      <td>155.00</td>\n",
              "      <td>4000.0</td>\n",
              "    </tr>\n",
              "    <tr>\n",
              "      <th>2.0</th>\n",
              "      <td>6610.0</td>\n",
              "      <td>199.061271</td>\n",
              "      <td>225.706318</td>\n",
              "      <td>25.0</td>\n",
              "      <td>115.00</td>\n",
              "      <td>160.0</td>\n",
              "      <td>225.00</td>\n",
              "      <td>10000.0</td>\n",
              "    </tr>\n",
              "    <tr>\n",
              "      <th>3.0</th>\n",
              "      <td>2071.0</td>\n",
              "      <td>268.118300</td>\n",
              "      <td>303.106942</td>\n",
              "      <td>26.0</td>\n",
              "      <td>140.00</td>\n",
              "      <td>200.0</td>\n",
              "      <td>300.00</td>\n",
              "      <td>5000.0</td>\n",
              "    </tr>\n",
              "    <tr>\n",
              "      <th>4.0</th>\n",
              "      <td>783.0</td>\n",
              "      <td>315.332056</td>\n",
              "      <td>353.184402</td>\n",
              "      <td>27.0</td>\n",
              "      <td>150.00</td>\n",
              "      <td>247.0</td>\n",
              "      <td>375.00</td>\n",
              "      <td>6500.0</td>\n",
              "    </tr>\n",
              "    <tr>\n",
              "      <th>5.0</th>\n",
              "      <td>284.0</td>\n",
              "      <td>411.500000</td>\n",
              "      <td>672.610659</td>\n",
              "      <td>35.0</td>\n",
              "      <td>189.75</td>\n",
              "      <td>290.0</td>\n",
              "      <td>450.00</td>\n",
              "      <td>8000.0</td>\n",
              "    </tr>\n",
              "    <tr>\n",
              "      <th>6.0</th>\n",
              "      <td>177.0</td>\n",
              "      <td>401.768362</td>\n",
              "      <td>417.018431</td>\n",
              "      <td>35.0</td>\n",
              "      <td>199.00</td>\n",
              "      <td>275.0</td>\n",
              "      <td>425.00</td>\n",
              "      <td>2750.0</td>\n",
              "    </tr>\n",
              "    <tr>\n",
              "      <th>7.0</th>\n",
              "      <td>45.0</td>\n",
              "      <td>341.377778</td>\n",
              "      <td>220.116631</td>\n",
              "      <td>55.0</td>\n",
              "      <td>177.00</td>\n",
              "      <td>300.0</td>\n",
              "      <td>445.00</td>\n",
              "      <td>900.0</td>\n",
              "    </tr>\n",
              "    <tr>\n",
              "      <th>8.0</th>\n",
              "      <td>24.0</td>\n",
              "      <td>589.041667</td>\n",
              "      <td>793.054934</td>\n",
              "      <td>55.0</td>\n",
              "      <td>243.75</td>\n",
              "      <td>350.0</td>\n",
              "      <td>481.25</td>\n",
              "      <td>4000.0</td>\n",
              "    </tr>\n",
              "    <tr>\n",
              "      <th>9.0</th>\n",
              "      <td>15.0</td>\n",
              "      <td>618.000000</td>\n",
              "      <td>233.649616</td>\n",
              "      <td>175.0</td>\n",
              "      <td>447.50</td>\n",
              "      <td>650.0</td>\n",
              "      <td>762.50</td>\n",
              "      <td>1050.0</td>\n",
              "    </tr>\n",
              "    <tr>\n",
              "      <th>10.0</th>\n",
              "      <td>16.0</td>\n",
              "      <td>480.187500</td>\n",
              "      <td>296.820534</td>\n",
              "      <td>95.0</td>\n",
              "      <td>291.00</td>\n",
              "      <td>407.5</td>\n",
              "      <td>706.25</td>\n",
              "      <td>1050.0</td>\n",
              "    </tr>\n",
              "    <tr>\n",
              "      <th>11.0</th>\n",
              "      <td>5.0</td>\n",
              "      <td>535.800000</td>\n",
              "      <td>499.217588</td>\n",
              "      <td>100.0</td>\n",
              "      <td>220.00</td>\n",
              "      <td>359.0</td>\n",
              "      <td>650.00</td>\n",
              "      <td>1350.0</td>\n",
              "    </tr>\n",
              "    <tr>\n",
              "      <th>12.0</th>\n",
              "      <td>4.0</td>\n",
              "      <td>1418.750000</td>\n",
              "      <td>2388.285211</td>\n",
              "      <td>150.0</td>\n",
              "      <td>206.25</td>\n",
              "      <td>262.5</td>\n",
              "      <td>1475.00</td>\n",
              "      <td>5000.0</td>\n",
              "    </tr>\n",
              "    <tr>\n",
              "      <th>16.0</th>\n",
              "      <td>13.0</td>\n",
              "      <td>736.000000</td>\n",
              "      <td>496.804287</td>\n",
              "      <td>104.0</td>\n",
              "      <td>350.00</td>\n",
              "      <td>625.0</td>\n",
              "      <td>1000.00</td>\n",
              "      <td>1500.0</td>\n",
              "    </tr>\n",
              "  </tbody>\n",
              "</table>\n",
              "</div>\n",
              "    <div class=\"colab-df-buttons\">\n",
              "\n",
              "  <div class=\"colab-df-container\">\n",
              "    <button class=\"colab-df-convert\" onclick=\"convertToInteractive('df-5b8a5eb0-6d19-45a3-accc-56616a95b456')\"\n",
              "            title=\"Convert this dataframe to an interactive table.\"\n",
              "            style=\"display:none;\">\n",
              "\n",
              "  <svg xmlns=\"http://www.w3.org/2000/svg\" height=\"24px\" viewBox=\"0 -960 960 960\">\n",
              "    <path d=\"M120-120v-720h720v720H120Zm60-500h600v-160H180v160Zm220 220h160v-160H400v160Zm0 220h160v-160H400v160ZM180-400h160v-160H180v160Zm440 0h160v-160H620v160ZM180-180h160v-160H180v160Zm440 0h160v-160H620v160Z\"/>\n",
              "  </svg>\n",
              "    </button>\n",
              "\n",
              "  <style>\n",
              "    .colab-df-container {\n",
              "      display:flex;\n",
              "      gap: 12px;\n",
              "    }\n",
              "\n",
              "    .colab-df-convert {\n",
              "      background-color: #E8F0FE;\n",
              "      border: none;\n",
              "      border-radius: 50%;\n",
              "      cursor: pointer;\n",
              "      display: none;\n",
              "      fill: #1967D2;\n",
              "      height: 32px;\n",
              "      padding: 0 0 0 0;\n",
              "      width: 32px;\n",
              "    }\n",
              "\n",
              "    .colab-df-convert:hover {\n",
              "      background-color: #E2EBFA;\n",
              "      box-shadow: 0px 1px 2px rgba(60, 64, 67, 0.3), 0px 1px 3px 1px rgba(60, 64, 67, 0.15);\n",
              "      fill: #174EA6;\n",
              "    }\n",
              "\n",
              "    .colab-df-buttons div {\n",
              "      margin-bottom: 4px;\n",
              "    }\n",
              "\n",
              "    [theme=dark] .colab-df-convert {\n",
              "      background-color: #3B4455;\n",
              "      fill: #D2E3FC;\n",
              "    }\n",
              "\n",
              "    [theme=dark] .colab-df-convert:hover {\n",
              "      background-color: #434B5C;\n",
              "      box-shadow: 0px 1px 3px 1px rgba(0, 0, 0, 0.15);\n",
              "      filter: drop-shadow(0px 1px 2px rgba(0, 0, 0, 0.3));\n",
              "      fill: #FFFFFF;\n",
              "    }\n",
              "  </style>\n",
              "\n",
              "    <script>\n",
              "      const buttonEl =\n",
              "        document.querySelector('#df-5b8a5eb0-6d19-45a3-accc-56616a95b456 button.colab-df-convert');\n",
              "      buttonEl.style.display =\n",
              "        google.colab.kernel.accessAllowed ? 'block' : 'none';\n",
              "\n",
              "      async function convertToInteractive(key) {\n",
              "        const element = document.querySelector('#df-5b8a5eb0-6d19-45a3-accc-56616a95b456');\n",
              "        const dataTable =\n",
              "          await google.colab.kernel.invokeFunction('convertToInteractive',\n",
              "                                                    [key], {});\n",
              "        if (!dataTable) return;\n",
              "\n",
              "        const docLinkHtml = 'Like what you see? Visit the ' +\n",
              "          '<a target=\"_blank\" href=https://colab.research.google.com/notebooks/data_table.ipynb>data table notebook</a>'\n",
              "          + ' to learn more about interactive tables.';\n",
              "        element.innerHTML = '';\n",
              "        dataTable['output_type'] = 'display_data';\n",
              "        await google.colab.output.renderOutput(dataTable, element);\n",
              "        const docLink = document.createElement('div');\n",
              "        docLink.innerHTML = docLinkHtml;\n",
              "        element.appendChild(docLink);\n",
              "      }\n",
              "    </script>\n",
              "  </div>\n",
              "\n",
              "\n",
              "<div id=\"df-47fc9d80-f176-4ebf-9740-f25251b854ed\">\n",
              "  <button class=\"colab-df-quickchart\" onclick=\"quickchart('df-47fc9d80-f176-4ebf-9740-f25251b854ed')\"\n",
              "            title=\"Suggest charts.\"\n",
              "            style=\"display:none;\">\n",
              "\n",
              "<svg xmlns=\"http://www.w3.org/2000/svg\" height=\"24px\"viewBox=\"0 0 24 24\"\n",
              "     width=\"24px\">\n",
              "    <g>\n",
              "        <path d=\"M19 3H5c-1.1 0-2 .9-2 2v14c0 1.1.9 2 2 2h14c1.1 0 2-.9 2-2V5c0-1.1-.9-2-2-2zM9 17H7v-7h2v7zm4 0h-2V7h2v10zm4 0h-2v-4h2v4z\"/>\n",
              "    </g>\n",
              "</svg>\n",
              "  </button>\n",
              "\n",
              "<style>\n",
              "  .colab-df-quickchart {\n",
              "      --bg-color: #E8F0FE;\n",
              "      --fill-color: #1967D2;\n",
              "      --hover-bg-color: #E2EBFA;\n",
              "      --hover-fill-color: #174EA6;\n",
              "      --disabled-fill-color: #AAA;\n",
              "      --disabled-bg-color: #DDD;\n",
              "  }\n",
              "\n",
              "  [theme=dark] .colab-df-quickchart {\n",
              "      --bg-color: #3B4455;\n",
              "      --fill-color: #D2E3FC;\n",
              "      --hover-bg-color: #434B5C;\n",
              "      --hover-fill-color: #FFFFFF;\n",
              "      --disabled-bg-color: #3B4455;\n",
              "      --disabled-fill-color: #666;\n",
              "  }\n",
              "\n",
              "  .colab-df-quickchart {\n",
              "    background-color: var(--bg-color);\n",
              "    border: none;\n",
              "    border-radius: 50%;\n",
              "    cursor: pointer;\n",
              "    display: none;\n",
              "    fill: var(--fill-color);\n",
              "    height: 32px;\n",
              "    padding: 0;\n",
              "    width: 32px;\n",
              "  }\n",
              "\n",
              "  .colab-df-quickchart:hover {\n",
              "    background-color: var(--hover-bg-color);\n",
              "    box-shadow: 0 1px 2px rgba(60, 64, 67, 0.3), 0 1px 3px 1px rgba(60, 64, 67, 0.15);\n",
              "    fill: var(--button-hover-fill-color);\n",
              "  }\n",
              "\n",
              "  .colab-df-quickchart-complete:disabled,\n",
              "  .colab-df-quickchart-complete:disabled:hover {\n",
              "    background-color: var(--disabled-bg-color);\n",
              "    fill: var(--disabled-fill-color);\n",
              "    box-shadow: none;\n",
              "  }\n",
              "\n",
              "  .colab-df-spinner {\n",
              "    border: 2px solid var(--fill-color);\n",
              "    border-color: transparent;\n",
              "    border-bottom-color: var(--fill-color);\n",
              "    animation:\n",
              "      spin 1s steps(1) infinite;\n",
              "  }\n",
              "\n",
              "  @keyframes spin {\n",
              "    0% {\n",
              "      border-color: transparent;\n",
              "      border-bottom-color: var(--fill-color);\n",
              "      border-left-color: var(--fill-color);\n",
              "    }\n",
              "    20% {\n",
              "      border-color: transparent;\n",
              "      border-left-color: var(--fill-color);\n",
              "      border-top-color: var(--fill-color);\n",
              "    }\n",
              "    30% {\n",
              "      border-color: transparent;\n",
              "      border-left-color: var(--fill-color);\n",
              "      border-top-color: var(--fill-color);\n",
              "      border-right-color: var(--fill-color);\n",
              "    }\n",
              "    40% {\n",
              "      border-color: transparent;\n",
              "      border-right-color: var(--fill-color);\n",
              "      border-top-color: var(--fill-color);\n",
              "    }\n",
              "    60% {\n",
              "      border-color: transparent;\n",
              "      border-right-color: var(--fill-color);\n",
              "    }\n",
              "    80% {\n",
              "      border-color: transparent;\n",
              "      border-right-color: var(--fill-color);\n",
              "      border-bottom-color: var(--fill-color);\n",
              "    }\n",
              "    90% {\n",
              "      border-color: transparent;\n",
              "      border-bottom-color: var(--fill-color);\n",
              "    }\n",
              "  }\n",
              "</style>\n",
              "\n",
              "  <script>\n",
              "    async function quickchart(key) {\n",
              "      const quickchartButtonEl =\n",
              "        document.querySelector('#' + key + ' button');\n",
              "      quickchartButtonEl.disabled = true;  // To prevent multiple clicks.\n",
              "      quickchartButtonEl.classList.add('colab-df-spinner');\n",
              "      try {\n",
              "        const charts = await google.colab.kernel.invokeFunction(\n",
              "            'suggestCharts', [key], {});\n",
              "      } catch (error) {\n",
              "        console.error('Error during call to suggestCharts:', error);\n",
              "      }\n",
              "      quickchartButtonEl.classList.remove('colab-df-spinner');\n",
              "      quickchartButtonEl.classList.add('colab-df-quickchart-complete');\n",
              "    }\n",
              "    (() => {\n",
              "      let quickchartButtonEl =\n",
              "        document.querySelector('#df-47fc9d80-f176-4ebf-9740-f25251b854ed button');\n",
              "      quickchartButtonEl.style.display =\n",
              "        google.colab.kernel.accessAllowed ? 'block' : 'none';\n",
              "    })();\n",
              "  </script>\n",
              "</div>\n",
              "    </div>\n",
              "  </div>\n"
            ]
          },
          "metadata": {},
          "execution_count": 136
        }
      ]
    },
    {
      "cell_type": "code",
      "source": [
        "# looking at the mean price for each number of beds, I can see a positive correlation\n",
        "# between mean price and number of beds, though it's not exact (9 beds has a much higher average price than 10 beds, for example)\n",
        "# the standard deviations jump all over the place, but it does seem that there is a very small positive correlation\n",
        "# with number of beds. So, listings with more beds tend to have more varying prices."
      ],
      "metadata": {
        "id": "_T1qo1iz4ZnP"
      },
      "id": "_T1qo1iz4ZnP",
      "execution_count": 137,
      "outputs": []
    },
    {
      "cell_type": "markdown",
      "source": [
        "6. Make a scatterplot of `price_log` and `Beds`, but color the graph by `Room Type` and `Property Type`. What patterns do you see? Compute a description of `Price` conditional on `Room Type` and `Property Type`. Which Room Type and Property Type have the highest prices on average? Which have the highest standard deviation? Does the mean or median appear to be a more reliable estimate of central tendency, and explain why?"
      ],
      "metadata": {
        "id": "q0ZN8S9gsaUx"
      },
      "id": "q0ZN8S9gsaUx"
    },
    {
      "cell_type": "code",
      "source": [
        "import seaborn as sns"
      ],
      "metadata": {
        "id": "blTZ_92m6H7M"
      },
      "id": "blTZ_92m6H7M",
      "execution_count": 139,
      "outputs": []
    },
    {
      "cell_type": "code",
      "source": [
        "sns.scatterplot(data=airbnb, x='price_log', y='Beds', hue='Room Type')"
      ],
      "metadata": {
        "colab": {
          "base_uri": "https://localhost:8080/",
          "height": 468
        },
        "id": "zVEtxf2W5O7p",
        "outputId": "e6e1de57-005b-41ec-e88f-594d06960aa0"
      },
      "id": "zVEtxf2W5O7p",
      "execution_count": 143,
      "outputs": [
        {
          "output_type": "execute_result",
          "data": {
            "text/plain": [
              "<Axes: xlabel='price_log', ylabel='Beds'>"
            ]
          },
          "metadata": {},
          "execution_count": 143
        },
        {
          "output_type": "display_data",
          "data": {
            "text/plain": [
              "<Figure size 640x480 with 1 Axes>"
            ],
            "image/png": "[encoded data removed]"
          },
          "metadata": {}
        }
      ]
    },
    {
      "cell_type": "code",
      "source": [
        "scatplot = sns.scatterplot(data=airbnb, x='price_log', y='Beds', hue='Property Type')\n",
        "sns.move_legend(scatplot, \"upper left\", bbox_to_anchor=(1, 1)) # inspired by https://stackoverflow.com/questions/30490740/move-legend-outside-figure-in-seaborn-tsplot"
      ],
      "metadata": {
        "colab": {
          "base_uri": "https://localhost:8080/",
          "height": 467
        },
        "id": "gbwNsjUu6V2W",
        "outputId": "227c88e1-9e9f-470a-d49c-33a20a44a0b7"
      },
      "id": "gbwNsjUu6V2W",
      "execution_count": 145,
      "outputs": [
        {
          "output_type": "display_data",
          "data": {
            "text/plain": [
              "<Figure size 640x480 with 1 Axes>"
            ],
            "image/png": "[encoded data removed]"
          },
          "metadata": {}
        }
      ]
    },
    {
      "cell_type": "code",
      "source": [
        "# the main patterns I see are that most properties are apartments (followed by houses),\n",
        "# as well as that renting an entire home is more expensive than a private room, which in turn\n",
        "# is more expensive than renting a shared room"
      ],
      "metadata": {
        "id": "F2G6EsA-66PF"
      },
      "id": "F2G6EsA-66PF",
      "execution_count": null,
      "outputs": []
    },
    {
      "cell_type": "code",
      "source": [
        "# describe Price by grouping by both Property Type and Room Type together\n",
        "# this is a bit hard to read, so I'll answer the next questions by looking at one at a time\n",
        "airbnb.loc[:,['Price', 'Property Type', 'Room Type']].groupby(['Property Type', 'Room Type']).describe()"
      ],
      "metadata": {
        "colab": {
          "base_uri": "https://localhost:8080/",
          "height": 1000
        },
        "id": "dVk5h3EG7lck",
        "outputId": "828957aa-29af-453e-9f5d-3e40a557dc52"
      },
      "id": "dVk5h3EG7lck",
      "execution_count": 154,
      "outputs": [
        {
          "output_type": "execute_result",
          "data": {
            "text/plain": [
              "                                   Price                                  \\\n",
              "                                   count        mean          std    min   \n",
              "Property Type   Room Type                                                  \n",
              "Apartment       Entire home/apt  15669.0  213.224839   218.097834   10.0   \n",
              "                Private room     10748.0   92.713900    65.237050   10.0   \n",
              "                Shared room        685.0   79.200000    67.720849   20.0   \n",
              "Bed & Breakfast Entire home/apt     13.0  184.538462   119.814172   85.0   \n",
              "                Private room       155.0   97.161290    47.031971   32.0   \n",
              "                Shared room         12.0  143.666667   245.328104   30.0   \n",
              "Boat            Entire home/apt      7.0  158.428571    51.110524  100.0   \n",
              "                Private room         1.0  120.000000          NaN  120.0   \n",
              "Bungalow        Entire home/apt      4.0  150.750000    46.464144   87.0   \n",
              "Cabin           Entire home/apt      1.0  250.000000          NaN  250.0   \n",
              "                Private room         1.0   80.000000          NaN   80.0   \n",
              "Camper/RV       Entire home/apt      6.0  114.333333   107.685963   45.0   \n",
              "                Private room         1.0   39.000000          NaN   39.0   \n",
              "Castle          Private room         1.0  150.000000          NaN  150.0   \n",
              "Chalet          Private room         1.0   99.000000          NaN   99.0   \n",
              "Condominium     Entire home/apt     72.0  304.861111   266.197497   80.0   \n",
              "                Private room        22.0   98.590909    40.576394   46.0   \n",
              "Dorm            Entire home/apt      4.0   44.250000    24.060687   30.0   \n",
              "                Private room        16.0   86.562500    40.738137   50.0   \n",
              "                Shared room         11.0   73.181818    46.328864   30.0   \n",
              "House           Entire home/apt    752.0  297.263298   468.409428   27.0   \n",
              "                Private room      1258.0   77.750397    49.402650   25.0   \n",
              "                Shared room         80.0   77.487500   275.409936   10.0   \n",
              "Hut             Private room         2.0   75.000000    35.355339   50.0   \n",
              "Lighthouse      Entire home/apt      1.0   39.000000          NaN   39.0   \n",
              "Loft            Entire home/apt    392.0  330.510204   321.519721   55.0   \n",
              "                Private room       312.0  108.057692   128.817912   39.0   \n",
              "                Shared room         49.0   78.816327    87.521824   30.0   \n",
              "Other           Entire home/apt     14.0  843.428571  1133.062271   66.0   \n",
              "                Private room        29.0  211.931034   235.404505   39.0   \n",
              "                Shared room          4.0  148.750000   134.806961   70.0   \n",
              "Tent            Private room         4.0  126.250000    94.989034   40.0   \n",
              "Townhouse       Entire home/apt     83.0  280.783133   314.605252   66.0   \n",
              "                Private room        52.0   83.365385    30.578109   45.0   \n",
              "                Shared room          1.0   95.000000          NaN   95.0   \n",
              "Treehouse       Private room         1.0   95.000000          NaN   95.0   \n",
              "                Shared room          3.0  167.666667   114.788211   95.0   \n",
              "Villa           Entire home/apt      4.0  529.750000   650.963581  120.0   \n",
              "                Private room         4.0  126.250000    71.107313   60.0   \n",
              "\n",
              "                                                                  \n",
              "                                    25%    50%      75%      max  \n",
              "Property Type   Room Type                                         \n",
              "Apartment       Entire home/apt  135.00  175.0   235.00  10000.0  \n",
              "                Private room      65.00   82.0   102.00   3000.0  \n",
              "                Shared room       49.00   66.0    90.00   1000.0  \n",
              "Bed & Breakfast Entire home/apt  121.00  130.0   220.00    525.0  \n",
              "                Private room      65.00   85.0   117.00    260.0  \n",
              "                Shared room       42.50   65.0    81.00    900.0  \n",
              "Boat            Entire home/apt  122.50  150.0   182.00    250.0  \n",
              "                Private room     120.00  120.0   120.00    120.0  \n",
              "Bungalow        Entire home/apt  133.50  160.5   177.75    195.0  \n",
              "Cabin           Entire home/apt  250.00  250.0   250.00    250.0  \n",
              "                Private room      80.00   80.0    80.00     80.0  \n",
              "Camper/RV       Entire home/apt   49.00   74.0   114.00    325.0  \n",
              "                Private room      39.00   39.0    39.00     39.0  \n",
              "Castle          Private room     150.00  150.0   150.00    150.0  \n",
              "Chalet          Private room      99.00   99.0    99.00     99.0  \n",
              "Condominium     Entire home/apt  155.00  200.0   375.00   1990.0  \n",
              "                Private room      62.00   90.0   129.75    200.0  \n",
              "Dorm            Entire home/apt   30.00   33.5    47.75     80.0  \n",
              "                Private room      60.00   70.0    92.50    200.0  \n",
              "                Shared room       50.00   55.0    80.00    200.0  \n",
              "House           Entire home/apt  126.50  195.0   300.00   8000.0  \n",
              "                Private room      55.00   69.0    88.75    997.0  \n",
              "                Shared room       35.00   45.0    45.00   2500.0  \n",
              "Hut             Private room      62.50   75.0    87.50    100.0  \n",
              "Lighthouse      Entire home/apt   39.00   39.0    39.00     39.0  \n",
              "Loft            Entire home/apt  160.00  225.0   379.00   3000.0  \n",
              "                Private room      65.00   85.0   115.00   1500.0  \n",
              "                Shared room       43.00   50.0    78.00    525.0  \n",
              "Other           Entire home/apt  140.00  300.0  1112.50   4000.0  \n",
              "                Private room      80.00  119.0   275.00   1200.0  \n",
              "                Shared room       73.75   87.5   162.50    350.0  \n",
              "Tent            Private room      58.75  107.5   175.00    250.0  \n",
              "Townhouse       Entire home/apt  135.00  190.0   300.00   2500.0  \n",
              "                Private room      55.00   80.0    99.00    150.0  \n",
              "                Shared room       95.00   95.0    95.00     95.0  \n",
              "Treehouse       Private room      95.00   95.0    95.00     95.0  \n",
              "                Shared room      101.50  108.0   204.00    300.0  \n",
              "Villa           Entire home/apt  180.00  249.5   599.25   1500.0  \n",
              "                Private room      67.50  125.0   183.75    195.0  "
            ],
            "text/html": [
              "\n",
              "  <div id=\"df-8150fea8-9612-41fb-80d7-8c6042b8d62c\" class=\"colab-df-container\">\n",
              "    <div>\n",
              "<style scoped>\n",
              "    .dataframe tbody tr th:only-of-type {\n",
              "        vertical-align: middle;\n",
              "    }\n",
              "\n",
              "    .dataframe tbody tr th {\n",
              "        vertical-align: top;\n",
              "    }\n",
              "\n",
              "    .dataframe thead tr th {\n",
              "        text-align: left;\n",
              "    }\n",
              "\n",
              "    .dataframe thead tr:last-of-type th {\n",
              "        text-align: right;\n",
              "    }\n",
              "</style>\n",
              "<table border=\"1\" class=\"dataframe\">\n",
              "  <thead>\n",
              "    <tr>\n",
              "      <th></th>\n",
              "      <th></th>\n",
              "      <th colspan=\"8\" halign=\"left\">Price</th>\n",
              "    </tr>\n",
              "    <tr>\n",
              "      <th></th>\n",
              "      <th></th>\n",
              "      <th>count</th>\n",
              "      <th>mean</th>\n",
              "      <th>std</th>\n",
              "      <th>min</th>\n",
              "      <th>25%</th>\n",
              "      <th>50%</th>\n",
              "      <th>75%</th>\n",
              "      <th>max</th>\n",
              "    </tr>\n",
              "    <tr>\n",
              "      <th>Property Type</th>\n",
              "      <th>Room Type</th>\n",
              "      <th></th>\n",
              "      <th></th>\n",
              "      <th></th>\n",
              "      <th></th>\n",
              "      <th></th>\n",
              "      <th></th>\n",
              "      <th></th>\n",
              "      <th></th>\n",
              "    </tr>\n",
              "  </thead>\n",
              "  <tbody>\n",
              "    <tr>\n",
              "      <th rowspan=\"3\" valign=\"top\">Apartment</th>\n",
              "      <th>Entire home/apt</th>\n",
              "      <td>15669.0</td>\n",
              "      <td>213.224839</td>\n",
              "      <td>218.097834</td>\n",
              "      <td>10.0</td>\n",
              "      <td>135.00</td>\n",
              "      <td>175.0</td>\n",
              "      <td>235.00</td>\n",
              "      <td>10000.0</td>\n",
              "    </tr>\n",
              "    <tr>\n",
              "      <th>Private room</th>\n",
              "      <td>10748.0</td>\n",
              "      <td>92.713900</td>\n",
              "      <td>65.237050</td>\n",
              "      <td>10.0</td>\n",
              "      <td>65.00</td>\n",
              "      <td>82.0</td>\n",
              "      <td>102.00</td>\n",
              "      <td>3000.0</td>\n",
              "    </tr>\n",
              "    <tr>\n",
              "      <th>Shared room</th>\n",
              "      <td>685.0</td>\n",
              "      <td>79.200000</td>\n",
              "      <td>67.720849</td>\n",
              "      <td>20.0</td>\n",
              "      <td>49.00</td>\n",
              "      <td>66.0</td>\n",
              "      <td>90.00</td>\n",
              "      <td>1000.0</td>\n",
              "    </tr>\n",
              "    <tr>\n",
              "      <th rowspan=\"3\" valign=\"top\">Bed &amp; Breakfast</th>\n",
              "      <th>Entire home/apt</th>\n",
              "      <td>13.0</td>\n",
              "      <td>184.538462</td>\n",
              "      <td>119.814172</td>\n",
              "      <td>85.0</td>\n",
              "      <td>121.00</td>\n",
              "      <td>130.0</td>\n",
              "      <td>220.00</td>\n",
              "      <td>525.0</td>\n",
              "    </tr>\n",
              "    <tr>\n",
              "      <th>Private room</th>\n",
              "      <td>155.0</td>\n",
              "      <td>97.161290</td>\n",
              "      <td>47.031971</td>\n",
              "      <td>32.0</td>\n",
              "      <td>65.00</td>\n",
              "      <td>85.0</td>\n",
              "      <td>117.00</td>\n",
              "      <td>260.0</td>\n",
              "    </tr>\n",
              "    <tr>\n",
              "      <th>Shared room</th>\n",
              "      <td>12.0</td>\n",
              "      <td>143.666667</td>\n",
              "      <td>245.328104</td>\n",
              "      <td>30.0</td>\n",
              "      <td>42.50</td>\n",
              "      <td>65.0</td>\n",
              "      <td>81.00</td>\n",
              "      <td>900.0</td>\n",
              "    </tr>\n",
              "    <tr>\n",
              "      <th rowspan=\"2\" valign=\"top\">Boat</th>\n",
              "      <th>Entire home/apt</th>\n",
              "      <td>7.0</td>\n",
              "      <td>158.428571</td>\n",
              "      <td>51.110524</td>\n",
              "      <td>100.0</td>\n",
              "      <td>122.50</td>\n",
              "      <td>150.0</td>\n",
              "      <td>182.00</td>\n",
              "      <td>250.0</td>\n",
              "    </tr>\n",
              "    <tr>\n",
              "      <th>Private room</th>\n",
              "      <td>1.0</td>\n",
              "      <td>120.000000</td>\n",
              "      <td>NaN</td>\n",
              "      <td>120.0</td>\n",
              "      <td>120.00</td>\n",
              "      <td>120.0</td>\n",
              "      <td>120.00</td>\n",
              "      <td>120.0</td>\n",
              "    </tr>\n",
              "    <tr>\n",
              "      <th>Bungalow</th>\n",
              "      <th>Entire home/apt</th>\n",
              "      <td>4.0</td>\n",
              "      <td>150.750000</td>\n",
              "      <td>46.464144</td>\n",
              "      <td>87.0</td>\n",
              "      <td>133.50</td>\n",
              "      <td>160.5</td>\n",
              "      <td>177.75</td>\n",
              "      <td>195.0</td>\n",
              "    </tr>\n",
              "    <tr>\n",
              "      <th rowspan=\"2\" valign=\"top\">Cabin</th>\n",
              "      <th>Entire home/apt</th>\n",
              "      <td>1.0</td>\n",
              "      <td>250.000000</td>\n",
              "      <td>NaN</td>\n",
              "      <td>250.0</td>\n",
              "      <td>250.00</td>\n",
              "      <td>250.0</td>\n",
              "      <td>250.00</td>\n",
              "      <td>250.0</td>\n",
              "    </tr>\n",
              "    <tr>\n",
              "      <th>Private room</th>\n",
              "      <td>1.0</td>\n",
              "      <td>80.000000</td>\n",
              "      <td>NaN</td>\n",
              "      <td>80.0</td>\n",
              "      <td>80.00</td>\n",
              "      <td>80.0</td>\n",
              "      <td>80.00</td>\n",
              "      <td>80.0</td>\n",
              "    </tr>\n",
              "    <tr>\n",
              "      <th rowspan=\"2\" valign=\"top\">Camper/RV</th>\n",
              "      <th>Entire home/apt</th>\n",
              "      <td>6.0</td>\n",
              "      <td>114.333333</td>\n",
              "      <td>107.685963</td>\n",
              "      <td>45.0</td>\n",
              "      <td>49.00</td>\n",
              "      <td>74.0</td>\n",
              "      <td>114.00</td>\n",
              "      <td>325.0</td>\n",
              "    </tr>\n",
              "    <tr>\n",
              "      <th>Private room</th>\n",
              "      <td>1.0</td>\n",
              "      <td>39.000000</td>\n",
              "      <td>NaN</td>\n",
              "      <td>39.0</td>\n",
              "      <td>39.00</td>\n",
              "      <td>39.0</td>\n",
              "      <td>39.00</td>\n",
              "      <td>39.0</td>\n",
              "    </tr>\n",
              "    <tr>\n",
              "      <th>Castle</th>\n",
              "      <th>Private room</th>\n",
              "      <td>1.0</td>\n",
              "      <td>150.000000</td>\n",
              "      <td>NaN</td>\n",
              "      <td>150.0</td>\n",
              "      <td>150.00</td>\n",
              "      <td>150.0</td>\n",
              "      <td>150.00</td>\n",
              "      <td>150.0</td>\n",
              "    </tr>\n",
              "    <tr>\n",
              "      <th>Chalet</th>\n",
              "      <th>Private room</th>\n",
              "      <td>1.0</td>\n",
              "      <td>99.000000</td>\n",
              "      <td>NaN</td>\n",
              "      <td>99.0</td>\n",
              "      <td>99.00</td>\n",
              "      <td>99.0</td>\n",
              "      <td>99.00</td>\n",
              "      <td>99.0</td>\n",
              "    </tr>\n",
              "    <tr>\n",
              "      <th rowspan=\"2\" valign=\"top\">Condominium</th>\n",
              "      <th>Entire home/apt</th>\n",
              "      <td>72.0</td>\n",
              "      <td>304.861111</td>\n",
              "      <td>266.197497</td>\n",
              "      <td>80.0</td>\n",
              "      <td>155.00</td>\n",
              "      <td>200.0</td>\n",
              "      <td>375.00</td>\n",
              "      <td>1990.0</td>\n",
              "    </tr>\n",
              "    <tr>\n",
              "      <th>Private room</th>\n",
              "      <td>22.0</td>\n",
              "      <td>98.590909</td>\n",
              "      <td>40.576394</td>\n",
              "      <td>46.0</td>\n",
              "      <td>62.00</td>\n",
              "      <td>90.0</td>\n",
              "      <td>129.75</td>\n",
              "      <td>200.0</td>\n",
              "    </tr>\n",
              "    <tr>\n",
              "      <th rowspan=\"3\" valign=\"top\">Dorm</th>\n",
              "      <th>Entire home/apt</th>\n",
              "      <td>4.0</td>\n",
              "      <td>44.250000</td>\n",
              "      <td>24.060687</td>\n",
              "      <td>30.0</td>\n",
              "      <td>30.00</td>\n",
              "      <td>33.5</td>\n",
              "      <td>47.75</td>\n",
              "      <td>80.0</td>\n",
              "    </tr>\n",
              "    <tr>\n",
              "      <th>Private room</th>\n",
              "      <td>16.0</td>\n",
              "      <td>86.562500</td>\n",
              "      <td>40.738137</td>\n",
              "      <td>50.0</td>\n",
              "      <td>60.00</td>\n",
              "      <td>70.0</td>\n",
              "      <td>92.50</td>\n",
              "      <td>200.0</td>\n",
              "    </tr>\n",
              "    <tr>\n",
              "      <th>Shared room</th>\n",
              "      <td>11.0</td>\n",
              "      <td>73.181818</td>\n",
              "      <td>46.328864</td>\n",
              "      <td>30.0</td>\n",
              "      <td>50.00</td>\n",
              "      <td>55.0</td>\n",
              "      <td>80.00</td>\n",
              "      <td>200.0</td>\n",
              "    </tr>\n",
              "    <tr>\n",
              "      <th rowspan=\"3\" valign=\"top\">House</th>\n",
              "      <th>Entire home/apt</th>\n",
              "      <td>752.0</td>\n",
              "      <td>297.263298</td>\n",
              "      <td>468.409428</td>\n",
              "      <td>27.0</td>\n",
              "      <td>126.50</td>\n",
              "      <td>195.0</td>\n",
              "      <td>300.00</td>\n",
              "      <td>8000.0</td>\n",
              "    </tr>\n",
              "    <tr>\n",
              "      <th>Private room</th>\n",
              "      <td>1258.0</td>\n",
              "      <td>77.750397</td>\n",
              "      <td>49.402650</td>\n",
              "      <td>25.0</td>\n",
              "      <td>55.00</td>\n",
              "      <td>69.0</td>\n",
              "      <td>88.75</td>\n",
              "      <td>997.0</td>\n",
              "    </tr>\n",
              "    <tr>\n",
              "      <th>Shared room</th>\n",
              "      <td>80.0</td>\n",
              "      <td>77.487500</td>\n",
              "      <td>275.409936</td>\n",
              "      <td>10.0</td>\n",
              "      <td>35.00</td>\n",
              "      <td>45.0</td>\n",
              "      <td>45.00</td>\n",
              "      <td>2500.0</td>\n",
              "    </tr>\n",
              "    <tr>\n",
              "      <th>Hut</th>\n",
              "      <th>Private room</th>\n",
              "      <td>2.0</td>\n",
              "      <td>75.000000</td>\n",
              "      <td>35.355339</td>\n",
              "      <td>50.0</td>\n",
              "      <td>62.50</td>\n",
              "      <td>75.0</td>\n",
              "      <td>87.50</td>\n",
              "      <td>100.0</td>\n",
              "    </tr>\n",
              "    <tr>\n",
              "      <th>Lighthouse</th>\n",
              "      <th>Entire home/apt</th>\n",
              "      <td>1.0</td>\n",
              "      <td>39.000000</td>\n",
              "      <td>NaN</td>\n",
              "      <td>39.0</td>\n",
              "      <td>39.00</td>\n",
              "      <td>39.0</td>\n",
              "      <td>39.00</td>\n",
              "      <td>39.0</td>\n",
              "    </tr>\n",
              "    <tr>\n",
              "      <th rowspan=\"3\" valign=\"top\">Loft</th>\n",
              "      <th>Entire home/apt</th>\n",
              "      <td>392.0</td>\n",
              "      <td>330.510204</td>\n",
              "      <td>321.519721</td>\n",
              "      <td>55.0</td>\n",
              "      <td>160.00</td>\n",
              "      <td>225.0</td>\n",
              "      <td>379.00</td>\n",
              "      <td>3000.0</td>\n",
              "    </tr>\n",
              "    <tr>\n",
              "      <th>Private room</th>\n",
              "      <td>312.0</td>\n",
              "      <td>108.057692</td>\n",
              "      <td>128.817912</td>\n",
              "      <td>39.0</td>\n",
              "      <td>65.00</td>\n",
              "      <td>85.0</td>\n",
              "      <td>115.00</td>\n",
              "      <td>1500.0</td>\n",
              "    </tr>\n",
              "    <tr>\n",
              "      <th>Shared room</th>\n",
              "      <td>49.0</td>\n",
              "      <td>78.816327</td>\n",
              "      <td>87.521824</td>\n",
              "      <td>30.0</td>\n",
              "      <td>43.00</td>\n",
              "      <td>50.0</td>\n",
              "      <td>78.00</td>\n",
              "      <td>525.0</td>\n",
              "    </tr>\n",
              "    <tr>\n",
              "      <th rowspan=\"3\" valign=\"top\">Other</th>\n",
              "      <th>Entire home/apt</th>\n",
              "      <td>14.0</td>\n",
              "      <td>843.428571</td>\n",
              "      <td>1133.062271</td>\n",
              "      <td>66.0</td>\n",
              "      <td>140.00</td>\n",
              "      <td>300.0</td>\n",
              "      <td>1112.50</td>\n",
              "      <td>4000.0</td>\n",
              "    </tr>\n",
              "    <tr>\n",
              "      <th>Private room</th>\n",
              "      <td>29.0</td>\n",
              "      <td>211.931034</td>\n",
              "      <td>235.404505</td>\n",
              "      <td>39.0</td>\n",
              "      <td>80.00</td>\n",
              "      <td>119.0</td>\n",
              "      <td>275.00</td>\n",
              "      <td>1200.0</td>\n",
              "    </tr>\n",
              "    <tr>\n",
              "      <th>Shared room</th>\n",
              "      <td>4.0</td>\n",
              "      <td>148.750000</td>\n",
              "      <td>134.806961</td>\n",
              "      <td>70.0</td>\n",
              "      <td>73.75</td>\n",
              "      <td>87.5</td>\n",
              "      <td>162.50</td>\n",
              "      <td>350.0</td>\n",
              "    </tr>\n",
              "    <tr>\n",
              "      <th>Tent</th>\n",
              "      <th>Private room</th>\n",
              "      <td>4.0</td>\n",
              "      <td>126.250000</td>\n",
              "      <td>94.989034</td>\n",
              "      <td>40.0</td>\n",
              "      <td>58.75</td>\n",
              "      <td>107.5</td>\n",
              "      <td>175.00</td>\n",
              "      <td>250.0</td>\n",
              "    </tr>\n",
              "    <tr>\n",
              "      <th rowspan=\"3\" valign=\"top\">Townhouse</th>\n",
              "      <th>Entire home/apt</th>\n",
              "      <td>83.0</td>\n",
              "      <td>280.783133</td>\n",
              "      <td>314.605252</td>\n",
              "      <td>66.0</td>\n",
              "      <td>135.00</td>\n",
              "      <td>190.0</td>\n",
              "      <td>300.00</td>\n",
              "      <td>2500.0</td>\n",
              "    </tr>\n",
              "    <tr>\n",
              "      <th>Private room</th>\n",
              "      <td>52.0</td>\n",
              "      <td>83.365385</td>\n",
              "      <td>30.578109</td>\n",
              "      <td>45.0</td>\n",
              "      <td>55.00</td>\n",
              "      <td>80.0</td>\n",
              "      <td>99.00</td>\n",
              "      <td>150.0</td>\n",
              "    </tr>\n",
              "    <tr>\n",
              "      <th>Shared room</th>\n",
              "      <td>1.0</td>\n",
              "      <td>95.000000</td>\n",
              "      <td>NaN</td>\n",
              "      <td>95.0</td>\n",
              "      <td>95.00</td>\n",
              "      <td>95.0</td>\n",
              "      <td>95.00</td>\n",
              "      <td>95.0</td>\n",
              "    </tr>\n",
              "    <tr>\n",
              "      <th rowspan=\"2\" valign=\"top\">Treehouse</th>\n",
              "      <th>Private room</th>\n",
              "      <td>1.0</td>\n",
              "      <td>95.000000</td>\n",
              "      <td>NaN</td>\n",
              "      <td>95.0</td>\n",
              "      <td>95.00</td>\n",
              "      <td>95.0</td>\n",
              "      <td>95.00</td>\n",
              "      <td>95.0</td>\n",
              "    </tr>\n",
              "    <tr>\n",
              "      <th>Shared room</th>\n",
              "      <td>3.0</td>\n",
              "      <td>167.666667</td>\n",
              "      <td>114.788211</td>\n",
              "      <td>95.0</td>\n",
              "      <td>101.50</td>\n",
              "      <td>108.0</td>\n",
              "      <td>204.00</td>\n",
              "      <td>300.0</td>\n",
              "    </tr>\n",
              "    <tr>\n",
              "      <th rowspan=\"2\" valign=\"top\">Villa</th>\n",
              "      <th>Entire home/apt</th>\n",
              "      <td>4.0</td>\n",
              "      <td>529.750000</td>\n",
              "      <td>650.963581</td>\n",
              "      <td>120.0</td>\n",
              "      <td>180.00</td>\n",
              "      <td>249.5</td>\n",
              "      <td>599.25</td>\n",
              "      <td>1500.0</td>\n",
              "    </tr>\n",
              "    <tr>\n",
              "      <th>Private room</th>\n",
              "      <td>4.0</td>\n",
              "      <td>126.250000</td>\n",
              "      <td>71.107313</td>\n",
              "      <td>60.0</td>\n",
              "      <td>67.50</td>\n",
              "      <td>125.0</td>\n",
              "      <td>183.75</td>\n",
              "      <td>195.0</td>\n",
              "    </tr>\n",
              "  </tbody>\n",
              "</table>\n",
              "</div>\n",
              "    <div class=\"colab-df-buttons\">\n",
              "\n",
              "  <div class=\"colab-df-container\">\n",
              "    <button class=\"colab-df-convert\" onclick=\"convertToInteractive('df-8150fea8-9612-41fb-80d7-8c6042b8d62c')\"\n",
              "            title=\"Convert this dataframe to an interactive table.\"\n",
              "            style=\"display:none;\">\n",
              "\n",
              "  <svg xmlns=\"http://www.w3.org/2000/svg\" height=\"24px\" viewBox=\"0 -960 960 960\">\n",
              "    <path d=\"M120-120v-720h720v720H120Zm60-500h600v-160H180v160Zm220 220h160v-160H400v160Zm0 220h160v-160H400v160ZM180-400h160v-160H180v160Zm440 0h160v-160H620v160ZM180-180h160v-160H180v160Zm440 0h160v-160H620v160Z\"/>\n",
              "  </svg>\n",
              "    </button>\n",
              "\n",
              "  <style>\n",
              "    .colab-df-container {\n",
              "      display:flex;\n",
              "      gap: 12px;\n",
              "    }\n",
              "\n",
              "    .colab-df-convert {\n",
              "      background-color: #E8F0FE;\n",
              "      border: none;\n",
              "      border-radius: 50%;\n",
              "      cursor: pointer;\n",
              "      display: none;\n",
              "      fill: #1967D2;\n",
              "      height: 32px;\n",
              "      padding: 0 0 0 0;\n",
              "      width: 32px;\n",
              "    }\n",
              "\n",
              "    .colab-df-convert:hover {\n",
              "      background-color: #E2EBFA;\n",
              "      box-shadow: 0px 1px 2px rgba(60, 64, 67, 0.3), 0px 1px 3px 1px rgba(60, 64, 67, 0.15);\n",
              "      fill: #174EA6;\n",
              "    }\n",
              "\n",
              "    .colab-df-buttons div {\n",
              "      margin-bottom: 4px;\n",
              "    }\n",
              "\n",
              "    [theme=dark] .colab-df-convert {\n",
              "      background-color: #3B4455;\n",
              "      fill: #D2E3FC;\n",
              "    }\n",
              "\n",
              "    [theme=dark] .colab-df-convert:hover {\n",
              "      background-color: #434B5C;\n",
              "      box-shadow: 0px 1px 3px 1px rgba(0, 0, 0, 0.15);\n",
              "      filter: drop-shadow(0px 1px 2px rgba(0, 0, 0, 0.3));\n",
              "      fill: #FFFFFF;\n",
              "    }\n",
              "  </style>\n",
              "\n",
              "    <script>\n",
              "      const buttonEl =\n",
              "        document.querySelector('#df-8150fea8-9612-41fb-80d7-8c6042b8d62c button.colab-df-convert');\n",
              "      buttonEl.style.display =\n",
              "        google.colab.kernel.accessAllowed ? 'block' : 'none';\n",
              "\n",
              "      async function convertToInteractive(key) {\n",
              "        const element = document.querySelector('#df-8150fea8-9612-41fb-80d7-8c6042b8d62c');\n",
              "        const dataTable =\n",
              "          await google.colab.kernel.invokeFunction('convertToInteractive',\n",
              "                                                    [key], {});\n",
              "        if (!dataTable) return;\n",
              "\n",
              "        const docLinkHtml = 'Like what you see? Visit the ' +\n",
              "          '<a target=\"_blank\" href=https://colab.research.google.com/notebooks/data_table.ipynb>data table notebook</a>'\n",
              "          + ' to learn more about interactive tables.';\n",
              "        element.innerHTML = '';\n",
              "        dataTable['output_type'] = 'display_data';\n",
              "        await google.colab.output.renderOutput(dataTable, element);\n",
              "        const docLink = document.createElement('div');\n",
              "        docLink.innerHTML = docLinkHtml;\n",
              "        element.appendChild(docLink);\n",
              "      }\n",
              "    </script>\n",
              "  </div>\n",
              "\n",
              "\n",
              "<div id=\"df-a1dee0db-71dc-4055-a763-e9729541d387\">\n",
              "  <button class=\"colab-df-quickchart\" onclick=\"quickchart('df-a1dee0db-71dc-4055-a763-e9729541d387')\"\n",
              "            title=\"Suggest charts.\"\n",
              "            style=\"display:none;\">\n",
              "\n",
              "<svg xmlns=\"http://www.w3.org/2000/svg\" height=\"24px\"viewBox=\"0 0 24 24\"\n",
              "     width=\"24px\">\n",
              "    <g>\n",
              "        <path d=\"M19 3H5c-1.1 0-2 .9-2 2v14c0 1.1.9 2 2 2h14c1.1 0 2-.9 2-2V5c0-1.1-.9-2-2-2zM9 17H7v-7h2v7zm4 0h-2V7h2v10zm4 0h-2v-4h2v4z\"/>\n",
              "    </g>\n",
              "</svg>\n",
              "  </button>\n",
              "\n",
              "<style>\n",
              "  .colab-df-quickchart {\n",
              "      --bg-color: #E8F0FE;\n",
              "      --fill-color: #1967D2;\n",
              "      --hover-bg-color: #E2EBFA;\n",
              "      --hover-fill-color: #174EA6;\n",
              "      --disabled-fill-color: #AAA;\n",
              "      --disabled-bg-color: #DDD;\n",
              "  }\n",
              "\n",
              "  [theme=dark] .colab-df-quickchart {\n",
              "      --bg-color: #3B4455;\n",
              "      --fill-color: #D2E3FC;\n",
              "      --hover-bg-color: #434B5C;\n",
              "      --hover-fill-color: #FFFFFF;\n",
              "      --disabled-bg-color: #3B4455;\n",
              "      --disabled-fill-color: #666;\n",
              "  }\n",
              "\n",
              "  .colab-df-quickchart {\n",
              "    background-color: var(--bg-color);\n",
              "    border: none;\n",
              "    border-radius: 50%;\n",
              "    cursor: pointer;\n",
              "    display: none;\n",
              "    fill: var(--fill-color);\n",
              "    height: 32px;\n",
              "    padding: 0;\n",
              "    width: 32px;\n",
              "  }\n",
              "\n",
              "  .colab-df-quickchart:hover {\n",
              "    background-color: var(--hover-bg-color);\n",
              "    box-shadow: 0 1px 2px rgba(60, 64, 67, 0.3), 0 1px 3px 1px rgba(60, 64, 67, 0.15);\n",
              "    fill: var(--button-hover-fill-color);\n",
              "  }\n",
              "\n",
              "  .colab-df-quickchart-complete:disabled,\n",
              "  .colab-df-quickchart-complete:disabled:hover {\n",
              "    background-color: var(--disabled-bg-color);\n",
              "    fill: var(--disabled-fill-color);\n",
              "    box-shadow: none;\n",
              "  }\n",
              "\n",
              "  .colab-df-spinner {\n",
              "    border: 2px solid var(--fill-color);\n",
              "    border-color: transparent;\n",
              "    border-bottom-color: var(--fill-color);\n",
              "    animation:\n",
              "      spin 1s steps(1) infinite;\n",
              "  }\n",
              "\n",
              "  @keyframes spin {\n",
              "    0% {\n",
              "      border-color: transparent;\n",
              "      border-bottom-color: var(--fill-color);\n",
              "      border-left-color: var(--fill-color);\n",
              "    }\n",
              "    20% {\n",
              "      border-color: transparent;\n",
              "      border-left-color: var(--fill-color);\n",
              "      border-top-color: var(--fill-color);\n",
              "    }\n",
              "    30% {\n",
              "      border-color: transparent;\n",
              "      border-left-color: var(--fill-color);\n",
              "      border-top-color: var(--fill-color);\n",
              "      border-right-color: var(--fill-color);\n",
              "    }\n",
              "    40% {\n",
              "      border-color: transparent;\n",
              "      border-right-color: var(--fill-color);\n",
              "      border-top-color: var(--fill-color);\n",
              "    }\n",
              "    60% {\n",
              "      border-color: transparent;\n",
              "      border-right-color: var(--fill-color);\n",
              "    }\n",
              "    80% {\n",
              "      border-color: transparent;\n",
              "      border-right-color: var(--fill-color);\n",
              "      border-bottom-color: var(--fill-color);\n",
              "    }\n",
              "    90% {\n",
              "      border-color: transparent;\n",
              "      border-bottom-color: var(--fill-color);\n",
              "    }\n",
              "  }\n",
              "</style>\n",
              "\n",
              "  <script>\n",
              "    async function quickchart(key) {\n",
              "      const quickchartButtonEl =\n",
              "        document.querySelector('#' + key + ' button');\n",
              "      quickchartButtonEl.disabled = true;  // To prevent multiple clicks.\n",
              "      quickchartButtonEl.classList.add('colab-df-spinner');\n",
              "      try {\n",
              "        const charts = await google.colab.kernel.invokeFunction(\n",
              "            'suggestCharts', [key], {});\n",
              "      } catch (error) {\n",
              "        console.error('Error during call to suggestCharts:', error);\n",
              "      }\n",
              "      quickchartButtonEl.classList.remove('colab-df-spinner');\n",
              "      quickchartButtonEl.classList.add('colab-df-quickchart-complete');\n",
              "    }\n",
              "    (() => {\n",
              "      let quickchartButtonEl =\n",
              "        document.querySelector('#df-a1dee0db-71dc-4055-a763-e9729541d387 button');\n",
              "      quickchartButtonEl.style.display =\n",
              "        google.colab.kernel.accessAllowed ? 'block' : 'none';\n",
              "    })();\n",
              "  </script>\n",
              "</div>\n",
              "    </div>\n",
              "  </div>\n"
            ]
          },
          "metadata": {},
          "execution_count": 154
        }
      ]
    },
    {
      "cell_type": "code",
      "source": [
        "airbnb.loc[:,['Price','Property Type']].groupby('Property Type').describe()"
      ],
      "metadata": {
        "colab": {
          "base_uri": "https://localhost:8080/",
          "height": 707
        },
        "id": "ab9WebZ78vZM",
        "outputId": "48c90494-8901-4cbe-c479-28e58fba4392"
      },
      "id": "ab9WebZ78vZM",
      "execution_count": 155,
      "outputs": [
        {
          "output_type": "execute_result",
          "data": {
            "text/plain": [
              "                   Price                                                \\\n",
              "                   count        mean         std    min     25%    50%   \n",
              "Property Type                                                            \n",
              "Apartment        27102.0  162.045642  181.376882   10.0   85.00  130.0   \n",
              "Bed & Breakfast    180.0  106.572222   84.701977   30.0   65.00   87.5   \n",
              "Boat                 8.0  153.625000   49.231051  100.0  120.00  137.5   \n",
              "Bungalow             4.0  150.750000   46.464144   87.0  133.50  160.5   \n",
              "Cabin                2.0  165.000000  120.208153   80.0  122.50  165.0   \n",
              "Camper/RV            7.0  103.571429  102.343958   39.0   47.00   49.0   \n",
              "Castle               1.0  150.000000         NaN  150.0  150.00  150.0   \n",
              "Chalet               1.0   99.000000         NaN   99.0   99.00   99.0   \n",
              "Condominium         94.0  256.585106  249.357946   46.0  131.25  175.0   \n",
              "Dorm                31.0   76.354839   42.424481   30.0   52.50   65.0   \n",
              "House             2090.0  156.722967  307.116948   10.0   60.00   85.0   \n",
              "Hut                  2.0   75.000000   35.355339   50.0   62.50   75.0   \n",
              "Lighthouse           1.0   39.000000         NaN   39.0   39.00   39.0   \n",
              "Loft               753.0  221.960159  271.958145   30.0   80.00  140.0   \n",
              "Other               47.0  394.659574  696.663423   39.0   82.50  135.0   \n",
              "Tent                 4.0  126.250000   94.989034   40.0   58.75  107.5   \n",
              "Townhouse          136.0  203.933824  264.178901   45.0   89.50  135.0   \n",
              "Treehouse            4.0  149.500000  100.520313   95.0   95.00  101.5   \n",
              "Villa                8.0  328.000000  479.888975   60.0  107.50  187.5   \n",
              "\n",
              "                                  \n",
              "                    75%      max  \n",
              "Property Type                     \n",
              "Apartment        195.00  10000.0  \n",
              "Bed & Breakfast  125.00    900.0  \n",
              "Boat             178.50    250.0  \n",
              "Bungalow         177.75    195.0  \n",
              "Cabin            207.50    250.0  \n",
              "Camper/RV        109.00    325.0  \n",
              "Castle           150.00    150.0  \n",
              "Chalet            99.00     99.0  \n",
              "Condominium      298.75   1990.0  \n",
              "Dorm              80.00    200.0  \n",
              "House            150.00   8000.0  \n",
              "Hut               87.50    100.0  \n",
              "Lighthouse        39.00     39.0  \n",
              "Loft             240.00   3000.0  \n",
              "Other            378.00   4000.0  \n",
              "Tent             175.00    250.0  \n",
              "Townhouse        206.25   2500.0  \n",
              "Treehouse        156.00    300.0  \n",
              "Villa            224.75   1500.0  "
            ],
            "text/html": [
              "\n",
              "  <div id=\"df-0e7c1985-9b67-41a6-b68a-c643cacf984a\" class=\"colab-df-container\">\n",
              "    <div>\n",
              "<style scoped>\n",
              "    .dataframe tbody tr th:only-of-type {\n",
              "        vertical-align: middle;\n",
              "    }\n",
              "\n",
              "    .dataframe tbody tr th {\n",
              "        vertical-align: top;\n",
              "    }\n",
              "\n",
              "    .dataframe thead tr th {\n",
              "        text-align: left;\n",
              "    }\n",
              "\n",
              "    .dataframe thead tr:last-of-type th {\n",
              "        text-align: right;\n",
              "    }\n",
              "</style>\n",
              "<table border=\"1\" class=\"dataframe\">\n",
              "  <thead>\n",
              "    <tr>\n",
              "      <th></th>\n",
              "      <th colspan=\"8\" halign=\"left\">Price</th>\n",
              "    </tr>\n",
              "    <tr>\n",
              "      <th></th>\n",
              "      <th>count</th>\n",
              "      <th>mean</th>\n",
              "      <th>std</th>\n",
              "      <th>min</th>\n",
              "      <th>25%</th>\n",
              "      <th>50%</th>\n",
              "      <th>75%</th>\n",
              "      <th>max</th>\n",
              "    </tr>\n",
              "    <tr>\n",
              "      <th>Property Type</th>\n",
              "      <th></th>\n",
              "      <th></th>\n",
              "      <th></th>\n",
              "      <th></th>\n",
              "      <th></th>\n",
              "      <th></th>\n",
              "      <th></th>\n",
              "      <th></th>\n",
              "    </tr>\n",
              "  </thead>\n",
              "  <tbody>\n",
              "    <tr>\n",
              "      <th>Apartment</th>\n",
              "      <td>27102.0</td>\n",
              "      <td>162.045642</td>\n",
              "      <td>181.376882</td>\n",
              "      <td>10.0</td>\n",
              "      <td>85.00</td>\n",
              "      <td>130.0</td>\n",
              "      <td>195.00</td>\n",
              "      <td>10000.0</td>\n",
              "    </tr>\n",
              "    <tr>\n",
              "      <th>Bed &amp; Breakfast</th>\n",
              "      <td>180.0</td>\n",
              "      <td>106.572222</td>\n",
              "      <td>84.701977</td>\n",
              "      <td>30.0</td>\n",
              "      <td>65.00</td>\n",
              "      <td>87.5</td>\n",
              "      <td>125.00</td>\n",
              "      <td>900.0</td>\n",
              "    </tr>\n",
              "    <tr>\n",
              "      <th>Boat</th>\n",
              "      <td>8.0</td>\n",
              "      <td>153.625000</td>\n",
              "      <td>49.231051</td>\n",
              "      <td>100.0</td>\n",
              "      <td>120.00</td>\n",
              "      <td>137.5</td>\n",
              "      <td>178.50</td>\n",
              "      <td>250.0</td>\n",
              "    </tr>\n",
              "    <tr>\n",
              "      <th>Bungalow</th>\n",
              "      <td>4.0</td>\n",
              "      <td>150.750000</td>\n",
              "      <td>46.464144</td>\n",
              "      <td>87.0</td>\n",
              "      <td>133.50</td>\n",
              "      <td>160.5</td>\n",
              "      <td>177.75</td>\n",
              "      <td>195.0</td>\n",
              "    </tr>\n",
              "    <tr>\n",
              "      <th>Cabin</th>\n",
              "      <td>2.0</td>\n",
              "      <td>165.000000</td>\n",
              "      <td>120.208153</td>\n",
              "      <td>80.0</td>\n",
              "      <td>122.50</td>\n",
              "      <td>165.0</td>\n",
              "      <td>207.50</td>\n",
              "      <td>250.0</td>\n",
              "    </tr>\n",
              "    <tr>\n",
              "      <th>Camper/RV</th>\n",
              "      <td>7.0</td>\n",
              "      <td>103.571429</td>\n",
              "      <td>102.343958</td>\n",
              "      <td>39.0</td>\n",
              "      <td>47.00</td>\n",
              "      <td>49.0</td>\n",
              "      <td>109.00</td>\n",
              "      <td>325.0</td>\n",
              "    </tr>\n",
              "    <tr>\n",
              "      <th>Castle</th>\n",
              "      <td>1.0</td>\n",
              "      <td>150.000000</td>\n",
              "      <td>NaN</td>\n",
              "      <td>150.0</td>\n",
              "      <td>150.00</td>\n",
              "      <td>150.0</td>\n",
              "      <td>150.00</td>\n",
              "      <td>150.0</td>\n",
              "    </tr>\n",
              "    <tr>\n",
              "      <th>Chalet</th>\n",
              "      <td>1.0</td>\n",
              "      <td>99.000000</td>\n",
              "      <td>NaN</td>\n",
              "      <td>99.0</td>\n",
              "      <td>99.00</td>\n",
              "      <td>99.0</td>\n",
              "      <td>99.00</td>\n",
              "      <td>99.0</td>\n",
              "    </tr>\n",
              "    <tr>\n",
              "      <th>Condominium</th>\n",
              "      <td>94.0</td>\n",
              "      <td>256.585106</td>\n",
              "      <td>249.357946</td>\n",
              "      <td>46.0</td>\n",
              "      <td>131.25</td>\n",
              "      <td>175.0</td>\n",
              "      <td>298.75</td>\n",
              "      <td>1990.0</td>\n",
              "    </tr>\n",
              "    <tr>\n",
              "      <th>Dorm</th>\n",
              "      <td>31.0</td>\n",
              "      <td>76.354839</td>\n",
              "      <td>42.424481</td>\n",
              "      <td>30.0</td>\n",
              "      <td>52.50</td>\n",
              "      <td>65.0</td>\n",
              "      <td>80.00</td>\n",
              "      <td>200.0</td>\n",
              "    </tr>\n",
              "    <tr>\n",
              "      <th>House</th>\n",
              "      <td>2090.0</td>\n",
              "      <td>156.722967</td>\n",
              "      <td>307.116948</td>\n",
              "      <td>10.0</td>\n",
              "      <td>60.00</td>\n",
              "      <td>85.0</td>\n",
              "      <td>150.00</td>\n",
              "      <td>8000.0</td>\n",
              "    </tr>\n",
              "    <tr>\n",
              "      <th>Hut</th>\n",
              "      <td>2.0</td>\n",
              "      <td>75.000000</td>\n",
              "      <td>35.355339</td>\n",
              "      <td>50.0</td>\n",
              "      <td>62.50</td>\n",
              "      <td>75.0</td>\n",
              "      <td>87.50</td>\n",
              "      <td>100.0</td>\n",
              "    </tr>\n",
              "    <tr>\n",
              "      <th>Lighthouse</th>\n",
              "      <td>1.0</td>\n",
              "      <td>39.000000</td>\n",
              "      <td>NaN</td>\n",
              "      <td>39.0</td>\n",
              "      <td>39.00</td>\n",
              "      <td>39.0</td>\n",
              "      <td>39.00</td>\n",
              "      <td>39.0</td>\n",
              "    </tr>\n",
              "    <tr>\n",
              "      <th>Loft</th>\n",
              "      <td>753.0</td>\n",
              "      <td>221.960159</td>\n",
              "      <td>271.958145</td>\n",
              "      <td>30.0</td>\n",
              "      <td>80.00</td>\n",
              "      <td>140.0</td>\n",
              "      <td>240.00</td>\n",
              "      <td>3000.0</td>\n",
              "    </tr>\n",
              "    <tr>\n",
              "      <th>Other</th>\n",
              "      <td>47.0</td>\n",
              "      <td>394.659574</td>\n",
              "      <td>696.663423</td>\n",
              "      <td>39.0</td>\n",
              "      <td>82.50</td>\n",
              "      <td>135.0</td>\n",
              "      <td>378.00</td>\n",
              "      <td>4000.0</td>\n",
              "    </tr>\n",
              "    <tr>\n",
              "      <th>Tent</th>\n",
              "      <td>4.0</td>\n",
              "      <td>126.250000</td>\n",
              "      <td>94.989034</td>\n",
              "      <td>40.0</td>\n",
              "      <td>58.75</td>\n",
              "      <td>107.5</td>\n",
              "      <td>175.00</td>\n",
              "      <td>250.0</td>\n",
              "    </tr>\n",
              "    <tr>\n",
              "      <th>Townhouse</th>\n",
              "      <td>136.0</td>\n",
              "      <td>203.933824</td>\n",
              "      <td>264.178901</td>\n",
              "      <td>45.0</td>\n",
              "      <td>89.50</td>\n",
              "      <td>135.0</td>\n",
              "      <td>206.25</td>\n",
              "      <td>2500.0</td>\n",
              "    </tr>\n",
              "    <tr>\n",
              "      <th>Treehouse</th>\n",
              "      <td>4.0</td>\n",
              "      <td>149.500000</td>\n",
              "      <td>100.520313</td>\n",
              "      <td>95.0</td>\n",
              "      <td>95.00</td>\n",
              "      <td>101.5</td>\n",
              "      <td>156.00</td>\n",
              "      <td>300.0</td>\n",
              "    </tr>\n",
              "    <tr>\n",
              "      <th>Villa</th>\n",
              "      <td>8.0</td>\n",
              "      <td>328.000000</td>\n",
              "      <td>479.888975</td>\n",
              "      <td>60.0</td>\n",
              "      <td>107.50</td>\n",
              "      <td>187.5</td>\n",
              "      <td>224.75</td>\n",
              "      <td>1500.0</td>\n",
              "    </tr>\n",
              "  </tbody>\n",
              "</table>\n",
              "</div>\n",
              "    <div class=\"colab-df-buttons\">\n",
              "\n",
              "  <div class=\"colab-df-container\">\n",
              "    <button class=\"colab-df-convert\" onclick=\"convertToInteractive('df-0e7c1985-9b67-41a6-b68a-c643cacf984a')\"\n",
              "            title=\"Convert this dataframe to an interactive table.\"\n",
              "            style=\"display:none;\">\n",
              "\n",
              "  <svg xmlns=\"http://www.w3.org/2000/svg\" height=\"24px\" viewBox=\"0 -960 960 960\">\n",
              "    <path d=\"M120-120v-720h720v720H120Zm60-500h600v-160H180v160Zm220 220h160v-160H400v160Zm0 220h160v-160H400v160ZM180-400h160v-160H180v160Zm440 0h160v-160H620v160ZM180-180h160v-160H180v160Zm440 0h160v-160H620v160Z\"/>\n",
              "  </svg>\n",
              "    </button>\n",
              "\n",
              "  <style>\n",
              "    .colab-df-container {\n",
              "      display:flex;\n",
              "      gap: 12px;\n",
              "    }\n",
              "\n",
              "    .colab-df-convert {\n",
              "      background-color: #E8F0FE;\n",
              "      border: none;\n",
              "      border-radius: 50%;\n",
              "      cursor: pointer;\n",
              "      display: none;\n",
              "      fill: #1967D2;\n",
              "      height: 32px;\n",
              "      padding: 0 0 0 0;\n",
              "      width: 32px;\n",
              "    }\n",
              "\n",
              "    .colab-df-convert:hover {\n",
              "      background-color: #E2EBFA;\n",
              "      box-shadow: 0px 1px 2px rgba(60, 64, 67, 0.3), 0px 1px 3px 1px rgba(60, 64, 67, 0.15);\n",
              "      fill: #174EA6;\n",
              "    }\n",
              "\n",
              "    .colab-df-buttons div {\n",
              "      margin-bottom: 4px;\n",
              "    }\n",
              "\n",
              "    [theme=dark] .colab-df-convert {\n",
              "      background-color: #3B4455;\n",
              "      fill: #D2E3FC;\n",
              "    }\n",
              "\n",
              "    [theme=dark] .colab-df-convert:hover {\n",
              "      background-color: #434B5C;\n",
              "      box-shadow: 0px 1px 3px 1px rgba(0, 0, 0, 0.15);\n",
              "      filter: drop-shadow(0px 1px 2px rgba(0, 0, 0, 0.3));\n",
              "      fill: #FFFFFF;\n",
              "    }\n",
              "  </style>\n",
              "\n",
              "    <script>\n",
              "      const buttonEl =\n",
              "        document.querySelector('#df-0e7c1985-9b67-41a6-b68a-c643cacf984a button.colab-df-convert');\n",
              "      buttonEl.style.display =\n",
              "        google.colab.kernel.accessAllowed ? 'block' : 'none';\n",
              "\n",
              "      async function convertToInteractive(key) {\n",
              "        const element = document.querySelector('#df-0e7c1985-9b67-41a6-b68a-c643cacf984a');\n",
              "        const dataTable =\n",
              "          await google.colab.kernel.invokeFunction('convertToInteractive',\n",
              "                                                    [key], {});\n",
              "        if (!dataTable) return;\n",
              "\n",
              "        const docLinkHtml = 'Like what you see? Visit the ' +\n",
              "          '<a target=\"_blank\" href=https://colab.research.google.com/notebooks/data_table.ipynb>data table notebook</a>'\n",
              "          + ' to learn more about interactive tables.';\n",
              "        element.innerHTML = '';\n",
              "        dataTable['output_type'] = 'display_data';\n",
              "        await google.colab.output.renderOutput(dataTable, element);\n",
              "        const docLink = document.createElement('div');\n",
              "        docLink.innerHTML = docLinkHtml;\n",
              "        element.appendChild(docLink);\n",
              "      }\n",
              "    </script>\n",
              "  </div>\n",
              "\n",
              "\n",
              "<div id=\"df-02fd9642-5128-4c76-a915-24e90dd07e81\">\n",
              "  <button class=\"colab-df-quickchart\" onclick=\"quickchart('df-02fd9642-5128-4c76-a915-24e90dd07e81')\"\n",
              "            title=\"Suggest charts.\"\n",
              "            style=\"display:none;\">\n",
              "\n",
              "<svg xmlns=\"http://www.w3.org/2000/svg\" height=\"24px\"viewBox=\"0 0 24 24\"\n",
              "     width=\"24px\">\n",
              "    <g>\n",
              "        <path d=\"M19 3H5c-1.1 0-2 .9-2 2v14c0 1.1.9 2 2 2h14c1.1 0 2-.9 2-2V5c0-1.1-.9-2-2-2zM9 17H7v-7h2v7zm4 0h-2V7h2v10zm4 0h-2v-4h2v4z\"/>\n",
              "    </g>\n",
              "</svg>\n",
              "  </button>\n",
              "\n",
              "<style>\n",
              "  .colab-df-quickchart {\n",
              "      --bg-color: #E8F0FE;\n",
              "      --fill-color: #1967D2;\n",
              "      --hover-bg-color: #E2EBFA;\n",
              "      --hover-fill-color: #174EA6;\n",
              "      --disabled-fill-color: #AAA;\n",
              "      --disabled-bg-color: #DDD;\n",
              "  }\n",
              "\n",
              "  [theme=dark] .colab-df-quickchart {\n",
              "      --bg-color: #3B4455;\n",
              "      --fill-color: #D2E3FC;\n",
              "      --hover-bg-color: #434B5C;\n",
              "      --hover-fill-color: #FFFFFF;\n",
              "      --disabled-bg-color: #3B4455;\n",
              "      --disabled-fill-color: #666;\n",
              "  }\n",
              "\n",
              "  .colab-df-quickchart {\n",
              "    background-color: var(--bg-color);\n",
              "    border: none;\n",
              "    border-radius: 50%;\n",
              "    cursor: pointer;\n",
              "    display: none;\n",
              "    fill: var(--fill-color);\n",
              "    height: 32px;\n",
              "    padding: 0;\n",
              "    width: 32px;\n",
              "  }\n",
              "\n",
              "  .colab-df-quickchart:hover {\n",
              "    background-color: var(--hover-bg-color);\n",
              "    box-shadow: 0 1px 2px rgba(60, 64, 67, 0.3), 0 1px 3px 1px rgba(60, 64, 67, 0.15);\n",
              "    fill: var(--button-hover-fill-color);\n",
              "  }\n",
              "\n",
              "  .colab-df-quickchart-complete:disabled,\n",
              "  .colab-df-quickchart-complete:disabled:hover {\n",
              "    background-color: var(--disabled-bg-color);\n",
              "    fill: var(--disabled-fill-color);\n",
              "    box-shadow: none;\n",
              "  }\n",
              "\n",
              "  .colab-df-spinner {\n",
              "    border: 2px solid var(--fill-color);\n",
              "    border-color: transparent;\n",
              "    border-bottom-color: var(--fill-color);\n",
              "    animation:\n",
              "      spin 1s steps(1) infinite;\n",
              "  }\n",
              "\n",
              "  @keyframes spin {\n",
              "    0% {\n",
              "      border-color: transparent;\n",
              "      border-bottom-color: var(--fill-color);\n",
              "      border-left-color: var(--fill-color);\n",
              "    }\n",
              "    20% {\n",
              "      border-color: transparent;\n",
              "      border-left-color: var(--fill-color);\n",
              "      border-top-color: var(--fill-color);\n",
              "    }\n",
              "    30% {\n",
              "      border-color: transparent;\n",
              "      border-left-color: var(--fill-color);\n",
              "      border-top-color: var(--fill-color);\n",
              "      border-right-color: var(--fill-color);\n",
              "    }\n",
              "    40% {\n",
              "      border-color: transparent;\n",
              "      border-right-color: var(--fill-color);\n",
              "      border-top-color: var(--fill-color);\n",
              "    }\n",
              "    60% {\n",
              "      border-color: transparent;\n",
              "      border-right-color: var(--fill-color);\n",
              "    }\n",
              "    80% {\n",
              "      border-color: transparent;\n",
              "      border-right-color: var(--fill-color);\n",
              "      border-bottom-color: var(--fill-color);\n",
              "    }\n",
              "    90% {\n",
              "      border-color: transparent;\n",
              "      border-bottom-color: var(--fill-color);\n",
              "    }\n",
              "  }\n",
              "</style>\n",
              "\n",
              "  <script>\n",
              "    async function quickchart(key) {\n",
              "      const quickchartButtonEl =\n",
              "        document.querySelector('#' + key + ' button');\n",
              "      quickchartButtonEl.disabled = true;  // To prevent multiple clicks.\n",
              "      quickchartButtonEl.classList.add('colab-df-spinner');\n",
              "      try {\n",
              "        const charts = await google.colab.kernel.invokeFunction(\n",
              "            'suggestCharts', [key], {});\n",
              "      } catch (error) {\n",
              "        console.error('Error during call to suggestCharts:', error);\n",
              "      }\n",
              "      quickchartButtonEl.classList.remove('colab-df-spinner');\n",
              "      quickchartButtonEl.classList.add('colab-df-quickchart-complete');\n",
              "    }\n",
              "    (() => {\n",
              "      let quickchartButtonEl =\n",
              "        document.querySelector('#df-02fd9642-5128-4c76-a915-24e90dd07e81 button');\n",
              "      quickchartButtonEl.style.display =\n",
              "        google.colab.kernel.accessAllowed ? 'block' : 'none';\n",
              "    })();\n",
              "  </script>\n",
              "</div>\n",
              "    </div>\n",
              "  </div>\n"
            ]
          },
          "metadata": {},
          "execution_count": 155
        }
      ]
    },
    {
      "cell_type": "code",
      "source": [
        "airbnb.loc[:,['Price','Room Type']].groupby('Room Type').describe()"
      ],
      "metadata": {
        "colab": {
          "base_uri": "https://localhost:8080/",
          "height": 206
        },
        "id": "civ0vVax9Tgl",
        "outputId": "72cc2aae-6c5b-450c-8b50-ac56bb089b58"
      },
      "id": "civ0vVax9Tgl",
      "execution_count": 156,
      "outputs": [
        {
          "output_type": "execute_result",
          "data": {
            "text/plain": [
              "                   Price                                                     \\\n",
              "                   count        mean         std   min    25%    50%    75%   \n",
              "Room Type                                                                     \n",
              "Entire home/apt  17024.0  220.796346  242.222346  10.0  135.0  175.0  240.0   \n",
              "Private room     12609.0   91.919740   67.119678  10.0   65.0   80.0  100.0   \n",
              "Shared room        845.0   80.514793  110.756196  10.0   45.0   60.0   85.0   \n",
              "\n",
              "                          \n",
              "                     max  \n",
              "Room Type                 \n",
              "Entire home/apt  10000.0  \n",
              "Private room      3000.0  \n",
              "Shared room       2500.0  "
            ],
            "text/html": [
              "\n",
              "  <div id=\"df-163ba1b9-3146-4dbb-b9a9-752fc2175c49\" class=\"colab-df-container\">\n",
              "    <div>\n",
              "<style scoped>\n",
              "    .dataframe tbody tr th:only-of-type {\n",
              "        vertical-align: middle;\n",
              "    }\n",
              "\n",
              "    .dataframe tbody tr th {\n",
              "        vertical-align: top;\n",
              "    }\n",
              "\n",
              "    .dataframe thead tr th {\n",
              "        text-align: left;\n",
              "    }\n",
              "\n",
              "    .dataframe thead tr:last-of-type th {\n",
              "        text-align: right;\n",
              "    }\n",
              "</style>\n",
              "<table border=\"1\" class=\"dataframe\">\n",
              "  <thead>\n",
              "    <tr>\n",
              "      <th></th>\n",
              "      <th colspan=\"8\" halign=\"left\">Price</th>\n",
              "    </tr>\n",
              "    <tr>\n",
              "      <th></th>\n",
              "      <th>count</th>\n",
              "      <th>mean</th>\n",
              "      <th>std</th>\n",
              "      <th>min</th>\n",
              "      <th>25%</th>\n",
              "      <th>50%</th>\n",
              "      <th>75%</th>\n",
              "      <th>max</th>\n",
              "    </tr>\n",
              "    <tr>\n",
              "      <th>Room Type</th>\n",
              "      <th></th>\n",
              "      <th></th>\n",
              "      <th></th>\n",
              "      <th></th>\n",
              "      <th></th>\n",
              "      <th></th>\n",
              "      <th></th>\n",
              "      <th></th>\n",
              "    </tr>\n",
              "  </thead>\n",
              "  <tbody>\n",
              "    <tr>\n",
              "      <th>Entire home/apt</th>\n",
              "      <td>17024.0</td>\n",
              "      <td>220.796346</td>\n",
              "      <td>242.222346</td>\n",
              "      <td>10.0</td>\n",
              "      <td>135.0</td>\n",
              "      <td>175.0</td>\n",
              "      <td>240.0</td>\n",
              "      <td>10000.0</td>\n",
              "    </tr>\n",
              "    <tr>\n",
              "      <th>Private room</th>\n",
              "      <td>12609.0</td>\n",
              "      <td>91.919740</td>\n",
              "      <td>67.119678</td>\n",
              "      <td>10.0</td>\n",
              "      <td>65.0</td>\n",
              "      <td>80.0</td>\n",
              "      <td>100.0</td>\n",
              "      <td>3000.0</td>\n",
              "    </tr>\n",
              "    <tr>\n",
              "      <th>Shared room</th>\n",
              "      <td>845.0</td>\n",
              "      <td>80.514793</td>\n",
              "      <td>110.756196</td>\n",
              "      <td>10.0</td>\n",
              "      <td>45.0</td>\n",
              "      <td>60.0</td>\n",
              "      <td>85.0</td>\n",
              "      <td>2500.0</td>\n",
              "    </tr>\n",
              "  </tbody>\n",
              "</table>\n",
              "</div>\n",
              "    <div class=\"colab-df-buttons\">\n",
              "\n",
              "  <div class=\"colab-df-container\">\n",
              "    <button class=\"colab-df-convert\" onclick=\"convertToInteractive('df-163ba1b9-3146-4dbb-b9a9-752fc2175c49')\"\n",
              "            title=\"Convert this dataframe to an interactive table.\"\n",
              "            style=\"display:none;\">\n",
              "\n",
              "  <svg xmlns=\"http://www.w3.org/2000/svg\" height=\"24px\" viewBox=\"0 -960 960 960\">\n",
              "    <path d=\"M120-120v-720h720v720H120Zm60-500h600v-160H180v160Zm220 220h160v-160H400v160Zm0 220h160v-160H400v160ZM180-400h160v-160H180v160Zm440 0h160v-160H620v160ZM180-180h160v-160H180v160Zm440 0h160v-160H620v160Z\"/>\n",
              "  </svg>\n",
              "    </button>\n",
              "\n",
              "  <style>\n",
              "    .colab-df-container {\n",
              "      display:flex;\n",
              "      gap: 12px;\n",
              "    }\n",
              "\n",
              "    .colab-df-convert {\n",
              "      background-color: #E8F0FE;\n",
              "      border: none;\n",
              "      border-radius: 50%;\n",
              "      cursor: pointer;\n",
              "      display: none;\n",
              "      fill: #1967D2;\n",
              "      height: 32px;\n",
              "      padding: 0 0 0 0;\n",
              "      width: 32px;\n",
              "    }\n",
              "\n",
              "    .colab-df-convert:hover {\n",
              "      background-color: #E2EBFA;\n",
              "      box-shadow: 0px 1px 2px rgba(60, 64, 67, 0.3), 0px 1px 3px 1px rgba(60, 64, 67, 0.15);\n",
              "      fill: #174EA6;\n",
              "    }\n",
              "\n",
              "    .colab-df-buttons div {\n",
              "      margin-bottom: 4px;\n",
              "    }\n",
              "\n",
              "    [theme=dark] .colab-df-convert {\n",
              "      background-color: #3B4455;\n",
              "      fill: #D2E3FC;\n",
              "    }\n",
              "\n",
              "    [theme=dark] .colab-df-convert:hover {\n",
              "      background-color: #434B5C;\n",
              "      box-shadow: 0px 1px 3px 1px rgba(0, 0, 0, 0.15);\n",
              "      filter: drop-shadow(0px 1px 2px rgba(0, 0, 0, 0.3));\n",
              "      fill: #FFFFFF;\n",
              "    }\n",
              "  </style>\n",
              "\n",
              "    <script>\n",
              "      const buttonEl =\n",
              "        document.querySelector('#df-163ba1b9-3146-4dbb-b9a9-752fc2175c49 button.colab-df-convert');\n",
              "      buttonEl.style.display =\n",
              "        google.colab.kernel.accessAllowed ? 'block' : 'none';\n",
              "\n",
              "      async function convertToInteractive(key) {\n",
              "        const element = document.querySelector('#df-163ba1b9-3146-4dbb-b9a9-752fc2175c49');\n",
              "        const dataTable =\n",
              "          await google.colab.kernel.invokeFunction('convertToInteractive',\n",
              "                                                    [key], {});\n",
              "        if (!dataTable) return;\n",
              "\n",
              "        const docLinkHtml = 'Like what you see? Visit the ' +\n",
              "          '<a target=\"_blank\" href=https://colab.research.google.com/notebooks/data_table.ipynb>data table notebook</a>'\n",
              "          + ' to learn more about interactive tables.';\n",
              "        element.innerHTML = '';\n",
              "        dataTable['output_type'] = 'display_data';\n",
              "        await google.colab.output.renderOutput(dataTable, element);\n",
              "        const docLink = document.createElement('div');\n",
              "        docLink.innerHTML = docLinkHtml;\n",
              "        element.appendChild(docLink);\n",
              "      }\n",
              "    </script>\n",
              "  </div>\n",
              "\n",
              "\n",
              "<div id=\"df-1d0a689b-9430-4de6-aa30-8c3592f7f160\">\n",
              "  <button class=\"colab-df-quickchart\" onclick=\"quickchart('df-1d0a689b-9430-4de6-aa30-8c3592f7f160')\"\n",
              "            title=\"Suggest charts.\"\n",
              "            style=\"display:none;\">\n",
              "\n",
              "<svg xmlns=\"http://www.w3.org/2000/svg\" height=\"24px\"viewBox=\"0 0 24 24\"\n",
              "     width=\"24px\">\n",
              "    <g>\n",
              "        <path d=\"M19 3H5c-1.1 0-2 .9-2 2v14c0 1.1.9 2 2 2h14c1.1 0 2-.9 2-2V5c0-1.1-.9-2-2-2zM9 17H7v-7h2v7zm4 0h-2V7h2v10zm4 0h-2v-4h2v4z\"/>\n",
              "    </g>\n",
              "</svg>\n",
              "  </button>\n",
              "\n",
              "<style>\n",
              "  .colab-df-quickchart {\n",
              "      --bg-color: #E8F0FE;\n",
              "      --fill-color: #1967D2;\n",
              "      --hover-bg-color: #E2EBFA;\n",
              "      --hover-fill-color: #174EA6;\n",
              "      --disabled-fill-color: #AAA;\n",
              "      --disabled-bg-color: #DDD;\n",
              "  }\n",
              "\n",
              "  [theme=dark] .colab-df-quickchart {\n",
              "      --bg-color: #3B4455;\n",
              "      --fill-color: #D2E3FC;\n",
              "      --hover-bg-color: #434B5C;\n",
              "      --hover-fill-color: #FFFFFF;\n",
              "      --disabled-bg-color: #3B4455;\n",
              "      --disabled-fill-color: #666;\n",
              "  }\n",
              "\n",
              "  .colab-df-quickchart {\n",
              "    background-color: var(--bg-color);\n",
              "    border: none;\n",
              "    border-radius: 50%;\n",
              "    cursor: pointer;\n",
              "    display: none;\n",
              "    fill: var(--fill-color);\n",
              "    height: 32px;\n",
              "    padding: 0;\n",
              "    width: 32px;\n",
              "  }\n",
              "\n",
              "  .colab-df-quickchart:hover {\n",
              "    background-color: var(--hover-bg-color);\n",
              "    box-shadow: 0 1px 2px rgba(60, 64, 67, 0.3), 0 1px 3px 1px rgba(60, 64, 67, 0.15);\n",
              "    fill: var(--button-hover-fill-color);\n",
              "  }\n",
              "\n",
              "  .colab-df-quickchart-complete:disabled,\n",
              "  .colab-df-quickchart-complete:disabled:hover {\n",
              "    background-color: var(--disabled-bg-color);\n",
              "    fill: var(--disabled-fill-color);\n",
              "    box-shadow: none;\n",
              "  }\n",
              "\n",
              "  .colab-df-spinner {\n",
              "    border: 2px solid var(--fill-color);\n",
              "    border-color: transparent;\n",
              "    border-bottom-color: var(--fill-color);\n",
              "    animation:\n",
              "      spin 1s steps(1) infinite;\n",
              "  }\n",
              "\n",
              "  @keyframes spin {\n",
              "    0% {\n",
              "      border-color: transparent;\n",
              "      border-bottom-color: var(--fill-color);\n",
              "      border-left-color: var(--fill-color);\n",
              "    }\n",
              "    20% {\n",
              "      border-color: transparent;\n",
              "      border-left-color: var(--fill-color);\n",
              "      border-top-color: var(--fill-color);\n",
              "    }\n",
              "    30% {\n",
              "      border-color: transparent;\n",
              "      border-left-color: var(--fill-color);\n",
              "      border-top-color: var(--fill-color);\n",
              "      border-right-color: var(--fill-color);\n",
              "    }\n",
              "    40% {\n",
              "      border-color: transparent;\n",
              "      border-right-color: var(--fill-color);\n",
              "      border-top-color: var(--fill-color);\n",
              "    }\n",
              "    60% {\n",
              "      border-color: transparent;\n",
              "      border-right-color: var(--fill-color);\n",
              "    }\n",
              "    80% {\n",
              "      border-color: transparent;\n",
              "      border-right-color: var(--fill-color);\n",
              "      border-bottom-color: var(--fill-color);\n",
              "    }\n",
              "    90% {\n",
              "      border-color: transparent;\n",
              "      border-bottom-color: var(--fill-color);\n",
              "    }\n",
              "  }\n",
              "</style>\n",
              "\n",
              "  <script>\n",
              "    async function quickchart(key) {\n",
              "      const quickchartButtonEl =\n",
              "        document.querySelector('#' + key + ' button');\n",
              "      quickchartButtonEl.disabled = true;  // To prevent multiple clicks.\n",
              "      quickchartButtonEl.classList.add('colab-df-spinner');\n",
              "      try {\n",
              "        const charts = await google.colab.kernel.invokeFunction(\n",
              "            'suggestCharts', [key], {});\n",
              "      } catch (error) {\n",
              "        console.error('Error during call to suggestCharts:', error);\n",
              "      }\n",
              "      quickchartButtonEl.classList.remove('colab-df-spinner');\n",
              "      quickchartButtonEl.classList.add('colab-df-quickchart-complete');\n",
              "    }\n",
              "    (() => {\n",
              "      let quickchartButtonEl =\n",
              "        document.querySelector('#df-1d0a689b-9430-4de6-aa30-8c3592f7f160 button');\n",
              "      quickchartButtonEl.style.display =\n",
              "        google.colab.kernel.accessAllowed ? 'block' : 'none';\n",
              "    })();\n",
              "  </script>\n",
              "</div>\n",
              "    </div>\n",
              "  </div>\n"
            ]
          },
          "metadata": {},
          "execution_count": 156
        }
      ]
    },
    {
      "cell_type": "code",
      "source": [
        "# The highest priced room type on average is an entire home/apartment, and the\n",
        "# highest priced property type on average is 'Other'\n",
        "\n",
        "# The room and property types with the highest standard deviation are 'Entire home/apt' and 'Other', respectively\n",
        "\n",
        "# The median appears to be a more reliable estimate of central tendency. This is because the standard deviations\n",
        "# for some room and property types are really large, indicating that the data is spread out really widely.\n",
        "# Seeing how the max value for some room/property types (especially those that have the highest average price) is really large,\n",
        "# this could indicate outliers that are skewing the average up. So, it might be better to look at the median value."
      ],
      "metadata": {
        "id": "Q4ygbuho9Y1-"
      },
      "id": "Q4ygbuho9Y1-",
      "execution_count": 157,
      "outputs": []
    },
    {
      "cell_type": "markdown",
      "source": [
        "7. We've looked a bit at this `price_log` and `Beds` scatterplot. Use seaborn to make a `jointplot` with `kind=hex`. Where are the data actually distributed? How does it affect the way you think about the plots in 5 and 6?"
      ],
      "metadata": {
        "id": "svF2Uko1sdfg"
      },
      "id": "svF2Uko1sdfg"
    },
    {
      "cell_type": "code",
      "source": [
        "sns.jointplot(x='price_log',y='Beds', data=airbnb, kind='hex')"
      ],
      "metadata": {
        "colab": {
          "base_uri": "https://localhost:8080/",
          "height": 625
        },
        "id": "wfFVbgde5yam",
        "outputId": "241528bb-64f1-4aa3-8cb3-515c0b020ea8"
      },
      "id": "wfFVbgde5yam",
      "execution_count": 158,
      "outputs": [
        {
          "output_type": "execute_result",
          "data": {
            "text/plain": [
              "<seaborn.axisgrid.JointGrid at 0x7ea8ed53bac0>"
            ]
          },
          "metadata": {},
          "execution_count": 158
        },
        {
          "output_type": "display_data",
          "data": {
            "text/plain": [
              "<Figure size 600x600 with 3 Axes>"
            ],
            "image/png": "[encoded data removed]"
          },
          "metadata": {}
        }
      ]
    },
    {
      "cell_type": "code",
      "source": [
        "# The data are mostly clustered in the 4-6 range for price_log and in the 0-4 bedroom range\n",
        "\n",
        "# This makes it clear that a lot of the scatterplot values in my plots from 5 and 6 were stacked on top of each other\n",
        "# The scatterplots in 5 and 6, then, over-emphasized outlying values."
      ],
      "metadata": {
        "id": "97y_AzZk-0zf"
      },
      "id": "97y_AzZk-0zf",
      "execution_count": 159,
      "outputs": []
    },
    {
      "cell_type": "markdown",
      "id": "649494cd-cfd6-4f80-992a-9994fc19e1d5",
      "metadata": {
        "id": "649494cd-cfd6-4f80-992a-9994fc19e1d5"
      },
      "source": [
        "**Q5.** Many important datasets contain a race variable, typically limited to a handful of values often including Black, White, Asian, Latino, and Indigenous. This question looks at data gathering efforts on this variable by the U.S. Federal government.\n",
        "\n",
        "1. How did the most recent US Census gather data on race?\n",
        "2. Why do we gather these data? What role do these kinds of data play in politics and society? Why does data quality matter?\n",
        "3. Please provide a constructive criticism of how the Census was conducted: What was done well? What do you think was missing? How should future large scale surveys be adjusted to best reflect the diversity of the population? Could some of the Census' good practices be adopted more widely to gather richer and more useful data?\n",
        "4. How did the Census gather data on sex and gender? Please provide a similar constructive criticism of their practices.\n",
        "5. When it comes to cleaning data, what concerns do you have about protected characteristics like sex, gender, sexual identity, or race? What challenges can you imagine arising when there are missing values? What good or bad practices might people adopt, and why?\n",
        "6. Suppose someone invented an algorithm to impute values for protected characteristics like race, gender, sex, or sexuality. What kinds of concerns would you have?"
      ]
    },
    {
      "cell_type": "markdown",
      "id": "2f38f2fd-6381-481d-bba9-017f3d363426",
      "metadata": {
        "id": "2f38f2fd-6381-481d-bba9-017f3d363426"
      },
      "source": [
        "**Q6.** Open the `./data/CBO_data.pdf` file. This contains tax data for 2019, explaining where the money comes from that the U.S. Federal Government Spends in terms of taxation on individuals/families and payroll taxes (the amount that your employer pays in taxes on your wages).\n",
        "\n",
        "For some context, the Federal government ultimately spent about $4.4 trillion in 2019, which was 21% of GDP (the total monetary value of all goods and services produced within the United States). Individual Income Taxes is the amount individuals pay on their wages to the Federal government, Corporate Income Taxes is the taxes individuals pay on capital gains from investment when they sell stock or other financial instruments, Payroll Taxes is the tax your employer pays on your wages, Excises and Customs Duties are taxes on goods or services like sin taxes on cigarettes or alcohol, and Estate and Gift Taxes are taxes paid on transfers of wealth to other people.\n",
        "\n",
        "1. Get the Millions of Families and Billions of Dollars data into a .csv file and load it with Pandas.\n",
        "2. Create a bar plot of individual income taxes by income decile. Explain what the graph shows. Why are some values negative?\n",
        "3. Create a bar plot of Total Federal Taxes by income decile. Which deciles are paying net positive amounts, and which are paying net negative amounts?\n",
        "4. Create a stacked bar plot for which Total Federal Taxes is grouped by Individual Income Taxes, Payroll Taxes, Excises and Customs Duties, and Estate and Gift Taxes. How does the share of taxes paid vary across the adjusted income deciles? (Hint: Are these the kind of data you want to melt?)\n",
        "5. Below the Total line for Millions of Families and Billions of Dollars, there are data for the richest of the richest families. Plot this alongside the bars for the deciles above the Total line. Describe your results.\n",
        "6. Get the Percent Distribution data into a .csv file and load it with Pandas. Create a bar graph of Total Federal Taxes by income decile.\n",
        "7. A tax system is progressive if higher-income and wealthier individuals pay more than lower-income and less wealthy individuals, and it is regressive if the opposite is true. Is the U.S. tax system progressive in terms of amount paid? In terms of the percentage of the overall total?\n",
        "8. Do the rich pay enough in taxes? Defend your answer."
      ]
    }
  ],
  "metadata": {
    "kernelspec": {
      "display_name": "Python 3 (ipykernel)",
      "language": "python",
      "name": "python3"
    },
    "language_info": {
      "codemirror_mode": {
        "name": "ipython",
        "version": 3
      },
      "file_extension": ".py",
      "mimetype": "text/x-python",
      "name": "python",
      "nbconvert_exporter": "python",
      "pygments_lexer": "ipython3",
      "version": "3.10.4"
    },
    "colab": {
      "provenance": []
    }
  },
  "nbformat": 4,
  "nbformat_minor": 5
}