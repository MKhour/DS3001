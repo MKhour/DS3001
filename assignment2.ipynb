{
  "cells": [
    {
      "cell_type": "markdown",
      "id": "13ad028b-72b7-43ed-aa78-96fd4e518040",
      "metadata": {
        "id": "13ad028b-72b7-43ed-aa78-96fd4e518040"
      },
      "source": [
        "# Assignment: Data Wrangling and Exploratory Data Analysis\n",
        "## Do Q1 and Q2, and one other question.\n",
        "`! git clone https://www.github.com/DS3001/assignment2`"
      ]
    },
    {
      "cell_type": "code",
      "source": [
        "! git clone https://www.github.com/DS3001/assignment2"
      ],
      "metadata": {
        "colab": {
          "base_uri": "https://localhost:8080/"
        },
        "id": "Cs7PVmEoFzCE",
        "outputId": "7df6ca0e-8bbb-48a6-aa49-e63ff387f7dd"
      },
      "id": "Cs7PVmEoFzCE",
      "execution_count": 4,
      "outputs": [
        {
          "output_type": "stream",
          "name": "stdout",
          "text": [
            "Cloning into 'assignment2'...\n",
            "warning: redirecting to https://github.com/DS3001/assignment2.git/\n",
            "remote: Enumerating objects: 36, done.\u001b[K\n",
            "remote: Counting objects: 100% (12/12), done.\u001b[K\n",
            "remote: Compressing objects: 100% (7/7), done.\u001b[K\n",
            "remote: Total 36 (delta 8), reused 5 (delta 5), pack-reused 24\u001b[K\n",
            "Receiving objects: 100% (36/36), 5.47 MiB | 19.85 MiB/s, done.\n",
            "Resolving deltas: 100% (9/9), done.\n"
          ]
        }
      ]
    },
    {
      "cell_type": "code",
      "source": [
        "import numpy as np\n",
        "import pandas as pd"
      ],
      "metadata": {
        "id": "RZTzuSZzRM7g"
      },
      "id": "RZTzuSZzRM7g",
      "execution_count": 5,
      "outputs": []
    },
    {
      "cell_type": "markdown",
      "id": "5735a4d4-8be8-433a-a351-70eb8002e632",
      "metadata": {
        "id": "5735a4d4-8be8-433a-a351-70eb8002e632"
      },
      "source": [
        "**Q1.** Open the \"tidy_data.pdf\" document in the repo, which is a paper called Tidy Data by Hadley Wickham.\n",
        "\n",
        "  1. Read the abstract. What is this paper about?\n",
        "  2. Read the introduction. What is the \"tidy data standard\" intended to accomplish?\n",
        "  3. Read the intro to section 2. What does this sentence mean: \"Like families, tidy datasets are all alike but every messy dataset is messy in its own way.\" What does this sentence mean: \"For a given dataset, it’s usually easy to figure out what are observations and what are variables, but it is surprisingly difficult to precisely define variables and observations in general.\"\n",
        "  4. Read Section 2.2. How does Wickham define values, variables, and observations?\n",
        "  5. How is \"Tidy Data\" defined in section 2.3?\n",
        "  6. Read the intro to Section 3 and Section 3.1. What are the 5 most common problems with messy datasets? Why are the data in Table 4 messy? What is \"melting\" a dataset?\n",
        "  7. Why, specifically, is table 11 messy but table 12 tidy and \"molten\"?\n",
        "  8. Read Section 6. What is the \"chicken-and-egg\" problem with focusing on tidy data? What does Wickham hope happens in the future with further work on the subject of data wrangling?"
      ]
    },
    {
      "cell_type": "markdown",
      "id": "da879ea7-8aac-48a3-b6c2-daea56d2e072",
      "metadata": {
        "id": "da879ea7-8aac-48a3-b6c2-daea56d2e072"
      },
      "source": [
        "**Q2.** This question provides some practice cleaning variables which have common problems.\n",
        "1. Numeric variable: For `./data/airbnb_hw.csv`, clean the `Price` variable as well as you can, and explain the choices you make. How many missing values do you end up with? (Hint: What happens to the formatting when a price goes over 999 dollars, say from 675 to 1,112?)\n",
        "2. Categorical variable: For the `./data/sharks.csv` data covered in the lecture, clean the \"Type\" variable as well as you can, and explain the choices you make.\n",
        "3. Dummy variable: For the pretrial data covered in the lecture, clean the `WhetherDefendantWasReleasedPretrial` variable as well as you can, and, in particular, replace missing values with `np.nan`.\n",
        "4. Missing values, not at random: For the pretrial data covered in the lecture, clean the `ImposedSentenceAllChargeInContactEvent` variable as well as you can, and explain the choices you make. (Hint: Look at the `SentenceTypeAllChargesAtConvictionInContactEvent` variable.)"
      ]
    },
    {
      "cell_type": "code",
      "source": [
        "! pwd"
      ],
      "metadata": {
        "colab": {
          "base_uri": "https://localhost:8080/"
        },
        "id": "ZYSbGeh3RgZl",
        "outputId": "82bad1c1-6896-437e-e98a-470c35544df8"
      },
      "id": "ZYSbGeh3RgZl",
      "execution_count": 5,
      "outputs": [
        {
          "output_type": "stream",
          "name": "stdout",
          "text": [
            "/content\n"
          ]
        }
      ]
    },
    {
      "cell_type": "markdown",
      "source": [
        "1."
      ],
      "metadata": {
        "id": "tYh-_xsVRnsB"
      },
      "id": "tYh-_xsVRnsB"
    },
    {
      "cell_type": "code",
      "source": [
        "# first I loaded the data\n",
        "airbnb = pd.read_csv('./assignment2/data/airbnb_hw.csv')"
      ],
      "metadata": {
        "id": "9RCuBhCSRHhn"
      },
      "id": "9RCuBhCSRHhn",
      "execution_count": 24,
      "outputs": []
    },
    {
      "cell_type": "code",
      "source": [
        "# then I examined the price variable -- I saw that it was getting treated as a non-numeric variable\n",
        "print(airbnb['Price'].describe())\n",
        "# I looked at the unique values in 'Price' to see if I could tell what was causing that\n",
        "print(airbnb['Price'].unique())"
      ],
      "metadata": {
        "colab": {
          "base_uri": "https://localhost:8080/"
        },
        "id": "ewvtpIpARr5F",
        "outputId": "4909a2db-28aa-4604-f65a-63c0fd0b7102"
      },
      "id": "ewvtpIpARr5F",
      "execution_count": 25,
      "outputs": [
        {
          "output_type": "stream",
          "name": "stdout",
          "text": [
            "count     30478\n",
            "unique      511\n",
            "top         150\n",
            "freq       1481\n",
            "Name: Price, dtype: object\n",
            "['145' '37' '28' '199' '549' '149' '250' '90' '270' '290' '170' '59' '49'\n",
            " '68' '285' '75' '100' '150' '700' '125' '175' '40' '89' '95' '99' '499'\n",
            " '120' '79' '110' '180' '143' '230' '350' '135' '85' '60' '70' '55' '44'\n",
            " '200' '165' '115' '74' '84' '129' '50' '185' '80' '190' '140' '45' '65'\n",
            " '225' '600' '109' '1,990' '73' '240' '72' '105' '155' '160' '42' '132'\n",
            " '117' '295' '280' '159' '107' '69' '239' '220' '399' '130' '375' '585'\n",
            " '275' '139' '260' '35' '133' '300' '289' '179' '98' '195' '29' '27' '39'\n",
            " '249' '192' '142' '169' '1,000' '131' '138' '113' '122' '329' '101' '475'\n",
            " '238' '272' '308' '126' '235' '315' '248' '128' '56' '207' '450' '215'\n",
            " '210' '385' '445' '136' '247' '118' '77' '76' '92' '198' '205' '299'\n",
            " '222' '245' '104' '153' '349' '114' '320' '292' '226' '420' '500' '325'\n",
            " '307' '78' '265' '108' '123' '189' '32' '58' '86' '219' '800' '335' '63'\n",
            " '229' '425' '67' '87' '1,200' '158' '650' '234' '310' '695' '400' '166'\n",
            " '119' '62' '168' '340' '479' '43' '395' '144' '52' '47' '529' '187' '209'\n",
            " '233' '82' '269' '163' '172' '305' '156' '550' '435' '137' '124' '48'\n",
            " '279' '330' '5,000' '134' '378' '97' '277' '64' '193' '147' '186' '264'\n",
            " '30' '3,000' '112' '94' '379' '57' '415' '236' '410' '214' '88' '66' '71'\n",
            " '171' '157' '545' '1,500' '83' '96' '1,800' '81' '188' '380' '255' '505'\n",
            " '54' '33' '174' '93' '740' '640' '1,300' '440' '599' '357' '1,239' '495'\n",
            " '127' '5,999' '178' '348' '152' '242' '183' '253' '750' '259' '365' '273'\n",
            " '197' '397' '103' '389' '355' '559' '38' '203' '999' '141' '162' '333'\n",
            " '698' '46' '360' '895' '10' '41' '206' '281' '449' '388' '212' '102'\n",
            " '201' '2,750' '4,750' '432' '675' '167' '390' '298' '339' '194' '302'\n",
            " '211' '595' '191' '53' '361' '480' '8,000' '4,500' '459' '997' '345'\n",
            " '216' '218' '111' '735' '276' '91' '490' '850' '398' '36' '775' '267'\n",
            " '625' '336' '2,500' '176' '725' '3,750' '469' '106' '460' '287' '575'\n",
            " '227' '263' '25' '228' '208' '177' '880' '148' '116' '685' '470' '217'\n",
            " '164' '61' '645' '699' '405' '252' '319' '268' '419' '343' '525' '311'\n",
            " '840' '154' '294' '950' '409' '184' '257' '204' '241' '2,000' '412' '121'\n",
            " '288' '196' '900' '647' '524' '1,750' '309' '510' '1,495' '1,700' '799'\n",
            " '383' '372' '492' '327' '1,999' '656' '224' '173' '875' '1,170' '795'\n",
            " '690' '146' '465' '1,100' '151' '274' '429' '825' '282' '256' '1,111'\n",
            " '620' '271' '161' '51' '855' '579' '1,174' '430' '20' '899' '649' '485'\n",
            " '181' '455' '4,000' '243' '342' '590' '560' '374' '437' '232' '359' '985'\n",
            " '31' '244' '254' '723' '237' '428' '370' '34' '1,400' '580' '2,520' '221'\n",
            " '749' '1,600' '2,695' '306' '202' '680' '570' '520' '223' '2,295' '213'\n",
            " '1,065' '346' '24' '286' '296' '266' '26' '995' '1,368' '393' '182' '635'\n",
            " '258' '780' '589' '347' '1,250' '1,350' '446' '3,200' '1,050' '1,650'\n",
            " '1,550' '975' '323' '6,500' '2,499' '1,850' '2,250' '715' '461' '540'\n",
            " '356' '439' '384' '569' '1,900' '22' '785' '626' '830' '318' '444' '321'\n",
            " '401' '1,499' '888' '369' '770' '386' '366' '344' '630' '313' '597' '262'\n",
            " '509' '10,000' '278' '312' '789' '1,195' '422' '21' '765' '3,500' '945'\n",
            " '326' '3,100' '2,486' '3,390' '1,356' '2,599' '472' '454' '328' '396'\n",
            " '291']\n"
          ]
        }
      ]
    },
    {
      "cell_type": "code",
      "source": [
        "# I believe that the commas in values over 1,000 are making this variable get treated as a string\n",
        "\n",
        "# So, I removed the commas\n",
        "airbnb['Price'] = airbnb['Price'].str.replace(',', '')\n",
        "# and converted the variable to numeric\n",
        "airbnb['Price'] = pd.to_numeric(airbnb['Price'])"
      ],
      "metadata": {
        "id": "p90UjMpbSHCs"
      },
      "id": "p90UjMpbSHCs",
      "execution_count": 26,
      "outputs": []
    },
    {
      "cell_type": "code",
      "source": [
        "# Then I checked to make sure that the variable was now numeric\n",
        "print(airbnb['Price'].describe(), '\\n')\n",
        "\n",
        "# and I made sure that there wee no null or NA values in the variable\n",
        "print(airbnb['Price'].isnull().sum() + airbnb['Price'].isna().sum())\n",
        "\n",
        "# since there are no null values and since the variable is now numeric, I believe it is fully cleaned!"
      ],
      "metadata": {
        "colab": {
          "base_uri": "https://localhost:8080/"
        },
        "id": "uQhOUVXrSiUj",
        "outputId": "96f838e9-8934-450f-b362-dbef47674714"
      },
      "id": "uQhOUVXrSiUj",
      "execution_count": 28,
      "outputs": [
        {
          "output_type": "stream",
          "name": "stdout",
          "text": [
            "count    30478.000000\n",
            "mean       163.589737\n",
            "std        197.785454\n",
            "min         10.000000\n",
            "25%         80.000000\n",
            "50%        125.000000\n",
            "75%        195.000000\n",
            "max      10000.000000\n",
            "Name: Price, dtype: float64 \n",
            "\n",
            "0\n"
          ]
        }
      ]
    },
    {
      "cell_type": "markdown",
      "source": [
        "2."
      ],
      "metadata": {
        "id": "4CEZozVyUNPk"
      },
      "id": "4CEZozVyUNPk"
    },
    {
      "cell_type": "code",
      "source": [
        "# first I loaded the data\n",
        "sharks = pd.read_csv('./assignment2/data/sharks.csv')"
      ],
      "metadata": {
        "colab": {
          "base_uri": "https://localhost:8080/"
        },
        "id": "yMctBbS7Uit5",
        "outputId": "a06e8339-6d95-4cbe-b129-cd09a2156122"
      },
      "id": "yMctBbS7Uit5",
      "execution_count": 44,
      "outputs": [
        {
          "output_type": "stream",
          "name": "stderr",
          "text": [
            "<ipython-input-44-ca3a298e4d52>:2: DtypeWarning: Columns (10,17,18,19,20,21,24) have mixed types. Specify dtype option on import or set low_memory=False.\n",
            "  sharks = pd.read_csv('./assignment2/data/sharks.csv')\n"
          ]
        }
      ]
    },
    {
      "cell_type": "code",
      "source": [
        "# then I examined the type of the variable\n",
        "print(sharks['Type'].describe(), '\\n')\n",
        "# and the different values it has\n",
        "sharks['Type'].unique()"
      ],
      "metadata": {
        "colab": {
          "base_uri": "https://localhost:8080/"
        },
        "id": "w4sauJz0Uo15",
        "outputId": "82a2bec4-1e7b-40bd-8f46-0c4d191df813"
      },
      "id": "w4sauJz0Uo15",
      "execution_count": 45,
      "outputs": [
        {
          "output_type": "stream",
          "name": "stdout",
          "text": [
            "count           6457\n",
            "unique            12\n",
            "top       Unprovoked\n",
            "freq            4716\n",
            "Name: Type, dtype: object \n",
            "\n"
          ]
        },
        {
          "output_type": "execute_result",
          "data": {
            "text/plain": [
              "array(['Unprovoked', 'Provoked', 'Questionable', 'Watercraft',\n",
              "       'Unconfirmed', 'Unverified', 'Invalid', 'Under investigation',\n",
              "       'Boating', 'Sea Disaster', nan, 'Boat', 'Boatomg'], dtype=object)"
            ]
          },
          "metadata": {},
          "execution_count": 45
        }
      ]
    },
    {
      "cell_type": "code",
      "source": [
        "# Several of the values seem similar, so I'm going to combine groups of similar values into one\n",
        "# First, \"Boat\" will represent the \"Boating\", \"Boat\", and \"Boatomg\" values (I believe that Boatomg is a typo)\n",
        "# \"Unverified\" will represent the \"Unverified\", \"Questionable\", and \"Unconfirmed\" values\n",
        "# I kept \"under investifation\" as its own category, because that indicates that the status of the attack might be updated later,\n",
        "# whereas other \"unconfirmed\" cases might not get investigated\n",
        "# a watercraft could be different enough from boat that I kept it as its own category (a jetki is a watercraft, for ex)\n",
        "\n",
        "def consolodate_attack_type_values(original_value):\n",
        "  if original_value == \"Unconfirmed\" or original_value == \"Questionable\":\n",
        "    return \"Unverified\"\n",
        "  if original_value == \"Boating\" or original_value == \"Boatomg\":\n",
        "    return \"Boat\"\n",
        "  if original_value == \"Under investigation\":\n",
        "    return \"Under Investigation\" # I wanted to make the value name capital to be consistent\n",
        "  return original_value\n",
        "\n",
        "sharks['Type'] = sharks['Type'].apply(consolodate_attack_type_values)"
      ],
      "metadata": {
        "id": "O_80_Si0VI6t"
      },
      "id": "O_80_Si0VI6t",
      "execution_count": 46,
      "outputs": []
    },
    {
      "cell_type": "code",
      "source": [
        "# check that the transformation worked\n",
        "sharks['Type'].unique()"
      ],
      "metadata": {
        "colab": {
          "base_uri": "https://localhost:8080/"
        },
        "id": "kfAEe93cXH-p",
        "outputId": "ccc604bc-b232-4791-a550-f2c8a59f8bd9"
      },
      "id": "kfAEe93cXH-p",
      "execution_count": 47,
      "outputs": [
        {
          "output_type": "execute_result",
          "data": {
            "text/plain": [
              "array(['Unprovoked', 'Provoked', 'Unverified', 'Watercraft', 'Invalid',\n",
              "       'Under Investigation', 'Boat', 'Sea Disaster', nan], dtype=object)"
            ]
          },
          "metadata": {},
          "execution_count": 47
        }
      ]
    },
    {
      "cell_type": "code",
      "source": [
        "# see how many observations do not have an attack type\n",
        "sharks['Type'].isna().sum()"
      ],
      "metadata": {
        "colab": {
          "base_uri": "https://localhost:8080/"
        },
        "id": "vnDA9jO4YBqz",
        "outputId": "60c1ac82-9242-4215-bf48-b378a538620a"
      },
      "id": "vnDA9jO4YBqz",
      "execution_count": 54,
      "outputs": [
        {
          "output_type": "execute_result",
          "data": {
            "text/plain": [
              "5"
            ]
          },
          "metadata": {},
          "execution_count": 54
        }
      ]
    },
    {
      "cell_type": "code",
      "source": [
        "# there are only five observations with a nan value, so it would make sense to simply remove them from the dataset\n",
        "# however, I want to practice other ways of dealing with nan values\n",
        "# since I don't know why the Type variable is missing for these observations, I will create a dummy variable to show which observations are missing it\n",
        "\n",
        "sharks['Type_NAN'] = sharks['Type'].isna()"
      ],
      "metadata": {
        "id": "XNj5LOpAYNYi"
      },
      "id": "XNj5LOpAYNYi",
      "execution_count": 55,
      "outputs": []
    },
    {
      "cell_type": "code",
      "source": [
        "sharks[\"Type_NAN\"].describe()"
      ],
      "metadata": {
        "colab": {
          "base_uri": "https://localhost:8080/"
        },
        "id": "vWDDOERxY7IU",
        "outputId": "d96fba9e-cb2c-412a-9be4-a6eae6dc8ce7"
      },
      "id": "vWDDOERxY7IU",
      "execution_count": 56,
      "outputs": [
        {
          "output_type": "execute_result",
          "data": {
            "text/plain": [
              "count      6462\n",
              "unique        2\n",
              "top       False\n",
              "freq       6457\n",
              "Name: Type_NAN, dtype: object"
            ]
          },
          "metadata": {},
          "execution_count": 56
        }
      ]
    },
    {
      "cell_type": "code",
      "source": [
        "# Now I have dealt with missing values and have consolidated like values, so I think this variable is ready to use"
      ],
      "metadata": {
        "id": "mmtSOO29ZBdK"
      },
      "id": "mmtSOO29ZBdK",
      "execution_count": null,
      "outputs": []
    },
    {
      "cell_type": "markdown",
      "source": [
        "3."
      ],
      "metadata": {
        "id": "CkJxbw_MZQ6m"
      },
      "id": "CkJxbw_MZQ6m"
    },
    {
      "cell_type": "code",
      "source": [
        "# load data -- this code modified from lecture notes\n",
        "url = 'http://www.vcsc.virginia.gov/pretrialdataproject/October%202017%20Cohort_Virginia%20Pretrial%20Data%20Project_Deidentified%20FINAL%20Update_10272021.csv'\n",
        "pretrial = pd.read_csv(url,low_memory=False) # Pandas downloads and loads the .csv file for you"
      ],
      "metadata": {
        "id": "Vx0HmkHmZQcy"
      },
      "id": "Vx0HmkHmZQcy",
      "execution_count": 16,
      "outputs": []
    },
    {
      "cell_type": "code",
      "source": [
        "# inspect the relevant variable\n",
        "print(pretrial['WhetherDefendantWasReleasedPretrial'].describe(), '\\n')\n",
        "print(pretrial['WhetherDefendantWasReleasedPretrial'].unique(), '\\n')\n",
        "print(pretrial['WhetherDefendantWasReleasedPretrial'].value_counts())"
      ],
      "metadata": {
        "colab": {
          "base_uri": "https://localhost:8080/"
        },
        "id": "eF81PEt0Z5DI",
        "outputId": "17b0b86f-1a40-4713-8159-25489e571f33"
      },
      "id": "eF81PEt0Z5DI",
      "execution_count": 17,
      "outputs": [
        {
          "output_type": "stream",
          "name": "stdout",
          "text": [
            "count    22986.000000\n",
            "mean         0.845428\n",
            "std          0.477276\n",
            "min          0.000000\n",
            "25%          1.000000\n",
            "50%          1.000000\n",
            "75%          1.000000\n",
            "max          9.000000\n",
            "Name: WhetherDefendantWasReleasedPretrial, dtype: float64 \n",
            "\n",
            "[9 0 1] \n",
            "\n",
            "1    19154\n",
            "0     3801\n",
            "9       31\n",
            "Name: WhetherDefendantWasReleasedPretrial, dtype: int64\n"
          ]
        }
      ]
    },
    {
      "cell_type": "code",
      "source": [
        "# first I'm going to rename this variable, because the current name is so long that it's unwieldy\n",
        "missing_values = pretrial['WhetherDefendantWasReleasedPretrial'] == 9\n",
        "pretrial = pretrial.rename(columns = {'WhetherDefendantWasReleasedPretrial':'Released'})"
      ],
      "metadata": {
        "id": "Rg3JcV-1VCEq"
      },
      "id": "Rg3JcV-1VCEq",
      "execution_count": 18,
      "outputs": []
    },
    {
      "cell_type": "code",
      "source": [
        "# and I'll check that the rename worked:\n",
        "# first, check that the old column name no longer exists\n",
        "print('WhetherDefendantWasReleasedPretrial' in pretrial.columns)\n",
        "# then check that the variable appears under its new name\n",
        "print(pretrial['Released'].describe())"
      ],
      "metadata": {
        "colab": {
          "base_uri": "https://localhost:8080/"
        },
        "id": "voqYNaY-WGmD",
        "outputId": "cb52be10-3232-44ce-fcfb-f1873e78cc93"
      },
      "id": "voqYNaY-WGmD",
      "execution_count": 19,
      "outputs": [
        {
          "output_type": "stream",
          "name": "stdout",
          "text": [
            "False\n",
            "count    22986.000000\n",
            "mean         0.845428\n",
            "std          0.477276\n",
            "min          0.000000\n",
            "25%          1.000000\n",
            "50%          1.000000\n",
            "75%          1.000000\n",
            "max          9.000000\n",
            "Name: Released, dtype: float64\n"
          ]
        }
      ]
    },
    {
      "cell_type": "code",
      "source": [
        "# because 9 is the missing value code, I will replace all the 9s in the dataset with np.nan\n",
        "missing_values = pretrial['Released'] == 9\n",
        "pretrial.loc[missing_values, 'Released'] = np.nan\n",
        "# I'll then confirm that the replacement worked\n",
        "print(pretrial['Released'].value_counts())"
      ],
      "metadata": {
        "colab": {
          "base_uri": "https://localhost:8080/"
        },
        "outputId": "6f05873f-6481-46d3-97b9-b55e47e8f3a6",
        "id": "qJCp93EdVRou"
      },
      "execution_count": 20,
      "outputs": [
        {
          "output_type": "stream",
          "name": "stdout",
          "text": [
            "1.0    19154\n",
            "0.0     3801\n",
            "Name: Released, dtype: int64\n"
          ]
        }
      ],
      "id": "qJCp93EdVRou"
    },
    {
      "cell_type": "code",
      "source": [
        "# finally, I'll make a dummy value to encode which rows have missing data for the 'WhetherDefendantWasReleasedPretrial' variable\n",
        "pretrial['Released_NAN'] = pretrial['Released'].isna()\n",
        "print(pretrial['Released_NAN'].value_counts())"
      ],
      "metadata": {
        "colab": {
          "base_uri": "https://localhost:8080/"
        },
        "id": "XvkYSusOUyJo",
        "outputId": "584daa54-02fc-4f14-d1d1-34b5c6dd08d5"
      },
      "id": "XvkYSusOUyJo",
      "execution_count": 21,
      "outputs": [
        {
          "output_type": "stream",
          "name": "stdout",
          "text": [
            "False    22955\n",
            "True        31\n",
            "Name: Released_NAN, dtype: int64\n"
          ]
        }
      ]
    },
    {
      "cell_type": "markdown",
      "source": [
        "4.\n",
        "Missing values, not at random: For the pretrial data covered in the lecture, clean the ImposedSentenceAllChargeInContactEvent variable as well as you can, and explain the choices you make. (Hint: Look at the SentenceTypeAllChargesAtConvictionInContactEvent variable.)"
      ],
      "metadata": {
        "id": "iiaxlfgEW-Jr"
      },
      "id": "iiaxlfgEW-Jr"
    },
    {
      "cell_type": "code",
      "source": [
        "# first, I examined the imposed sentence variable and saw that it was of type \"object\"\n",
        "print(pretrial['ImposedSentenceAllChargeInContactEvent'].describe(), '\\n')\n",
        "# so, I converted it to a numeric type and examined it\n",
        "pretrial['ImposedSentenceAllChargeInContactEvent'] = pd.to_numeric(pretrial['ImposedSentenceAllChargeInContactEvent'], errors='coerce')\n",
        "print(pretrial['ImposedSentenceAllChargeInContactEvent'].describe(), '\\n')\n",
        "print(pretrial['ImposedSentenceAllChargeInContactEvent'].value_counts())"
      ],
      "metadata": {
        "colab": {
          "base_uri": "https://localhost:8080/"
        },
        "id": "jT0A3ZJxW-tn",
        "outputId": "3c563cfd-44d6-4b34-c691-2ef41b3a5729"
      },
      "id": "jT0A3ZJxW-tn",
      "execution_count": 22,
      "outputs": [
        {
          "output_type": "stream",
          "name": "stdout",
          "text": [
            "count     22986\n",
            "unique      484\n",
            "top            \n",
            "freq       9053\n",
            "Name: ImposedSentenceAllChargeInContactEvent, dtype: object \n",
            "\n",
            "count    13933.000000\n",
            "mean        19.899671\n",
            "std         63.571627\n",
            "min          0.000000\n",
            "25%          0.000000\n",
            "50%          2.000000\n",
            "75%         12.000000\n",
            "max       2208.000000\n",
            "Name: ImposedSentenceAllChargeInContactEvent, dtype: float64 \n",
            "\n",
            "0.000000     4953\n",
            "12.000000    1404\n",
            "0.985626     1051\n",
            "6.000000      809\n",
            "3.000000      787\n",
            "             ... \n",
            "49.971253       1\n",
            "57.034908       1\n",
            "79.926078       1\n",
            "42.164271       1\n",
            "1.657084        1\n",
            "Name: ImposedSentenceAllChargeInContactEvent, Length: 483, dtype: int64\n"
          ]
        }
      ]
    },
    {
      "cell_type": "code",
      "source": [
        "# I can see that there are a lot of sentences of zero months, but this might be due to several reasons\n",
        "# I'll create a dummy variable for when there is no sentence\n",
        "pretrial[\"Sentence_NA\"] = pretrial[\"ImposedSentenceAllChargeInContactEvent\"] == 0"
      ],
      "metadata": {
        "id": "xvu2Hb6Dz_67"
      },
      "id": "xvu2Hb6Dz_67",
      "execution_count": 24,
      "outputs": []
    },
    {
      "cell_type": "code",
      "source": [
        "# then, I'll cross-tabulate this dummy variable with the SentenceType variable\n",
        "#pd.crosstab(pretrial['ImposedSentenceAllChargeInContactEvent'], pretrial['SentenceTypeAllChargesAtConvictionInContactEvent'])\n",
        "\n",
        "print(pretrial['SentenceTypeAllChargesAtConvictionInContactEvent'].unique())"
      ],
      "metadata": {
        "id": "ToWNO8nO0vY0"
      },
      "id": "ToWNO8nO0vY0",
      "execution_count": 25,
      "outputs": []
    },
    {
      "cell_type": "markdown",
      "id": "c11bcd96-2834-41a4-80fe-d354b4277fd9",
      "metadata": {
        "id": "c11bcd96-2834-41a4-80fe-d354b4277fd9"
      },
      "source": [
        "**Q3.** This question provides some practice doing exploratory data analysis and visualization.\n",
        "\n",
        "The \"relevant\" variables for this question are:\n",
        "  - `level` - Level of institution (4-year, 2-year)\n",
        "  - `aid_value` - The average amount of student aid going to undergraduate recipients\n",
        "  - `control` - Public, Private not-for-profit, Private for-profit\n",
        "  - `grad_100_value` - percentage of first-time, full-time, degree-seeking undergraduates who complete a degree or certificate program within 100 percent of expected time (bachelor's-seeking group at 4-year institutions)\n",
        "\n",
        "1. Load the `./data/college_completion.csv` data with Pandas.\n",
        "2. What are are the dimensions of the data? How many observations are there? What are the variables included? Use `.head()` to examine the first few rows of data.\n",
        "3. Cross tabulate `control` and `level`. Describe the patterns you see.\n",
        "4. For `grad_100_value`, create a histogram, kernel density plot, boxplot, and statistical description.\n",
        "5. For `grad_100_value`, create a grouped kernel density plot by `control` and by `level`. Describe what you see. Use `groupby` and `.describe` to make grouped calculations of statistical descriptions of `grad_100_value` by `level` and `control`. Which institutions appear to have the best graduation rates?\n",
        "6. Create a new variable, `df['levelXcontrol']=df['level']+', '+df['control']` that interacts level and control. Make a grouped kernel density plot. Which institutions appear to have the best graduation rates?\n",
        "7. Make a kernel density plot of `aid_value`. Notice that your graph is \"bi-modal\", having two little peaks that represent locally most common values. Now group your graph by `level` and `control`. What explains the bi-modal nature of the graph? Use `groupby` and `.describe` to make grouped calculations of statistical descriptions of `aid_value` by `level` and `control`.\n",
        "8. Make a scatterplot of `grad_100_value` by `aid_value`. Describe what you see. Now make the same plot, grouping by `level` and then `control`. Describe what you see. For which kinds of institutions does aid seem to increase graduation rates?"
      ]
    },
    {
      "cell_type": "markdown",
      "id": "98d34a3b-c21d-4dc9-a8d2-fb7686804ceb",
      "metadata": {
        "id": "98d34a3b-c21d-4dc9-a8d2-fb7686804ceb"
      },
      "source": [
        "**Q4.** This question uses the Airbnb data to practice making visualizations.\n",
        "\n",
        "  1. Load the `./data/airbnb_hw.csv` data with Pandas. You should have cleaned the `Price` variable in question 2, and you'll need it later for this question.\n",
        "  2. What are are the dimensions of the data? How many observations are there? What are the variables included? Use `.head()` to examine the first few rows of data.\n",
        "  3. Cross tabulate `Room Type` and `Property Type`. What patterns do you see in what kinds of rentals are available? For which kinds of properties are private rooms more common than renting the entire property?\n",
        "  4. For `Price`, make a histogram, kernel density, box plot, and a statistical description of the variable. Are the data badly scaled? Are there many outliers? Use `log` to transform price into a new variable, `price_log`, and take these steps again.\n",
        "  5. Make a scatterplot of `price_log` and `Beds`. Describe what you see. Use `.groupby()` to compute a desciption of `Price` conditional on/grouped by the number of beds. Describe any patterns you see in the average price and standard deviation in prices.\n",
        "  6. Make a scatterplot of `price_log` and `Beds`, but color the graph by `Room Type` and `Property Type`. What patterns do you see? Compute a description of `Price` conditional on `Room Type` and `Property Type`. Which Room Type and Property Type have the highest prices on average? Which have the highest standard deviation? Does the mean or median appear to be a more reliable estimate of central tendency, and explain why?\n",
        "  7. We've looked a bit at this `price_log` and `Beds` scatterplot. Use seaborn to make a `jointplot` with `kind=hex`. Where are the data actually distributed? How does it affect the way you think about the plots in 5 and 6?"
      ]
    },
    {
      "cell_type": "markdown",
      "id": "649494cd-cfd6-4f80-992a-9994fc19e1d5",
      "metadata": {
        "id": "649494cd-cfd6-4f80-992a-9994fc19e1d5"
      },
      "source": [
        "**Q5.** Many important datasets contain a race variable, typically limited to a handful of values often including Black, White, Asian, Latino, and Indigenous. This question looks at data gathering efforts on this variable by the U.S. Federal government.\n",
        "\n",
        "1. How did the most recent US Census gather data on race?\n",
        "2. Why do we gather these data? What role do these kinds of data play in politics and society? Why does data quality matter?\n",
        "3. Please provide a constructive criticism of how the Census was conducted: What was done well? What do you think was missing? How should future large scale surveys be adjusted to best reflect the diversity of the population? Could some of the Census' good practices be adopted more widely to gather richer and more useful data?\n",
        "4. How did the Census gather data on sex and gender? Please provide a similar constructive criticism of their practices.\n",
        "5. When it comes to cleaning data, what concerns do you have about protected characteristics like sex, gender, sexual identity, or race? What challenges can you imagine arising when there are missing values? What good or bad practices might people adopt, and why?\n",
        "6. Suppose someone invented an algorithm to impute values for protected characteristics like race, gender, sex, or sexuality. What kinds of concerns would you have?"
      ]
    },
    {
      "cell_type": "markdown",
      "id": "2f38f2fd-6381-481d-bba9-017f3d363426",
      "metadata": {
        "id": "2f38f2fd-6381-481d-bba9-017f3d363426"
      },
      "source": [
        "**Q6.** Open the `./data/CBO_data.pdf` file. This contains tax data for 2019, explaining where the money comes from that the U.S. Federal Government Spends in terms of taxation on individuals/families and payroll taxes (the amount that your employer pays in taxes on your wages).\n",
        "\n",
        "For some context, the Federal government ultimately spent about $4.4 trillion in 2019, which was 21% of GDP (the total monetary value of all goods and services produced within the United States). Individual Income Taxes is the amount individuals pay on their wages to the Federal government, Corporate Income Taxes is the taxes individuals pay on capital gains from investment when they sell stock or other financial instruments, Payroll Taxes is the tax your employer pays on your wages, Excises and Customs Duties are taxes on goods or services like sin taxes on cigarettes or alcohol, and Estate and Gift Taxes are taxes paid on transfers of wealth to other people.\n",
        "\n",
        "1. Get the Millions of Families and Billions of Dollars data into a .csv file and load it with Pandas.\n",
        "2. Create a bar plot of individual income taxes by income decile. Explain what the graph shows. Why are some values negative?\n",
        "3. Create a bar plot of Total Federal Taxes by income decile. Which deciles are paying net positive amounts, and which are paying net negative amounts?\n",
        "4. Create a stacked bar plot for which Total Federal Taxes is grouped by Individual Income Taxes, Payroll Taxes, Excises and Customs Duties, and Estate and Gift Taxes. How does the share of taxes paid vary across the adjusted income deciles? (Hint: Are these the kind of data you want to melt?)\n",
        "5. Below the Total line for Millions of Families and Billions of Dollars, there are data for the richest of the richest families. Plot this alongside the bars for the deciles above the Total line. Describe your results.\n",
        "6. Get the Percent Distribution data into a .csv file and load it with Pandas. Create a bar graph of Total Federal Taxes by income decile.\n",
        "7. A tax system is progressive if higher-income and wealthier individuals pay more than lower-income and less wealthy individuals, and it is regressive if the opposite is true. Is the U.S. tax system progressive in terms of amount paid? In terms of the percentage of the overall total?\n",
        "8. Do the rich pay enough in taxes? Defend your answer."
      ]
    }
  ],
  "metadata": {
    "kernelspec": {
      "display_name": "Python 3 (ipykernel)",
      "language": "python",
      "name": "python3"
    },
    "language_info": {
      "codemirror_mode": {
        "name": "ipython",
        "version": 3
      },
      "file_extension": ".py",
      "mimetype": "text/x-python",
      "name": "python",
      "nbconvert_exporter": "python",
      "pygments_lexer": "ipython3",
      "version": "3.10.4"
    },
    "colab": {
      "provenance": []
    }
  },
  "nbformat": 4,
  "nbformat_minor": 5
}